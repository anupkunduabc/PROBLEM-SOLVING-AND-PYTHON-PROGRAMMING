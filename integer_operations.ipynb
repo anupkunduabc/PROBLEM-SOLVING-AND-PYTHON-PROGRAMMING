{
  "nbformat": 4,
  "nbformat_minor": 0,
  "metadata": {
    "colab": {
      "provenance": [],
      "authorship_tag": "ABX9TyMgj8rfmToqePaykCjFotcY",
      "include_colab_link": true
    },
    "kernelspec": {
      "name": "python3",
      "display_name": "Python 3"
    },
    "language_info": {
      "name": "python"
    }
  },
  "cells": [
    {
      "cell_type": "markdown",
      "metadata": {
        "id": "view-in-github",
        "colab_type": "text"
      },
      "source": [
        "<a href=\"https://colab.research.google.com/github/anupkunduabc/PROBLEM-SOLVING-AND-PYTHON-PROGRAMMING/blob/main/integer_operations.ipynb\" target=\"_parent\"><img src=\"https://colab.research.google.com/assets/colab-badge.svg\" alt=\"Open In Colab\"/></a>"
      ]
    },
    {
      "cell_type": "code",
      "execution_count": null,
      "metadata": {
        "id": "jS3BE5fxDRGa"
      },
      "outputs": [],
      "source": [
        "# Python Integer Operations Demonstration\n",
        "\n",
        "x, y = 12, 5\n",
        "\n",
        "print(\"Initial values: x =\", x, \", y =\", y)\n",
        "\n",
        "# 1. Arithmetic Operations\n",
        "print(\"\\n--- Arithmetic Operations ---\")\n",
        "print(\"Addition (x + y):\", x + y)\n",
        "print(\"Subtraction (x - y):\", x - y)\n",
        "print(\"Multiplication (x * y):\", x * y)\n",
        "print(\"Division (x / y):\", x / y)      # Result is float\n",
        "print(\"Floor Division (x // y):\", x // y)  # Integer division\n",
        "print(\"Modulus (x % y):\", x % y)\n",
        "print(\"Exponentiation (x ** y):\", x ** y)\n",
        "\n",
        "# 2. Comparison (Relational) Operations\n",
        "print(\"\\n--- Comparison Operations ---\")\n",
        "print(\"x == y:\", x == y)\n",
        "print(\"x != y:\", x != y)\n",
        "print(\"x > y:\", x > y)\n",
        "print(\"x < y:\", x < y)\n",
        "print(\"x >= y:\", x >= y)\n",
        "print(\"x <= y:\", x <= y)\n",
        "\n",
        "# 3. Logical Operations (using integers as Boolean)\n",
        "# In Python, 0 = False, non-zero = True\n",
        "print(\"\\n--- Logical Operations ---\")\n",
        "print(\"x and y:\", x and y)   # returns y if x != 0\n",
        "print(\"x or y:\", x or y)     # returns x if x != 0\n",
        "print(\"not x:\", not x)       # False if x != 0\n",
        "\n",
        "# 5. Assignment Operations\n",
        "print(\"\\n--- Assignment Operations ---\")\n",
        "z = 10\n",
        "print(\"z =\", z)\n",
        "z += 5\n",
        "print(\"z += 5:\", z)\n",
        "z -= 3\n",
        "print(\"z -= 3:\", z)\n",
        "z *= 2\n",
        "print(\"z *= 2:\", z)\n",
        "z //= 4\n",
        "print(\"z //= 4:\", z)\n",
        "z %= 3\n",
        "print(\"z %= 3:\", z)\n",
        "z **= 2\n",
        "print(\"z **= 2:\", z)\n",
        "\n",
        "# 6. Miscellaneous: Absolute Value, Power, Divmod\n",
        "print(\"\\n--- Miscellaneous Operations ---\")\n",
        "print(\"abs(-15):\", abs(-15))\n",
        "print(\"pow(2, 5):\", pow(2, 5))    # Equivalent to 2**5\n",
        "print(\"divmod(17, 3):\", divmod(17, 3))  # (quotient, remainder)\n",
        "\n"
      ]
    }
  ]
}