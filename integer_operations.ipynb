{
  "nbformat": 4,
  "nbformat_minor": 0,
  "metadata": {
    "colab": {
      "provenance": [],
      "authorship_tag": "ABX9TyMfRx7/hlSzYM0hACA4sdNM",
      "include_colab_link": true
    },
    "kernelspec": {
      "name": "python3",
      "display_name": "Python 3"
    },
    "language_info": {
      "name": "python"
    }
  },
  "cells": [
    {
      "cell_type": "markdown",
      "metadata": {
        "id": "view-in-github",
        "colab_type": "text"
      },
      "source": [
        "<a href=\"https://colab.research.google.com/github/anupkunduabc/PROBLEM-SOLVING-AND-PYTHON-PROGRAMMING/blob/main/integer_operations.ipynb\" target=\"_parent\"><img src=\"https://colab.research.google.com/assets/colab-badge.svg\" alt=\"Open In Colab\"/></a>"
      ]
    },
    {
      "cell_type": "markdown",
      "source": [
        "# **Python Integer Operations Demonstration**\n",
        "\n",
        "---\n",
        "\n",
        "\n",
        "\n",
        "# Created by\n",
        "\n",
        "---\n",
        "\n",
        "\n",
        "#**Dr. Anup Kundu,**\n",
        "##Assistant Professor, Chemical Engineering,\n",
        "## Sri Sivasubramaniya Nadar College of Engineering, Chennai\n",
        "\n",
        "\n",
        "---\n"
      ],
      "metadata": {
        "id": "oG8noWrjm2-h"
      }
    },
    {
      "cell_type": "code",
      "source": [
        "x, y = 12, 5\n",
        "print(\"Initial values: x =\", x, \", y =\", y)"
      ],
      "metadata": {
        "id": "dnGzK_Edm6C_",
        "outputId": "500509b0-c427-4198-ec89-5d1c4618380c",
        "colab": {
          "base_uri": "https://localhost:8080/"
        }
      },
      "execution_count": 1,
      "outputs": [
        {
          "output_type": "stream",
          "name": "stdout",
          "text": [
            "Initial values: x = 12 , y = 5\n"
          ]
        }
      ]
    },
    {
      "cell_type": "markdown",
      "source": [
        "# 1. Arithmetic Operations"
      ],
      "metadata": {
        "id": "oKtF5x0km8-g"
      }
    },
    {
      "cell_type": "code",
      "source": [
        "print(\"\\n--- Arithmetic Operations ---\")\n",
        "print(\"Addition (x + y):\", x + y)\n",
        "print(\"Subtraction (x - y):\", x - y)\n",
        "print(\"Multiplication (x * y):\", x * y)\n",
        "print(\"Division (x / y):\", x / y)      # Result is float\n",
        "print(\"Floor Division (x // y):\", x // y)  # Integer division\n",
        "print(\"Modulus (x % y):\", x % y)\n",
        "print(\"Exponentiation (x ** y):\", x ** y)"
      ],
      "metadata": {
        "id": "Q2b_bmijnC04",
        "outputId": "f5884282-eb3e-4253-ef74-8f589b896bb7",
        "colab": {
          "base_uri": "https://localhost:8080/"
        }
      },
      "execution_count": 2,
      "outputs": [
        {
          "output_type": "stream",
          "name": "stdout",
          "text": [
            "\n",
            "--- Arithmetic Operations ---\n",
            "Addition (x + y): 17\n",
            "Subtraction (x - y): 7\n",
            "Multiplication (x * y): 60\n",
            "Division (x / y): 2.4\n",
            "Floor Division (x // y): 2\n",
            "Modulus (x % y): 2\n",
            "Exponentiation (x ** y): 248832\n"
          ]
        }
      ]
    },
    {
      "cell_type": "markdown",
      "source": [
        "# 2. Comparison (Relational) Operations"
      ],
      "metadata": {
        "id": "F4tANFyanHm5"
      }
    },
    {
      "cell_type": "code",
      "source": [
        "print(\"\\n--- Comparison Operations ---\")\n",
        "print(\"x == y:\", x == y)\n",
        "print(\"x != y:\", x != y)\n",
        "print(\"x > y:\", x > y)\n",
        "print(\"x < y:\", x < y)\n",
        "print(\"x >= y:\", x >= y)\n",
        "print(\"x <= y:\", x <= y)"
      ],
      "metadata": {
        "id": "AvjzYKfWnKDe",
        "outputId": "39cbbd51-530c-4ba2-ab1f-3e90aded01c3",
        "colab": {
          "base_uri": "https://localhost:8080/"
        }
      },
      "execution_count": 3,
      "outputs": [
        {
          "output_type": "stream",
          "name": "stdout",
          "text": [
            "\n",
            "--- Comparison Operations ---\n",
            "x == y: False\n",
            "x != y: True\n",
            "x > y: True\n",
            "x < y: False\n",
            "x >= y: True\n",
            "x <= y: False\n"
          ]
        }
      ]
    },
    {
      "cell_type": "markdown",
      "source": [
        "# 3. Logical Operations (using integers as Boolean)\n",
        "# In Python, 0 = False, non-zero = True"
      ],
      "metadata": {
        "id": "YK-6VhHVnM34"
      }
    },
    {
      "cell_type": "code",
      "source": [
        "print(\"\\n--- Logical Operations ---\")\n",
        "print(\"x and y:\", x and y)   # returns y if x != 0\n",
        "print(\"x or y:\", x or y)     # returns x if x != 0\n",
        "print(\"not x:\", not x)       # False if x != 0"
      ],
      "metadata": {
        "id": "DC6dal-gnQ2I",
        "outputId": "565dfa85-50b3-4734-c2e5-e1a570f90d1e",
        "colab": {
          "base_uri": "https://localhost:8080/"
        }
      },
      "execution_count": 4,
      "outputs": [
        {
          "output_type": "stream",
          "name": "stdout",
          "text": [
            "\n",
            "--- Logical Operations ---\n",
            "x and y: 5\n",
            "x or y: 12\n",
            "not x: False\n"
          ]
        }
      ]
    },
    {
      "cell_type": "markdown",
      "source": [
        "# 5. Assignment Operations"
      ],
      "metadata": {
        "id": "PVr9ZZQgnT9o"
      }
    },
    {
      "cell_type": "code",
      "source": [
        "print(\"\\n--- Assignment Operations ---\")\n",
        "z = 10\n",
        "print(\"z =\", z)\n",
        "z += 5\n",
        "print(\"z += 5:\", z)\n",
        "z -= 3\n",
        "print(\"z -= 3:\", z)\n",
        "z *= 2\n",
        "print(\"z *= 2:\", z)\n",
        "z //= 4\n",
        "print(\"z //= 4:\", z)\n",
        "z %= 3\n",
        "print(\"z %= 3:\", z)\n",
        "z **= 2\n",
        "print(\"z **= 2:\", z)"
      ],
      "metadata": {
        "id": "JDkchRcUnZDY",
        "outputId": "f45ba0a4-d2a3-4412-c9b6-e2d83a61c5ce",
        "colab": {
          "base_uri": "https://localhost:8080/"
        }
      },
      "execution_count": 5,
      "outputs": [
        {
          "output_type": "stream",
          "name": "stdout",
          "text": [
            "\n",
            "--- Assignment Operations ---\n",
            "z = 10\n",
            "z += 5: 15\n",
            "z -= 3: 12\n",
            "z *= 2: 24\n",
            "z //= 4: 6\n",
            "z %= 3: 0\n",
            "z **= 2: 0\n"
          ]
        }
      ]
    },
    {
      "cell_type": "markdown",
      "source": [
        "# 6. Miscellaneous: Absolute Value, Power, Divmod"
      ],
      "metadata": {
        "id": "vnxE-lP5ncBG"
      }
    },
    {
      "cell_type": "code",
      "execution_count": 6,
      "metadata": {
        "id": "jS3BE5fxDRGa",
        "outputId": "e646fd95-c877-43df-ba79-c44684d10b37",
        "colab": {
          "base_uri": "https://localhost:8080/"
        }
      },
      "outputs": [
        {
          "output_type": "stream",
          "name": "stdout",
          "text": [
            "\n",
            "--- Miscellaneous Operations ---\n",
            "abs(-15): 15\n",
            "pow(2, 5): 32\n",
            "divmod(17, 3): (5, 2)\n"
          ]
        }
      ],
      "source": [
        "print(\"\\n--- Miscellaneous Operations ---\")\n",
        "print(\"abs(-15):\", abs(-15))\n",
        "print(\"pow(2, 5):\", pow(2, 5))    # Equivalent to 2**5\n",
        "print(\"divmod(17, 3):\", divmod(17, 3))  # (quotient, remainder)\n"
      ]
    }
  ]
}