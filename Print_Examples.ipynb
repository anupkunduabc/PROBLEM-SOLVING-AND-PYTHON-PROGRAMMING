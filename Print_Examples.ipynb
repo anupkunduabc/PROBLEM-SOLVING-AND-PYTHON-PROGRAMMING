{
  "nbformat": 4,
  "nbformat_minor": 0,
  "metadata": {
    "colab": {
      "provenance": [],
      "authorship_tag": "ABX9TyOApRu/5JXqJfPgRqUTZHNL",
      "include_colab_link": true
    },
    "kernelspec": {
      "name": "python3",
      "display_name": "Python 3"
    },
    "language_info": {
      "name": "python"
    }
  },
  "cells": [
    {
      "cell_type": "markdown",
      "metadata": {
        "id": "view-in-github",
        "colab_type": "text"
      },
      "source": [
        "<a href=\"https://colab.research.google.com/github/anupkunduabc/PROBLEM-SOLVING-AND-PYTHON-PROGRAMMING/blob/main/Print_Examples.ipynb\" target=\"_parent\"><img src=\"https://colab.research.google.com/assets/colab-badge.svg\" alt=\"Open In Colab\"/></a>"
      ]
    },
    {
      "cell_type": "code",
      "execution_count": null,
      "metadata": {
        "id": "b6ypGXkM25GM"
      },
      "outputs": [],
      "source": [
        "# Python Print Function Demonstrations\n",
        "\n",
        "# 1. Basic Print\n",
        "print(\"Hello, Python!\")  # Output: Hello, Python!\n",
        "print(\"===========================================\")\n",
        "# 2. Printing Multiple Items\n",
        "a, b = 10, 20\n",
        "print(\"Values:\", a, b)  # Output: Values: 10 20\n",
        "print(\"===========================================\")\n",
        "# 3. sep (Separator Option)\n",
        "print(1, 2, 3, 4, sep=\", \")       # Output: 1, 2, 3, 4\n",
        "print(\"2025\", \"09\", \"22\", sep=\"-\")  # Output: 2025-09-22\n",
        "print(\"===========================================\")\n",
        "# 4. end (Ending Option)\n",
        "print(\"Hello\", end=\" \")\n",
        "print(\"World\")  # Output: Hello World\n",
        "print(\"Hi\", end=\"*\")\n",
        "print(\"===========================================\")\n",
        "# 5. f-Strings (Modern Formatting)\n",
        "name = \"Python\"\n",
        "version = 3.11\n",
        "print(f\"Language: {name}, Version: {version}\")\n",
        "# Output: Language: Python, Version: 3.11\n",
        "print(\"===========================================\")\n",
        "# 6. format() Method\n",
        "print(\"Name: {}, Age: {}\".format(\"Alice\", 22))\n",
        "# Output: Name: Alice, Age: 22\n",
        "print(\"x = {0}, y = {1}, x+y = {2}\".format(5, 7, 5+7))\n",
        "# Output: x = 5, y = 7, x+y = 12\n",
        "print(\"===========================================\")\n",
        "# 7. Escape Sequences\n",
        "print(\"Line1\\nLine2\")       # Output: Line1 (newline) Line2\n",
        "print(\"Col1\\tCol2\")         # Output: Col1    Col2\n",
        "print(\"He said: \\\"Hello\\\"\")  # Output: He said: \"Hello\"\n",
        "print(\"===========================================\")\n",
        "# 8. Printing Without Space\n",
        "print(\"A\", \"B\", \"C\", sep=\"\")  # Output: ABC\n",
        "print(\"===========================================\")\n",
        "# 9. Printing with Numbers (Calculation inside print)\n",
        "x, y = 5, 3\n",
        "print(\"Sum =\", x + y)        # Output: Sum = 8\n",
        "print(f\"{x} + {y} = {x + y}\")  # Output: 5 + 3 = 8\n",
        "print(\"===========================================\")"
      ]
    }
  ]
}