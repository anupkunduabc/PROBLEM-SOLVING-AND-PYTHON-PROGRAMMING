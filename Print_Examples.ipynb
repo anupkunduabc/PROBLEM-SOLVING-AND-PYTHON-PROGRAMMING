{
  "nbformat": 4,
  "nbformat_minor": 0,
  "metadata": {
    "colab": {
      "provenance": [],
      "authorship_tag": "ABX9TyPdvmJ5a/4YiAh80/R5tKBk",
      "include_colab_link": true
    },
    "kernelspec": {
      "name": "python3",
      "display_name": "Python 3"
    },
    "language_info": {
      "name": "python"
    }
  },
  "cells": [
    {
      "cell_type": "markdown",
      "metadata": {
        "id": "view-in-github",
        "colab_type": "text"
      },
      "source": [
        "<a href=\"https://colab.research.google.com/github/anupkunduabc/PROBLEM-SOLVING-AND-PYTHON-PROGRAMMING/blob/main/Print_Examples.ipynb\" target=\"_parent\"><img src=\"https://colab.research.google.com/assets/colab-badge.svg\" alt=\"Open In Colab\"/></a>"
      ]
    },
    {
      "cell_type": "markdown",
      "source": [
        "# Python Print Function Demonstrations\n",
        "\n",
        "# 1. Basic Print\n"
      ],
      "metadata": {
        "id": "pTFSodWUInMn"
      }
    },
    {
      "cell_type": "code",
      "source": [
        "print(\"Hello, Python!\")  # Output: Hello, Python!\n",
        "print(\"===========================================\")"
      ],
      "metadata": {
        "colab": {
          "base_uri": "https://localhost:8080/"
        },
        "id": "Ax4GeriYIVI3",
        "outputId": "631488ae-c732-49f5-8574-774a9a35c469"
      },
      "execution_count": 3,
      "outputs": [
        {
          "output_type": "stream",
          "name": "stdout",
          "text": [
            "Hello, Python!\n",
            "===========================================\n"
          ]
        }
      ]
    },
    {
      "cell_type": "markdown",
      "source": [
        "\n",
        "\n",
        "## 2. Printing Multiple Items\n",
        "\n"
      ],
      "metadata": {
        "id": "zvmYj_FLIgnn"
      }
    },
    {
      "cell_type": "code",
      "source": [
        "# 2. Printing Multiple Items\n",
        "a, b = 10, 20\n",
        "print(\"Values:\", a, b)  # Output: Values: 10 20\n",
        "print(\"===========================================\")"
      ],
      "metadata": {
        "colab": {
          "base_uri": "https://localhost:8080/"
        },
        "id": "E7UtZjKxIsVF",
        "outputId": "caf9b1f5-e2a9-46ea-81c0-036105a7b95b"
      },
      "execution_count": 4,
      "outputs": [
        {
          "output_type": "stream",
          "name": "stdout",
          "text": [
            "Values: 10 20\n",
            "===========================================\n"
          ]
        }
      ]
    },
    {
      "cell_type": "markdown",
      "source": [
        "# 3. sep (Separator Option)"
      ],
      "metadata": {
        "id": "8FzZN7MjI56I"
      }
    },
    {
      "cell_type": "code",
      "source": [
        "print(1, 2, 3, 4, sep=\", \")       # Output: 1, 2, 3, 4\n",
        "print(\"2025\", \"09\", \"22\", sep=\"-\")  # Output: 2025-09-22\n",
        "print(\"===========================================\")"
      ],
      "metadata": {
        "colab": {
          "base_uri": "https://localhost:8080/"
        },
        "id": "ZcRzoUJ5I958",
        "outputId": "055eb9f7-0e85-4810-d942-2821efc752c7"
      },
      "execution_count": 5,
      "outputs": [
        {
          "output_type": "stream",
          "name": "stdout",
          "text": [
            "1, 2, 3, 4\n",
            "2025-09-22\n",
            "===========================================\n"
          ]
        }
      ]
    },
    {
      "cell_type": "markdown",
      "source": [
        "# 4. end (Ending Option)"
      ],
      "metadata": {
        "id": "cr6vl6-gJCQf"
      }
    },
    {
      "cell_type": "code",
      "source": [
        "print(\"Hello\", end=\" \")\n",
        "print(\"World\")  # Output: Hello World\n",
        "print(\"Hi\", end=\"*\")\n",
        "print(\"===========================================\")"
      ],
      "metadata": {
        "colab": {
          "base_uri": "https://localhost:8080/"
        },
        "id": "O-YjgSo5JFQg",
        "outputId": "eacde404-3506-4d75-f64b-e681f68acc39"
      },
      "execution_count": 6,
      "outputs": [
        {
          "output_type": "stream",
          "name": "stdout",
          "text": [
            "Hello World\n",
            "Hi*===========================================\n"
          ]
        }
      ]
    },
    {
      "cell_type": "markdown",
      "source": [
        "\n",
        "# 5. f-Strings (Modern Formatting)"
      ],
      "metadata": {
        "id": "DukW_oRzJIh0"
      }
    },
    {
      "cell_type": "code",
      "source": [
        "name = \"Python\"\n",
        "version = 3.11\n",
        "print(f\"Language: {name}, Version: {version}\")\n",
        "# Output: Language: Python, Version: 3.11\n",
        "print(\"===========================================\")"
      ],
      "metadata": {
        "colab": {
          "base_uri": "https://localhost:8080/"
        },
        "id": "kZFRbuUYJLgt",
        "outputId": "df5f147a-dc99-4e21-820a-b714862ae421"
      },
      "execution_count": 7,
      "outputs": [
        {
          "output_type": "stream",
          "name": "stdout",
          "text": [
            "Language: Python, Version: 3.11\n",
            "===========================================\n"
          ]
        }
      ]
    },
    {
      "cell_type": "markdown",
      "source": [
        "# 6. format() Method\n"
      ],
      "metadata": {
        "id": "ZdaTvSrkJxuM"
      }
    },
    {
      "cell_type": "code",
      "source": [
        "# 6. format() Method\n",
        "print(\"Name: {}, Age: {}\".format(\"Alice\", 22))\n",
        "# Output: Name: Alice, Age: 22\n",
        "print(\"x = {0}, y = {1}, x+y = {2}\".format(5, 7, 5+7))\n",
        "# Output: x = 5, y = 7, x+y = 12\n",
        "print(\"===========================================\")"
      ],
      "metadata": {
        "colab": {
          "base_uri": "https://localhost:8080/"
        },
        "id": "-2tKSAKIJza2",
        "outputId": "3fb4f3c2-4741-4a04-f74f-f88dfe0657dd"
      },
      "execution_count": 8,
      "outputs": [
        {
          "output_type": "stream",
          "name": "stdout",
          "text": [
            "Name: Alice, Age: 22\n",
            "x = 5, y = 7, x+y = 12\n",
            "===========================================\n"
          ]
        }
      ]
    },
    {
      "cell_type": "markdown",
      "source": [
        "# 7. Escape Sequences"
      ],
      "metadata": {
        "id": "Y3eDPcAjJ3rG"
      }
    },
    {
      "cell_type": "code",
      "source": [
        "# 7. Escape Sequences\n",
        "print(\"Line1\\nLine2\")       # Output: Line1 (newline) Line2\n",
        "print(\"Col1\\tCol2\")         # Output: Col1    Col2\n",
        "print(\"He said: \\\"Hello\\\"\")  # Output: He said: \"Hello\"\n",
        "print(\"===========================================\")"
      ],
      "metadata": {
        "colab": {
          "base_uri": "https://localhost:8080/"
        },
        "id": "xhRHRSTwJ5mN",
        "outputId": "eaf6be67-d7bb-489a-e8c7-4dc8818777b1"
      },
      "execution_count": 9,
      "outputs": [
        {
          "output_type": "stream",
          "name": "stdout",
          "text": [
            "Line1\n",
            "Line2\n",
            "Col1\tCol2\n",
            "He said: \"Hello\"\n",
            "===========================================\n"
          ]
        }
      ]
    },
    {
      "cell_type": "markdown",
      "source": [
        "# 8. Printing Without Space"
      ],
      "metadata": {
        "id": "P7c5l-HDJ9D_"
      }
    },
    {
      "cell_type": "code",
      "source": [
        "print(\"A\", \"B\", \"C\", sep=\"\")  # Output: ABC\n",
        "print(\"===========================================\")"
      ],
      "metadata": {
        "colab": {
          "base_uri": "https://localhost:8080/"
        },
        "id": "ZbGO7LACJ_FR",
        "outputId": "416631c7-7095-4193-ee14-3860831ea669"
      },
      "execution_count": 10,
      "outputs": [
        {
          "output_type": "stream",
          "name": "stdout",
          "text": [
            "ABC\n",
            "===========================================\n"
          ]
        }
      ]
    },
    {
      "cell_type": "markdown",
      "source": [
        "# 9. Printing with Numbers (Calculation inside print)"
      ],
      "metadata": {
        "id": "494HAiIiKGWU"
      }
    },
    {
      "cell_type": "code",
      "execution_count": 11,
      "metadata": {
        "id": "b6ypGXkM25GM",
        "colab": {
          "base_uri": "https://localhost:8080/"
        },
        "outputId": "01eb695d-e17e-4443-ba3f-6b25fc092892"
      },
      "outputs": [
        {
          "output_type": "stream",
          "name": "stdout",
          "text": [
            "Sum = 8\n",
            "5 + 3 = 8\n",
            "===========================================\n"
          ]
        }
      ],
      "source": [
        "x, y = 5, 3\n",
        "print(\"Sum =\", x + y)        # Output: Sum = 8\n",
        "print(f\"{x} + {y} = {x + y}\")  # Output: 5 + 3 = 8\n",
        "print(\"===========================================\")"
      ]
    }
  ]
}