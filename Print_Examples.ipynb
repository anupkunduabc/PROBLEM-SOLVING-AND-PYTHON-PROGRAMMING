{
  "nbformat": 4,
  "nbformat_minor": 0,
  "metadata": {
    "colab": {
      "provenance": [],
      "authorship_tag": "ABX9TyNU4QduxV8e1JVCt/i35IfU",
      "include_colab_link": true
    },
    "kernelspec": {
      "name": "python3",
      "display_name": "Python 3"
    },
    "language_info": {
      "name": "python"
    }
  },
  "cells": [
    {
      "cell_type": "markdown",
      "metadata": {
        "id": "view-in-github",
        "colab_type": "text"
      },
      "source": [
        "<a href=\"https://colab.research.google.com/github/anupkunduabc/PROBLEM-SOLVING-AND-PYTHON-PROGRAMMING/blob/main/Print_Examples.ipynb\" target=\"_parent\"><img src=\"https://colab.research.google.com/assets/colab-badge.svg\" alt=\"Open In Colab\"/></a>"
      ]
    },
    {
      "cell_type": "markdown",
      "source": [
        "# Python Print Function Demonstrations\n",
        "\n",
        "# 1. Basic Print\n"
      ],
      "metadata": {
        "id": "pTFSodWUInMn"
      }
    },
    {
      "cell_type": "code",
      "source": [
        "print(\"Hello, Python!\")  # Output: Hello, Python!\n",
        "print(\"===========================================\")"
      ],
      "metadata": {
        "colab": {
          "base_uri": "https://localhost:8080/"
        },
        "id": "Ax4GeriYIVI3",
        "outputId": "631488ae-c732-49f5-8574-774a9a35c469"
      },
      "execution_count": null,
      "outputs": [
        {
          "output_type": "stream",
          "name": "stdout",
          "text": [
            "Hello, Python!\n",
            "===========================================\n"
          ]
        }
      ]
    },
    {
      "cell_type": "markdown",
      "source": [
        "\n",
        "\n",
        "## 2. Printing Multiple Items\n",
        "\n"
      ],
      "metadata": {
        "id": "zvmYj_FLIgnn"
      }
    },
    {
      "cell_type": "code",
      "source": [
        "# 2. Printing Multiple Items\n",
        "a, b = 10, 20\n",
        "print(\"Values:\", a, b)  # Output: Values: 10 20\n",
        "print(\"===========================================\")"
      ],
      "metadata": {
        "colab": {
          "base_uri": "https://localhost:8080/"
        },
        "id": "E7UtZjKxIsVF",
        "outputId": "caf9b1f5-e2a9-46ea-81c0-036105a7b95b"
      },
      "execution_count": null,
      "outputs": [
        {
          "output_type": "stream",
          "name": "stdout",
          "text": [
            "Values: 10 20\n",
            "===========================================\n"
          ]
        }
      ]
    },
    {
      "cell_type": "markdown",
      "source": [
        "# 3. sep (Separator Option)"
      ],
      "metadata": {
        "id": "8FzZN7MjI56I"
      }
    },
    {
      "cell_type": "code",
      "source": [
        "print(1, 2, 3, 4, sep=\", \")       # Output: 1, 2, 3, 4\n",
        "print(\"2025\", \"09\", \"22\", sep=\"-\")  # Output: 2025-09-22\n",
        "print(\"===========================================\")"
      ],
      "metadata": {
        "colab": {
          "base_uri": "https://localhost:8080/"
        },
        "id": "ZcRzoUJ5I958",
        "outputId": "055eb9f7-0e85-4810-d942-2821efc752c7"
      },
      "execution_count": null,
      "outputs": [
        {
          "output_type": "stream",
          "name": "stdout",
          "text": [
            "1, 2, 3, 4\n",
            "2025-09-22\n",
            "===========================================\n"
          ]
        }
      ]
    },
    {
      "cell_type": "markdown",
      "source": [
        "# 4. end (Ending Option)"
      ],
      "metadata": {
        "id": "cr6vl6-gJCQf"
      }
    },
    {
      "cell_type": "code",
      "source": [
        "print(\"Hello\", end=\" \")\n",
        "print(\"World\")  # Output: Hello World\n",
        "print(\"Hi\", end=\"*\")\n",
        "print(\"===========================================\")"
      ],
      "metadata": {
        "colab": {
          "base_uri": "https://localhost:8080/"
        },
        "id": "O-YjgSo5JFQg",
        "outputId": "eacde404-3506-4d75-f64b-e681f68acc39"
      },
      "execution_count": null,
      "outputs": [
        {
          "output_type": "stream",
          "name": "stdout",
          "text": [
            "Hello World\n",
            "Hi*===========================================\n"
          ]
        }
      ]
    },
    {
      "cell_type": "markdown",
      "source": [
        "\n",
        "# 5. f-Strings (Modern Formatting)"
      ],
      "metadata": {
        "id": "DukW_oRzJIh0"
      }
    },
    {
      "cell_type": "code",
      "source": [
        "name = \"Python\"\n",
        "version = 3.11\n",
        "print(f\"Language: {name}, Version: {version}\")\n",
        "# Output: Language: Python, Version: 3.11\n",
        "print(\"===========================================\")"
      ],
      "metadata": {
        "colab": {
          "base_uri": "https://localhost:8080/"
        },
        "id": "kZFRbuUYJLgt",
        "outputId": "df5f147a-dc99-4e21-820a-b714862ae421"
      },
      "execution_count": null,
      "outputs": [
        {
          "output_type": "stream",
          "name": "stdout",
          "text": [
            "Language: Python, Version: 3.11\n",
            "===========================================\n"
          ]
        }
      ]
    },
    {
      "cell_type": "markdown",
      "source": [
        "# 6. format() Method\n"
      ],
      "metadata": {
        "id": "ZdaTvSrkJxuM"
      }
    },
    {
      "cell_type": "code",
      "source": [
        "# 6. format() Method\n",
        "print(\"Name: {}, Age: {}\".format(\"Alice\", 22))\n",
        "# Output: Name: Alice, Age: 22\n",
        "print(\"x = {0}, y = {1}, x+y = {2}\".format(5, 7, 5+7))\n",
        "# Output: x = 5, y = 7, x+y = 12\n",
        "print(\"===========================================\")"
      ],
      "metadata": {
        "colab": {
          "base_uri": "https://localhost:8080/"
        },
        "id": "-2tKSAKIJza2",
        "outputId": "3fb4f3c2-4741-4a04-f74f-f88dfe0657dd"
      },
      "execution_count": null,
      "outputs": [
        {
          "output_type": "stream",
          "name": "stdout",
          "text": [
            "Name: Alice, Age: 22\n",
            "x = 5, y = 7, x+y = 12\n",
            "===========================================\n"
          ]
        }
      ]
    },
    {
      "cell_type": "markdown",
      "source": [
        "# 7. Escape Sequences"
      ],
      "metadata": {
        "id": "Y3eDPcAjJ3rG"
      }
    },
    {
      "cell_type": "code",
      "source": [
        "# 7. Escape Sequences\n",
        "print(\"Line1\\nLine2\")       # Output: Line1 (newline) Line2\n",
        "print(\"Col1\\tCol2\")         # Output: Col1    Col2\n",
        "print(\"He said: \\\"Hello\\\"\")  # Output: He said: \"Hello\"\n",
        "print(\"===========================================\")"
      ],
      "metadata": {
        "colab": {
          "base_uri": "https://localhost:8080/"
        },
        "id": "xhRHRSTwJ5mN",
        "outputId": "eaf6be67-d7bb-489a-e8c7-4dc8818777b1"
      },
      "execution_count": null,
      "outputs": [
        {
          "output_type": "stream",
          "name": "stdout",
          "text": [
            "Line1\n",
            "Line2\n",
            "Col1\tCol2\n",
            "He said: \"Hello\"\n",
            "===========================================\n"
          ]
        }
      ]
    },
    {
      "cell_type": "markdown",
      "source": [
        "# 8. Printing Without Space"
      ],
      "metadata": {
        "id": "P7c5l-HDJ9D_"
      }
    },
    {
      "cell_type": "code",
      "source": [
        "print(\"A\", \"B\", \"C\", sep=\"\")  # Output: ABC\n",
        "print(\"===========================================\")"
      ],
      "metadata": {
        "colab": {
          "base_uri": "https://localhost:8080/"
        },
        "id": "ZbGO7LACJ_FR",
        "outputId": "416631c7-7095-4193-ee14-3860831ea669"
      },
      "execution_count": null,
      "outputs": [
        {
          "output_type": "stream",
          "name": "stdout",
          "text": [
            "ABC\n",
            "===========================================\n"
          ]
        }
      ]
    },
    {
      "cell_type": "markdown",
      "source": [
        "# 9. Printing with Numbers (Calculation inside print)"
      ],
      "metadata": {
        "id": "494HAiIiKGWU"
      }
    },
    {
      "cell_type": "code",
      "execution_count": null,
      "metadata": {
        "id": "b6ypGXkM25GM",
        "colab": {
          "base_uri": "https://localhost:8080/"
        },
        "outputId": "01eb695d-e17e-4443-ba3f-6b25fc092892"
      },
      "outputs": [
        {
          "output_type": "stream",
          "name": "stdout",
          "text": [
            "Sum = 8\n",
            "5 + 3 = 8\n",
            "===========================================\n"
          ]
        }
      ],
      "source": [
        "x, y = 5, 3\n",
        "print(\"Sum =\", x + y)        # Output: Sum = 8\n",
        "print(f\"{x} + {y} = {x + y}\")  # Output: 5 + 3 = 8\n",
        "print(\"===========================================\")"
      ]
    },
    {
      "cell_type": "code",
      "source": [
        "# 9. Raw Strings (Useful for file paths and regex)\n",
        "print(r\"C:\\Users\\Python\\Documents\")  # Output: C:\\Users\\Python\\Documents\n",
        "print(r\"Regular expression: \\d+\\.\\d+\")  # Output: Regular expression: \\d+\\.\\d+\n",
        "print(\"===========================================\")\n",
        "\n",
        "# 10. Multi-line Strings\n",
        "print(\"\"\"This is a\n",
        "multi-line\n",
        "string\"\"\")\n",
        "print('''Another way to\n",
        "create multi-line\n",
        "strings''')\n",
        "print(\"===========================================\")\n",
        "\n",
        "# 11. Printing Different Data Types\n",
        "numbers = [1, 2, 3, 4, 5]\n",
        "student = {\"name\": \"John\", \"age\": 20, \"grade\": \"A\"}\n",
        "coordinates = (10, 20)\n",
        "is_student = True\n",
        "\n",
        "print(\"List:\", numbers)        # Output: List: [1, 2, 3, 4, 5]\n",
        "print(\"Dictionary:\", student)  # Output: Dictionary: {'name': 'John', 'age': 20, 'grade': 'A'}\n",
        "print(\"Tuple:\", coordinates)   # Output: Tuple: (10, 20)\n",
        "print(\"Boolean:\", is_student)  # Output: Boolean: True\n",
        "print(\"===========================================\")\n",
        "\n",
        "# 12. Printing Without Space\n",
        "print(\"A\", \"B\", \"C\", sep=\"\")  # Output: ABC\n",
        "print(*\"HELLO\", sep=\"-\")      # Output: H-E-L-L-O\n",
        "print(\"===========================================\")\n",
        "\n",
        "# 13. Printing with Numbers (Calculations inside print)\n",
        "x, y = 5, 3\n",
        "print(\"Sum =\", x + y)        # Output: Sum = 8\n",
        "print(f\"{x} + {y} = {x + y}\")  # Output: 5 + 3 = 8\n",
        "print(\"Product:\", x * y)     # Output: Product: 15\n",
        "print(\"===========================================\")\n",
        "\n",
        "# 14. Number Formatting (Different Bases)\n",
        "num = 42\n",
        "print(f\"Decimal: {num}\")      # Output: Decimal: 42\n",
        "print(f\"Binary: {bin(num)}\")  # Output: Binary: 0b101010\n",
        "print(f\"Hexadecimal: {hex(num)}\")  # Output: Hexadecimal: 0x2a\n",
        "print(f\"Octal: {oct(num)}\")   # Output: Octal: 0o52\n",
        "print(\"===========================================\")\n",
        "\n",
        "# 15. Printing with Alignment and Width\n",
        "print(f\"{'Left':<10}|{'Center':^10}|{'Right':>10}\")\n",
        "print(f\"{'A':<10}|{'B':^10}|{'C':>10}\")\n",
        "# Output:\n",
        "# Left      |  Center  |     Right\n",
        "# A         |    B     |         C\n",
        "print(\"===========================================\")\n",
        "\n",
        "# 16. Unicode and Special Characters\n",
        "print(\"Unicode: \\u2764 \\u2728 \\u1F600\")  # Output: Unicode: ❤ ✨ 😀\n",
        "print(\"Greek: \\u03B1 \\u03B2 \\u03B3\")      # Output: Greek: α β γ\n",
        "print(\"Math: \\u221E \\u2264 \\u2265\")       # Output: Math: ∞ ≤ ≥\n",
        "print(\"===========================================\")\n",
        "\n",
        "# 17. Print to File (Writing to a file instead of console)\n",
        "with open(\"output.txt\", \"w\") as file:\n",
        "    print(\"This goes to file\", file=file)\n",
        "    print(\"Another line in file\", file=file)\n",
        "print(\"File writing completed!\")\n",
        "print(\"===========================================\")\n",
        "\n",
        "# 18. Flush Parameter (Forces immediate output)\n",
        "import time\n",
        "print(\"Processing\", end=\"\")\n",
        "for i in range(5):\n",
        "    print(\".\", end=\"\", flush=True)  # Forces immediate display\n",
        "    time.sleep(0.5)  # Wait 0.5 seconds\n",
        "print(\" Done!\")\n",
        "print(\"===========================================\")\n",
        "\n",
        "# 19. Printing with Loops\n",
        "print(\"Numbers 1-5:\")\n",
        "for i in range(1, 6):\n",
        "    print(i, end=\" \")\n",
        "print()  # New line\n",
        "print(\"===========================================\")\n",
        "\n",
        "# 20. Advanced Formatting Examples\n",
        "data = [(\"Alice\", 85.5), (\"Bob\", 92.3), (\"Charlie\", 78.9)]\n",
        "print(\"Student Report:\")\n",
        "print(\"-\" * 20)\n",
        "for name, score in data:\n",
        "    print(f\"{name:<10} | {score:>6.1f}%\")\n",
        "print(\"===========================================\")\n",
        "\n",
        "# 21. Error Handling with Print\n",
        "try:\n",
        "    result = 10 / 0\n",
        "except ZeroDivisionError as e:\n",
        "    print(f\"Error occurred: {e}\")\n",
        "print(\"===========================================\")\n",
        "\n",
        "# 22. Printing Empty Lines and Separators\n",
        "print()  # Empty line\n",
        "print(\"-\" * 50)  # Separator line\n",
        "print(\"=\" * 30)  # Another separator\n",
        "print(\"*\" * 25)  # Star separator\n",
        "print(\"===========================================\")\n",
        "\n",
        "print(\"🎉 Print function demonstration complete! 🎉\")"
      ],
      "metadata": {
        "id": "l2UEFPm7tjr7"
      },
      "execution_count": null,
      "outputs": []
    }
  ]
}