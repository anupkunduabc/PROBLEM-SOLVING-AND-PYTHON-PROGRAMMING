{
  "nbformat": 4,
  "nbformat_minor": 0,
  "metadata": {
    "colab": {
      "provenance": [],
      "authorship_tag": "ABX9TyN4dq3yzBrk7t5gPsphuTrO",
      "include_colab_link": true
    },
    "kernelspec": {
      "name": "python3",
      "display_name": "Python 3"
    },
    "language_info": {
      "name": "python"
    }
  },
  "cells": [
    {
      "cell_type": "markdown",
      "metadata": {
        "id": "view-in-github",
        "colab_type": "text"
      },
      "source": [
        "<a href=\"https://colab.research.google.com/github/anupkunduabc/PROBLEM-SOLVING-AND-PYTHON-PROGRAMMING/blob/main/Print_Examples.ipynb\" target=\"_parent\"><img src=\"https://colab.research.google.com/assets/colab-badge.svg\" alt=\"Open In Colab\"/></a>"
      ]
    },
    {
      "cell_type": "markdown",
      "source": [
        "# **Python Print Function Demonstrations**\n",
        "\n",
        "---\n",
        "\n",
        "\n",
        "\n",
        "# Created by\n",
        "\n",
        "---\n",
        "\n",
        "\n",
        "#**Dr. Anup Kundu,**\n",
        "##Assistant Professor, Chemical Engineering,\n",
        "## Sri Sivasubramaniya Nadar College of Engineering, Chennai\n",
        "\n",
        "\n",
        "---\n",
        "\n",
        "\n",
        "\n"
      ],
      "metadata": {
        "id": "pTFSodWUInMn"
      }
    },
    {
      "cell_type": "code",
      "source": [
        "print(\"Hello, Python!\")  # Output: Hello, Python!\n",
        "print(\"===========================================\")"
      ],
      "metadata": {
        "colab": {
          "base_uri": "https://localhost:8080/"
        },
        "id": "Ax4GeriYIVI3",
        "outputId": "cfaf3df0-e2f7-419b-b37c-3ea78699dd58"
      },
      "execution_count": 1,
      "outputs": [
        {
          "output_type": "stream",
          "name": "stdout",
          "text": [
            "Hello, Python!\n",
            "===========================================\n"
          ]
        }
      ]
    },
    {
      "cell_type": "markdown",
      "source": [
        "\n",
        "\n",
        "## 2. Printing Multiple Items\n",
        "\n"
      ],
      "metadata": {
        "id": "zvmYj_FLIgnn"
      }
    },
    {
      "cell_type": "code",
      "source": [
        "# 2. Printing Multiple Items\n",
        "a, b = 10, 20\n",
        "print(\"Values:\", a, b)  # Output: Values: 10 20\n",
        "print(\"===========================================\")"
      ],
      "metadata": {
        "colab": {
          "base_uri": "https://localhost:8080/"
        },
        "id": "E7UtZjKxIsVF",
        "outputId": "cbb6ffc2-2f09-4965-d382-5e4df89c3281"
      },
      "execution_count": 2,
      "outputs": [
        {
          "output_type": "stream",
          "name": "stdout",
          "text": [
            "Values: 10 20\n",
            "===========================================\n"
          ]
        }
      ]
    },
    {
      "cell_type": "markdown",
      "source": [
        "# 3. sep (Separator Option)"
      ],
      "metadata": {
        "id": "8FzZN7MjI56I"
      }
    },
    {
      "cell_type": "code",
      "source": [
        "print(1, 2, 3, 4, sep=\", \")       # Output: 1, 2, 3, 4\n",
        "print(\"2025\", \"09\", \"22\", sep=\"-\")  # Output: 2025-09-22\n",
        "print(\"===========================================\")"
      ],
      "metadata": {
        "colab": {
          "base_uri": "https://localhost:8080/"
        },
        "id": "ZcRzoUJ5I958",
        "outputId": "cfc2f3c1-5b5f-4222-dd0e-58ebbaa1e6b9"
      },
      "execution_count": 3,
      "outputs": [
        {
          "output_type": "stream",
          "name": "stdout",
          "text": [
            "1, 2, 3, 4\n",
            "2025-09-22\n",
            "===========================================\n"
          ]
        }
      ]
    },
    {
      "cell_type": "markdown",
      "source": [
        "# 4. end (Ending Option)"
      ],
      "metadata": {
        "id": "cr6vl6-gJCQf"
      }
    },
    {
      "cell_type": "code",
      "source": [
        "print(\"Hello\", end=\" \")\n",
        "print(\"World\")  # Output: Hello World\n",
        "print(\"Hi\", end=\"*\")\n",
        "print(\"===========================================\")"
      ],
      "metadata": {
        "colab": {
          "base_uri": "https://localhost:8080/"
        },
        "id": "O-YjgSo5JFQg",
        "outputId": "f7d1fc7e-25f9-476a-87eb-65563447c554"
      },
      "execution_count": 4,
      "outputs": [
        {
          "output_type": "stream",
          "name": "stdout",
          "text": [
            "Hello World\n",
            "Hi*===========================================\n"
          ]
        }
      ]
    },
    {
      "cell_type": "markdown",
      "source": [
        "\n",
        "# 5. f-Strings (Modern Formatting)"
      ],
      "metadata": {
        "id": "DukW_oRzJIh0"
      }
    },
    {
      "cell_type": "code",
      "source": [
        "name = \"Python\"\n",
        "version = 3.11\n",
        "print(f\"Language: {name}, Version: {version}\")\n",
        "# Output: Language: Python, Version: 3.11\n",
        "print(\"===========================================\")"
      ],
      "metadata": {
        "colab": {
          "base_uri": "https://localhost:8080/"
        },
        "id": "kZFRbuUYJLgt",
        "outputId": "9c52bb10-dd39-4690-d2f2-c664b76ee106"
      },
      "execution_count": 5,
      "outputs": [
        {
          "output_type": "stream",
          "name": "stdout",
          "text": [
            "Language: Python, Version: 3.11\n",
            "===========================================\n"
          ]
        }
      ]
    },
    {
      "cell_type": "markdown",
      "source": [
        "# 6. format() Method\n"
      ],
      "metadata": {
        "id": "ZdaTvSrkJxuM"
      }
    },
    {
      "cell_type": "code",
      "source": [
        "# 6. format() Method\n",
        "print(\"Name: {}, Age: {}\".format(\"Alice\", 22))\n",
        "# Output: Name: Alice, Age: 22\n",
        "print(\"x = {0}, y = {1}, x+y = {2}\".format(5, 7, 5+7))\n",
        "# Output: x = 5, y = 7, x+y = 12\n",
        "print(\"===========================================\")"
      ],
      "metadata": {
        "colab": {
          "base_uri": "https://localhost:8080/"
        },
        "id": "-2tKSAKIJza2",
        "outputId": "d65e6749-aaab-4993-a37e-6640f4ee31de"
      },
      "execution_count": 6,
      "outputs": [
        {
          "output_type": "stream",
          "name": "stdout",
          "text": [
            "Name: Alice, Age: 22\n",
            "x = 5, y = 7, x+y = 12\n",
            "===========================================\n"
          ]
        }
      ]
    },
    {
      "cell_type": "markdown",
      "source": [
        "# 7. Escape Sequences"
      ],
      "metadata": {
        "id": "Y3eDPcAjJ3rG"
      }
    },
    {
      "cell_type": "code",
      "source": [
        "# 7. Escape Sequences\n",
        "print(\"Line1\\nLine2\")       # Output: Line1 (newline) Line2\n",
        "print(\"Col1\\tCol2\")         # Output: Col1    Col2\n",
        "print(\"He said: \\\"Hello\\\"\")  # Output: He said: \"Hello\"\n",
        "print(\"===========================================\")"
      ],
      "metadata": {
        "colab": {
          "base_uri": "https://localhost:8080/"
        },
        "id": "xhRHRSTwJ5mN",
        "outputId": "3108a8e2-a552-48fd-b99f-44e97b21287e"
      },
      "execution_count": 7,
      "outputs": [
        {
          "output_type": "stream",
          "name": "stdout",
          "text": [
            "Line1\n",
            "Line2\n",
            "Col1\tCol2\n",
            "He said: \"Hello\"\n",
            "===========================================\n"
          ]
        }
      ]
    },
    {
      "cell_type": "markdown",
      "source": [
        "# 8. Printing Without Space"
      ],
      "metadata": {
        "id": "P7c5l-HDJ9D_"
      }
    },
    {
      "cell_type": "code",
      "source": [
        "print(\"A\", \"B\", \"C\", sep=\"\")  # Output: ABC\n",
        "print(\"===========================================\")"
      ],
      "metadata": {
        "colab": {
          "base_uri": "https://localhost:8080/"
        },
        "id": "ZbGO7LACJ_FR",
        "outputId": "186dc0d4-472b-4148-b655-ce07886e3354"
      },
      "execution_count": 8,
      "outputs": [
        {
          "output_type": "stream",
          "name": "stdout",
          "text": [
            "ABC\n",
            "===========================================\n"
          ]
        }
      ]
    },
    {
      "cell_type": "markdown",
      "source": [
        "# 9. Printing with Numbers (Calculation inside print)"
      ],
      "metadata": {
        "id": "494HAiIiKGWU"
      }
    },
    {
      "cell_type": "code",
      "execution_count": 9,
      "metadata": {
        "id": "b6ypGXkM25GM",
        "colab": {
          "base_uri": "https://localhost:8080/"
        },
        "outputId": "ae5288f3-e234-4898-f602-ae4e06324786"
      },
      "outputs": [
        {
          "output_type": "stream",
          "name": "stdout",
          "text": [
            "Sum = 8\n",
            "5 + 3 = 8\n",
            "===========================================\n"
          ]
        }
      ],
      "source": [
        "x, y = 5, 3\n",
        "print(\"Sum =\", x + y)        # Output: Sum = 8\n",
        "print(f\"{x} + {y} = {x + y}\")  # Output: 5 + 3 = 8\n",
        "print(\"===========================================\")"
      ]
    },
    {
      "cell_type": "markdown",
      "source": [
        "#10. Learning More or play with print"
      ],
      "metadata": {
        "id": "DnArjpE7tzti"
      }
    },
    {
      "cell_type": "code",
      "source": [
        "# 9. Raw Strings (Useful for file paths and regex)\n",
        "print(r\"C:\\Users\\Python\\Documents\")  # Output: C:\\Users\\Python\\Documents\n",
        "print(r\"Regular expression: \\d+\\.\\d+\")  # Output: Regular expression: \\d+\\.\\d+\n",
        "print(\"===========================================\")\n",
        "\n",
        "# 10. Multi-line Strings\n",
        "print(\"\"\"This is a\n",
        "multi-line\n",
        "string\"\"\")\n",
        "print('''Another way to\n",
        "create multi-line\n",
        "strings''')\n",
        "print(\"===========================================\")\n",
        "\n",
        "# 11. Printing Different Data Types\n",
        "numbers = [1, 2, 3, 4, 5]\n",
        "student = {\"name\": \"John\", \"age\": 20, \"grade\": \"A\"}\n",
        "coordinates = (10, 20)\n",
        "is_student = True\n",
        "\n",
        "print(\"List:\", numbers)        # Output: List: [1, 2, 3, 4, 5]\n",
        "print(\"Dictionary:\", student)  # Output: Dictionary: {'name': 'John', 'age': 20, 'grade': 'A'}\n",
        "print(\"Tuple:\", coordinates)   # Output: Tuple: (10, 20)\n",
        "print(\"Boolean:\", is_student)  # Output: Boolean: True\n",
        "print(\"===========================================\")\n",
        "\n",
        "# 12. Printing Without Space\n",
        "print(\"A\", \"B\", \"C\", sep=\"\")  # Output: ABC\n",
        "print(*\"HELLO\", sep=\"-\")      # Output: H-E-L-L-O\n",
        "print(\"===========================================\")\n",
        "\n",
        "# 13. Printing with Numbers (Calculations inside print)\n",
        "x, y = 5, 3\n",
        "print(\"Sum =\", x + y)        # Output: Sum = 8\n",
        "print(f\"{x} + {y} = {x + y}\")  # Output: 5 + 3 = 8\n",
        "print(\"Product:\", x * y)     # Output: Product: 15\n",
        "print(\"===========================================\")\n",
        "\n",
        "# 14. Number Formatting (Different Bases)\n",
        "num = 42\n",
        "print(f\"Decimal: {num}\")      # Output: Decimal: 42\n",
        "print(f\"Binary: {bin(num)}\")  # Output: Binary: 0b101010\n",
        "print(f\"Hexadecimal: {hex(num)}\")  # Output: Hexadecimal: 0x2a\n",
        "print(f\"Octal: {oct(num)}\")   # Output: Octal: 0o52\n",
        "print(\"===========================================\")\n",
        "\n",
        "# 15. Printing with Alignment and Width\n",
        "print(f\"{'Left':<10}|{'Center':^10}|{'Right':>10}\")\n",
        "print(f\"{'A':<10}|{'B':^10}|{'C':>10}\")\n",
        "# Output:\n",
        "# Left      |  Center  |     Right\n",
        "# A         |    B     |         C\n",
        "print(\"===========================================\")\n",
        "\n",
        "# 16. Unicode and Special Characters\n",
        "print(\"Unicode: \\u2764 \\u2728 \\u1F600\")  # Output: Unicode: ❤ ✨ 😀\n",
        "print(\"Greek: \\u03B1 \\u03B2 \\u03B3\")      # Output: Greek: α β γ\n",
        "print(\"Math: \\u221E \\u2264 \\u2265\")       # Output: Math: ∞ ≤ ≥\n",
        "print(\"===========================================\")\n",
        "\n",
        "# 17. Print to File (Writing to a file instead of console)\n",
        "with open(\"output.txt\", \"w\") as file:\n",
        "    print(\"This goes to file\", file=file)\n",
        "    print(\"Another line in file\", file=file)\n",
        "print(\"File writing completed!\")\n",
        "print(\"===========================================\")\n",
        "\n",
        "# 18. Flush Parameter (Forces immediate output)\n",
        "import time\n",
        "print(\"Processing\", end=\"\")\n",
        "for i in range(5):\n",
        "    print(\".\", end=\"\", flush=True)  # Forces immediate display\n",
        "    time.sleep(0.5)  # Wait 0.5 seconds\n",
        "print(\" Done!\")\n",
        "print(\"===========================================\")\n",
        "\n",
        "# 19. Printing with Loops\n",
        "print(\"Numbers 1-5:\")\n",
        "for i in range(1, 6):\n",
        "    print(i, end=\" \")\n",
        "print()  # New line\n",
        "print(\"===========================================\")\n",
        "\n",
        "# 20. Advanced Formatting Examples\n",
        "data = [(\"Alice\", 85.5), (\"Bob\", 92.3), (\"Charlie\", 78.9)]\n",
        "print(\"Student Report:\")\n",
        "print(\"-\" * 20)\n",
        "for name, score in data:\n",
        "    print(f\"{name:<10} | {score:>6.1f}%\")\n",
        "print(\"===========================================\")\n",
        "\n",
        "# 21. Error Handling with Print\n",
        "try:\n",
        "    result = 10 / 0\n",
        "except ZeroDivisionError as e:\n",
        "    print(f\"Error occurred: {e}\")\n",
        "print(\"===========================================\")\n",
        "\n",
        "# 22. Printing Empty Lines and Separators\n",
        "print()  # Empty line\n",
        "print(\"-\" * 50)  # Separator line\n",
        "print(\"=\" * 30)  # Another separator\n",
        "print(\"*\" * 25)  # Star separator\n",
        "print(\"===========================================\")\n",
        "\n",
        "print(\"🎉 Print function demonstration complete! 🎉\")"
      ],
      "metadata": {
        "colab": {
          "base_uri": "https://localhost:8080/"
        },
        "id": "l2UEFPm7tjr7",
        "outputId": "019ed810-7906-47ce-9107-5359eceea372"
      },
      "execution_count": 10,
      "outputs": [
        {
          "output_type": "stream",
          "name": "stdout",
          "text": [
            "C:\\Users\\Python\\Documents\n",
            "Regular expression: \\d+\\.\\d+\n",
            "===========================================\n",
            "This is a\n",
            "multi-line\n",
            "string\n",
            "Another way to\n",
            "create multi-line\n",
            "strings\n",
            "===========================================\n",
            "List: [1, 2, 3, 4, 5]\n",
            "Dictionary: {'name': 'John', 'age': 20, 'grade': 'A'}\n",
            "Tuple: (10, 20)\n",
            "Boolean: True\n",
            "===========================================\n",
            "ABC\n",
            "H-E-L-L-O\n",
            "===========================================\n",
            "Sum = 8\n",
            "5 + 3 = 8\n",
            "Product: 15\n",
            "===========================================\n",
            "Decimal: 42\n",
            "Binary: 0b101010\n",
            "Hexadecimal: 0x2a\n",
            "Octal: 0o52\n",
            "===========================================\n",
            "Left      |  Center  |     Right\n",
            "A         |    B     |         C\n",
            "===========================================\n",
            "Unicode: ❤ ✨ ὠ0\n",
            "Greek: α β γ\n",
            "Math: ∞ ≤ ≥\n",
            "===========================================\n",
            "File writing completed!\n",
            "===========================================\n",
            "Processing..... Done!\n",
            "===========================================\n",
            "Numbers 1-5:\n",
            "1 2 3 4 5 \n",
            "===========================================\n",
            "Student Report:\n",
            "--------------------\n",
            "Alice      |   85.5%\n",
            "Bob        |   92.3%\n",
            "Charlie    |   78.9%\n",
            "===========================================\n",
            "Error occurred: division by zero\n",
            "===========================================\n",
            "\n",
            "--------------------------------------------------\n",
            "==============================\n",
            "*************************\n",
            "===========================================\n",
            "🎉 Print function demonstration complete! 🎉\n"
          ]
        }
      ]
    }
  ]
}