{
  "cells": [
    {
      "cell_type": "markdown",
      "metadata": {
        "id": "view-in-github",
        "colab_type": "text"
      },
      "source": [
        "<a href=\"https://colab.research.google.com/github/anupkunduabc/PROBLEM-SOLVING-AND-PYTHON-PROGRAMMING/blob/main/Recursion_Lambda_Class11.ipynb\" target=\"_parent\"><img src=\"https://colab.research.google.com/assets/colab-badge.svg\" alt=\"Open In Colab\"/></a>"
      ]
    },
    {
      "cell_type": "markdown",
      "id": "b854e9ad",
      "metadata": {
        "id": "b854e9ad"
      },
      "source": [
        "# UGE3188 – Problem Solving & Python Programming\n",
        "\n",
        "**Unit III - Class 11: Recursion and Lambda Functions**\n",
        "\n",
        "**Instructor:** Dr. Anup Kundu  \n",
        "**Academic Year:** 2025-26\n",
        "\n",
        "*This interactive notebook contains step-by-step explanations, code examples, and practice exercises.*"
      ]
    },
    {
      "cell_type": "markdown",
      "id": "db20bc78",
      "metadata": {
        "id": "db20bc78"
      },
      "source": [
        "## Learning Objectives - Class 11\n",
        "\n",
        "By the end of this notebook you will be able to:\n",
        "\n",
        "- Explain recursion and identify base and recursive cases.\n",
        "- Implement recursive solutions: factorial, Fibonacci, reverse number, palindrome.\n",
        "- Compare recursion vs iteration and know when to use each.\n",
        "- Use lambda functions for short anonymous operations (math and string tasks).\n",
        "- Combine modular functions (regular + lambda) to build small systems.\n",
        "\n",
        "---"
      ]
    },
    {
      "cell_type": "markdown",
      "id": "0281d4a4",
      "metadata": {
        "id": "0281d4a4"
      },
      "source": [
        "## What is Recursion?\n",
        "\n",
        "**Recursion** is a technique where a function calls itself to solve a smaller part of the problem.\n",
        "\n",
        "**Key pattern:**\n",
        "\n",
        "1. **Base case:** A condition to stop recursion.\n",
        "2. **Recursive case:** The function calls itself with a smaller/simpler input.\n",
        "\n",
        "Real-world analogies: Russian dolls, folder-within-folder, family tree.\n"
      ]
    },
    {
      "cell_type": "code",
      "execution_count": null,
      "id": "e16df9fd",
      "metadata": {
        "colab": {
          "base_uri": "https://localhost:8080/"
        },
        "id": "e16df9fd",
        "outputId": "34a2afe8-db58-4d4a-ce97-4a74eb253c91"
      },
      "outputs": [
        {
          "output_type": "stream",
          "name": "stdout",
          "text": [
            "n=3\n",
            "n=2\n",
            "n=1\n",
            "base reached\n"
          ]
        }
      ],
      "source": [
        "def recursive_template(n):\n",
        "    # Base case - must stop\n",
        "    if n == 0:\n",
        "        return 'base reached'\n",
        "    # Recursive call with smaller input\n",
        "    print(f'n={n}')\n",
        "    return recursive_template(n-1)\n",
        "\n",
        "# Quick demo (do not run for too large n)\n",
        "print(recursive_template(3))"
      ]
    },
    {
      "cell_type": "markdown",
      "id": "1c485508",
      "metadata": {
        "id": "1c485508"
      },
      "source": [
        "### How Recursion Works — Two essential parts\n",
        "\n",
        "- Always ensure a base case (or you'll get `RecursionError`).\n",
        "- Each recursive call should move closer to the base case.\n",
        "- Results return (bubble up) when base case is reached.\n"
      ]
    },
    {
      "cell_type": "markdown",
      "id": "576a16cb",
      "metadata": {
        "id": "576a16cb"
      },
      "source": [
        "## Recursion vs Iteration — same result, different approach\n",
        "\n",
        "We'll show a countdown example using both techniques."
      ]
    },
    {
      "cell_type": "code",
      "execution_count": null,
      "id": "853b72c6",
      "metadata": {
        "colab": {
          "base_uri": "https://localhost:8080/"
        },
        "id": "853b72c6",
        "outputId": "16826d2d-0961-40e1-ab21-2c0c9d71176a"
      },
      "outputs": [
        {
          "output_type": "stream",
          "name": "stdout",
          "text": [
            "5 4 3 2 1 Done!\n"
          ]
        }
      ],
      "source": [
        "# Iterative countdown\n",
        "def count_down_loop(n):\n",
        "    while n > 0:\n",
        "        print(n, end=' ')\n",
        "        n -= 1\n",
        "    print('Done!')\n",
        "\n",
        "count_down_loop(5)"
      ]
    },
    {
      "cell_type": "code",
      "execution_count": null,
      "id": "912f97a7",
      "metadata": {
        "colab": {
          "base_uri": "https://localhost:8080/"
        },
        "id": "912f97a7",
        "outputId": "b0e9b8fc-5692-4d2d-a855-b8333c6da838"
      },
      "outputs": [
        {
          "output_type": "stream",
          "name": "stdout",
          "text": [
            "5 4 3 2 1 Done!\n"
          ]
        }
      ],
      "source": [
        "# Recursive countdown\n",
        "def count_down_recursive(n):\n",
        "    if n == 0:\n",
        "        print('Done!')\n",
        "        return\n",
        "    print(n, end=' ')\n",
        "    count_down_recursive(n-1)\n",
        "\n",
        "count_down_recursive(5)"
      ]
    },
    {
      "cell_type": "markdown",
      "id": "219c54a7",
      "metadata": {
        "id": "219c54a7"
      },
      "source": [
        "## Example: Factorial using recursion\n",
        "\n",
        "**Problem:** compute `n! = n × (n-1) × ... × 1`.\n",
        "\n",
        "**Base cases:** `0! = 1`, `1! = 1`.\n",
        "\n",
        "**Recursive formula:** `n! = n × (n-1)!`."
      ]
    },
    {
      "cell_type": "code",
      "execution_count": null,
      "id": "e368a1a3",
      "metadata": {
        "colab": {
          "base_uri": "https://localhost:8080/"
        },
        "id": "e368a1a3",
        "outputId": "83fb20ca-c2cd-44a3-8732-8c6d0d5b486f"
      },
      "outputs": [
        {
          "output_type": "stream",
          "name": "stdout",
          "text": [
            "5! = 120\n",
            "3! = 6\n",
            "0! = 1\n",
            "4! = 4 × 3! = 24\n"
          ]
        }
      ],
      "source": [
        "def factorial(n):\n",
        "    \"\"\"Calculate factorial using recursion\"\"\"\n",
        "    if n < 0:\n",
        "        raise ValueError('Factorial not defined for negative numbers')\n",
        "    if n == 0 or n == 1:\n",
        "        return 1\n",
        "    return n * factorial(n-1)\n",
        "\n",
        "# Tests\n",
        "print('5! =', factorial(5))\n",
        "print('3! =', factorial(3))\n",
        "print('0! =', factorial(0))\n",
        "print('4! =', '4 × 3! =', 4 * factorial(3))"
      ]
    },
    {
      "cell_type": "markdown",
      "id": "0d47acbb",
      "metadata": {
        "id": "0d47acbb"
      },
      "source": [
        "**Flowchart (conceptual):** Start → Check base case → If base: return → Else: recurse with n-1 → combine and return.\n",
        "\n",
        "Always check base case first."
      ]
    },
    {
      "cell_type": "markdown",
      "id": "c0019a00",
      "metadata": {
        "id": "c0019a00"
      },
      "source": [
        "## Example: Fibonacci sequence using recursion\n",
        "\n",
        "Sequence: `0, 1, 1, 2, 3, 5, 8, ...` with `fib(0)=0`, `fib(1)=1`, `fib(n)=fib(n-1)+fib(n-2)`.\n",
        "\n",
        "Note: naive recursion does repeated work; it's a good chance to discuss optimization (memoization) later."
      ]
    },
    {
      "cell_type": "code",
      "execution_count": null,
      "id": "9fec267c",
      "metadata": {
        "id": "9fec267c"
      },
      "outputs": [],
      "source": [
        "def fibonacci(n):\n",
        "    if n < 0:\n",
        "        raise ValueError('n must be >= 0')\n",
        "    if n == 0:\n",
        "        return 0\n",
        "    if n == 1:\n",
        "        return 1\n",
        "    return fibonacci(n-1) + fibonacci(n-2)\n",
        "\n",
        "print('First 10 Fibonacci numbers:')\n",
        "print([fibonacci(i) for i in range(10)])\n",
        "print('fib(7) =', fibonacci(7))"
      ]
    },
    {
      "cell_type": "markdown",
      "id": "5e36db74",
      "metadata": {
        "id": "5e36db74"
      },
      "source": [
        "### Optimization: Memoization\n",
        "\n",
        "Naive recursion recalculates the same values many times. We can store results (memoization) to make it efficient."
      ]
    },
    {
      "cell_type": "code",
      "execution_count": null,
      "id": "c8814242",
      "metadata": {
        "id": "c8814242"
      },
      "outputs": [],
      "source": [
        "from functools import lru_cache\n",
        "\n",
        "@lru_cache(maxsize=None)\n",
        "def fib_memo(n):\n",
        "    if n < 0:\n",
        "        raise ValueError('n must be >= 0')\n",
        "    if n == 0:\n",
        "        return 0\n",
        "    if n == 1:\n",
        "        return 1\n",
        "    return fib_memo(n-1) + fib_memo(n-2)\n",
        "\n",
        "print('fib_memo(50) =', fib_memo(50))  # fast due to memoization"
      ]
    },
    {
      "cell_type": "markdown",
      "id": "b4ad9a3d",
      "metadata": {
        "id": "b4ad9a3d"
      },
      "source": [
        "## Reverse a Number using recursion\n",
        "\n",
        "Strategy: extract last digit, build reversed number via helper parameter."
      ]
    },
    {
      "cell_type": "code",
      "execution_count": null,
      "id": "ff6fe93f",
      "metadata": {
        "id": "ff6fe93f"
      },
      "outputs": [],
      "source": [
        "def reverse_number(n, reversed_num=0):\n",
        "    if n == 0:\n",
        "        return reversed_num\n",
        "    last_digit = n % 10\n",
        "    reversed_num = reversed_num * 10 + last_digit\n",
        "    return reverse_number(n // 10, reversed_num)\n",
        "\n",
        "print('Reverse of 12345 ->', reverse_number(12345))\n",
        "print('Reverse of 100 ->', reverse_number(100))"
      ]
    },
    {
      "cell_type": "markdown",
      "id": "bdd044ee",
      "metadata": {
        "id": "bdd044ee"
      },
      "source": [
        "## Palindrome check using recursion\n",
        "\n",
        "Compare first and last characters (or digits), then recurse on the middle part."
      ]
    },
    {
      "cell_type": "code",
      "execution_count": null,
      "id": "91aa3300",
      "metadata": {
        "id": "91aa3300"
      },
      "outputs": [],
      "source": [
        "def is_palindrome(text):\n",
        "    s = str(text).lower()\n",
        "    if len(s) <= 1:\n",
        "        return True\n",
        "    if s[0] != s[-1]:\n",
        "        return False\n",
        "    return is_palindrome(s[1:-1])\n",
        "\n",
        "print('121 ->', is_palindrome(121))\n",
        "print('123 ->', is_palindrome(123))\n",
        "print('madam ->', is_palindrome('madam'))\n",
        "print('hello ->', is_palindrome('hello'))"
      ]
    },
    {
      "cell_type": "markdown",
      "id": "139e4dc6",
      "metadata": {
        "id": "139e4dc6"
      },
      "source": [
        "## Common Mistakes in Recursion\n",
        "\n",
        "- **No base case** → `RecursionError`.\n",
        "- **Wrong direction** (moving away from base) → infinite recursion.\n",
        "\n",
        "Examples below show faulty functions and the correct versions."
      ]
    },
    {
      "cell_type": "code",
      "execution_count": null,
      "id": "b881c24a",
      "metadata": {
        "id": "b881c24a"
      },
      "outputs": [],
      "source": [
        "# BAD example (commented to avoid crashing the kernel)\n",
        "# def bad_factorial(n):\n",
        "#     return n * bad_factorial(n-1)\n",
        "\n",
        "# BAD countdown (grows instead of shrinking)\n",
        "# def bad_countdown(n):\n",
        "#     if n == 0:\n",
        "#         return\n",
        "#     print(n)\n",
        "#     bad_countdown(n+1)\n",
        "\n",
        "# Correct versions (repeating earlier to emphasize)\n",
        "\n",
        "def safe_factorial(n):\n",
        "    if n == 0 or n == 1:\n",
        "        return 1\n",
        "    return n * safe_factorial(n-1)\n",
        "\n",
        "print('safe_factorial(5) =', safe_factorial(5))\n",
        "\n",
        "def countdown(n):\n",
        "    if n == 0:\n",
        "        return\n",
        "    print(n, end=' ')\n",
        "    countdown(n-1)\n",
        "\n",
        "print('\\ncountdown(5):', end=' ')\n",
        "countdown(5)"
      ]
    },
    {
      "cell_type": "markdown",
      "id": "734b73bd",
      "metadata": {
        "id": "734b73bd"
      },
      "source": [
        "## Lambda Functions — Anonymous single-line functions\n",
        "\n",
        "- Syntax: `lambda parameters: expression`\n",
        "- Used for short operations, often as arguments to higher-order functions.\n"
      ]
    },
    {
      "cell_type": "code",
      "execution_count": null,
      "id": "c03fcdb0",
      "metadata": {
        "id": "c03fcdb0"
      },
      "outputs": [],
      "source": [
        "# Math lambdas\n",
        "add = lambda a, b: a + b\n",
        "square = lambda x: x * x\n",
        "power = lambda b, e: b ** e\n",
        "print('add(5,3)=', add(5,3))\n",
        "print('square(4)=', square(4))\n",
        "print('2^3=', power(2,3))\n",
        "\n",
        "# String lambdas\n",
        "to_upper = lambda s: s.upper()\n",
        "reverse_s = lambda s: s[::-1]\n",
        "print(\"to_upper('hello')=\", to_upper('hello'))\n",
        "print(\"reverse_s('Python')=\", reverse_s('Python'))"
      ]
    },
    {
      "cell_type": "code",
      "execution_count": null,
      "id": "63da65ca",
      "metadata": {
        "id": "63da65ca"
      },
      "outputs": [],
      "source": [
        "assign_grade = lambda marks: 'Pass' if marks >= 50 else 'Fail'\n",
        "print('65 ->', assign_grade(65))\n",
        "print('45 ->', assign_grade(45))"
      ]
    },
    {
      "cell_type": "markdown",
      "id": "5d0701ee",
      "metadata": {
        "id": "5d0701ee"
      },
      "source": [
        "## Modular Programming: Combining functions and lambdas\n",
        "\n",
        "Small helper functions + lambda checks make code readable and reusable. Example: student grade report."
      ]
    },
    {
      "cell_type": "code",
      "execution_count": null,
      "id": "ff488e54",
      "metadata": {
        "id": "ff488e54"
      },
      "outputs": [],
      "source": [
        "def calculate_percentage(marks, total):\n",
        "    return (marks/total) * 100\n",
        "\n",
        "def get_grade(percent):\n",
        "    if percent >= 90:\n",
        "        return 'A+'\n",
        "    elif percent >= 80:\n",
        "        return 'A'\n",
        "    elif percent >= 70:\n",
        "        return 'B'\n",
        "    elif percent >= 60:\n",
        "        return 'C'\n",
        "    else:\n",
        "        return 'F'\n",
        "\n",
        "is_pass = lambda p: 'Pass' if p >= 50 else 'Fail'\n",
        "\n",
        "def generate_report(name, marks, total):\n",
        "    p = calculate_percentage(marks, total)\n",
        "    g = get_grade(p)\n",
        "    r = is_pass(p)\n",
        "    print(f'Student: {name}')\n",
        "    print(f'Percentage: {p:.2f}%')\n",
        "    print(f'Grade: {g}')\n",
        "    print(f'Result: {r}')\n",
        "\n",
        "# Demo\n",
        "generate_report('Alice', 85, 100)"
      ]
    },
    {
      "cell_type": "markdown",
      "id": "a4fca624",
      "metadata": {
        "id": "a4fca624"
      },
      "source": [
        "## Real-World Example: E-Commerce Price Calculator (modular)\n",
        "\n",
        "This uses small lambdas for discount, tax, shipping and a main function to combine them."
      ]
    },
    {
      "cell_type": "code",
      "execution_count": null,
      "id": "64dd1dfb",
      "metadata": {
        "id": "64dd1dfb"
      },
      "outputs": [],
      "source": [
        "calculate_discount = lambda price, discount: price * (1 - discount/100)\n",
        "calculate_tax = lambda price, tax_rate: price * (tax_rate/100)\n",
        "calculate_shipping = lambda weight: 50 if weight <= 5 else 50 + (weight-5)*10\n",
        "\n",
        "def calculate_final_price(item_name, price, discount=0, weight=1):\n",
        "    print(f'Item: {item_name}')\n",
        "    print(f'Original Price: ₹{price}')\n",
        "    if discount > 0:\n",
        "        discounted_price = calculate_discount(price, discount)\n",
        "        print(f'After {discount}% discount: ₹{discounted_price:.2f}')\n",
        "    else:\n",
        "        discounted_price = price\n",
        "    tax = calculate_tax(discounted_price, 18)\n",
        "    print(f'Tax (18%): ₹{tax:.2f}')\n",
        "    shipping = calculate_shipping(weight)\n",
        "    print(f'Shipping (for {weight}kg): ₹{shipping}')\n",
        "    final = discounted_price + tax + shipping\n",
        "    print(f'Final Price: ₹{final:.2f}')\n",
        "    return final\n",
        "\n",
        "calculate_final_price('Laptop', 50000, 10, 3)"
      ]
    },
    {
      "cell_type": "markdown",
      "id": "51693e58",
      "metadata": {
        "id": "51693e58"
      },
      "source": [
        "## Common Mistakes with Lambda\n",
        "\n",
        "- Lambda must be a single expression (no multiple statements).\n",
        "- Avoid complex logic inside lambda; prefer a named function for clarity.\n"
      ]
    }
  ],
  "metadata": {
    "kernelspec": {
      "display_name": "Python 3",
      "language": "python",
      "name": "python3"
    },
    "language_info": {
      "name": "python",
      "version": "3.10"
    },
    "colab": {
      "provenance": [],
      "include_colab_link": true
    }
  },
  "nbformat": 4,
  "nbformat_minor": 5
}