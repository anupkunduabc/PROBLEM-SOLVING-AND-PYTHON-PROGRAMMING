{
  "nbformat": 4,
  "nbformat_minor": 0,
  "metadata": {
    "colab": {
      "provenance": [],
      "authorship_tag": "ABX9TyOKWFn3BLfKtD04G/F9rmX6",
      "include_colab_link": true
    },
    "kernelspec": {
      "name": "python3",
      "display_name": "Python 3"
    },
    "language_info": {
      "name": "python"
    }
  },
  "cells": [
    {
      "cell_type": "markdown",
      "metadata": {
        "id": "view-in-github",
        "colab_type": "text"
      },
      "source": [
        "<a href=\"https://colab.research.google.com/github/anupkunduabc/PROBLEM-SOLVING-AND-PYTHON-PROGRAMMING/blob/main/Pattern_Matching.ipynb\" target=\"_parent\"><img src=\"https://colab.research.google.com/assets/colab-badge.svg\" alt=\"Open In Colab\"/></a>"
      ]
    },
    {
      "cell_type": "markdown",
      "source": [
        "# Python Examples for Pattern Matching"
      ],
      "metadata": {
        "id": "mE9swrIE0Fpy"
      }
    },
    {
      "cell_type": "markdown",
      "source": [
        "## PART 1: SIMPLE if STATEMENTS (5 Examples)"
      ],
      "metadata": {
        "id": "DtQBcvEe0ORi"
      }
    },
    {
      "cell_type": "code",
      "execution_count": 46,
      "metadata": {
        "colab": {
          "base_uri": "https://localhost:8080/"
        },
        "id": "faO-WNEmuwiI",
        "outputId": "701dcf32-ce21-4408-b808-f00c04626bb0"
      },
      "outputs": [
        {
          "output_type": "stream",
          "name": "stdout",
          "text": [
            "==================================================\n",
            "Example 1: Check Positive Number\n",
            "==================================================\n",
            "10 is a positive number\n",
            "Good! Positive numbers are greater than zero\n",
            "Program continues here\n",
            "\n"
          ]
        }
      ],
      "source": [
        "# Example 1: Check if number is positive\n",
        "print(\"=\" * 50)\n",
        "print(\"Example 1: Check Positive Number\")\n",
        "print(\"=\" * 50)\n",
        "\n",
        "number = 10  # You can change this value\n",
        "\n",
        "if number > 0:\n",
        "    print(f\"{number} is a positive number\")\n",
        "    print(\"Good! Positive numbers are greater than zero\")\n",
        "\n",
        "print(\"Program continues here\")\n",
        "print()"
      ]
    },
    {
      "cell_type": "code",
      "source": [
        "# Example 2: Check voting eligibility\n",
        "print(\"=\" * 50)\n",
        "print(\"Example 2: Voting Age Check\")\n",
        "print(\"=\" * 50)\n",
        "\n",
        "age = 20  # Change this to test different ages\n",
        "\n",
        "if age >= 18:\n",
        "    print(f\"Age: {age}\")\n",
        "    print(\"You are eligible to vote!\")\n",
        "    print(\"Please carry your ID card\")\n",
        "\n",
        "print(\"Thank you for checking\")\n",
        "print()"
      ],
      "metadata": {
        "colab": {
          "base_uri": "https://localhost:8080/"
        },
        "id": "VZlvdbcK0cxZ",
        "outputId": "71a214ff-f0dd-44df-baa7-9ed5093310cd"
      },
      "execution_count": 47,
      "outputs": [
        {
          "output_type": "stream",
          "name": "stdout",
          "text": [
            "==================================================\n",
            "Example 2: Voting Age Check\n",
            "==================================================\n",
            "Age: 20\n",
            "You are eligible to vote!\n",
            "Please carry your ID card\n",
            "Thank you for checking\n",
            "\n"
          ]
        }
      ]
    },
    {
      "cell_type": "code",
      "source": [
        "# Example 3: Check if string contains a character\n",
        "print(\"=\" * 50)\n",
        "print(\"Example 3: Email '@' Symbol Check\")\n",
        "print(\"=\" * 50)\n",
        "\n",
        "email = \"student@ssn.edu.in\"  # Try changing this\n",
        "\n",
        "if '@' in email:\n",
        "    print(f\"Email: {email}\")\n",
        "    print(\"This looks like a valid email format\")\n",
        "    print(\"It contains the @ symbol\")\n",
        "\n",
        "print()"
      ],
      "metadata": {
        "colab": {
          "base_uri": "https://localhost:8080/"
        },
        "id": "g4LFuU830c7-",
        "outputId": "df91613d-2b3f-4009-8e86-2c6d26d9ed08"
      },
      "execution_count": 48,
      "outputs": [
        {
          "output_type": "stream",
          "name": "stdout",
          "text": [
            "==================================================\n",
            "Example 3: Email '@' Symbol Check\n",
            "==================================================\n",
            "Email: student@ssn.edu.in\n",
            "This looks like a valid email format\n",
            "It contains the @ symbol\n",
            "\n"
          ]
        }
      ]
    },
    {
      "cell_type": "code",
      "source": [
        "# Example 4: Check password length\n",
        "print(\"=\" * 50)\n",
        "print(\"Example 4: Password Length Validation\")\n",
        "print(\"=\" * 50)\n",
        "\n",
        "password = \"hello123\"  # Try different passwords\n",
        "\n",
        "if len(password) >= 8:\n",
        "    print(f\"Password length: {len(password)} characters\")\n",
        "    print(\"Good! Your password is long enough\")\n",
        "    print(\"Minimum 8 characters required\")\n",
        "\n",
        "print()"
      ],
      "metadata": {
        "colab": {
          "base_uri": "https://localhost:8080/"
        },
        "id": "FmVW4TeB0dF0",
        "outputId": "136ea872-7c59-4a94-c8cf-f9d2af2511f6"
      },
      "execution_count": 49,
      "outputs": [
        {
          "output_type": "stream",
          "name": "stdout",
          "text": [
            "==================================================\n",
            "Example 4: Password Length Validation\n",
            "==================================================\n",
            "Password length: 8 characters\n",
            "Good! Your password is long enough\n",
            "Minimum 8 characters required\n",
            "\n"
          ]
        }
      ]
    },
    {
      "cell_type": "code",
      "source": [
        "# Example 5: Check if number is even\n",
        "print(\"=\" * 50)\n",
        "print(\"Example 5: Even Number Check\")\n",
        "print(\"=\" * 50)\n",
        "\n",
        "num = 24  # Change this value\n",
        "\n",
        "if num % 2 == 0:\n",
        "    print(f\"{num} is an EVEN number\")\n",
        "    print(\"Even numbers are divisible by 2\")\n",
        "\n",
        "print(\"Check complete\")\n",
        "print()"
      ],
      "metadata": {
        "colab": {
          "base_uri": "https://localhost:8080/"
        },
        "id": "tSzImKh50nQt",
        "outputId": "7f4c9c40-ee03-4ce9-b7d7-0c9a15cc0686"
      },
      "execution_count": 50,
      "outputs": [
        {
          "output_type": "stream",
          "name": "stdout",
          "text": [
            "==================================================\n",
            "Example 5: Even Number Check\n",
            "==================================================\n",
            "24 is an EVEN number\n",
            "Even numbers are divisible by 2\n",
            "Check complete\n",
            "\n"
          ]
        }
      ]
    },
    {
      "cell_type": "markdown",
      "source": [
        "## PART 2: if-else STATEMENTS (5 Examples)"
      ],
      "metadata": {
        "id": "jyzUhzJD0wkF"
      }
    },
    {
      "cell_type": "code",
      "source": [
        "# Example 6: Positive or Negative number\n",
        "print(\"=\" * 50)\n",
        "print(\"Example 6: Positive or Negative\")\n",
        "print(\"=\" * 50)\n",
        "\n",
        "number = -15  # Try positive and negative values\n",
        "\n",
        "if number >= 0:\n",
        "    print(f\"{number} is a POSITIVE number or ZERO\")\n",
        "else:\n",
        "    print(f\"{number} is a NEGATIVE number\")\n",
        "\n",
        "print(\"Number check completed\")\n",
        "print()"
      ],
      "metadata": {
        "colab": {
          "base_uri": "https://localhost:8080/"
        },
        "id": "nu1ibFIm01kE",
        "outputId": "f3864c08-04da-4a48-ac31-e9da713304d9"
      },
      "execution_count": 51,
      "outputs": [
        {
          "output_type": "stream",
          "name": "stdout",
          "text": [
            "==================================================\n",
            "Example 6: Positive or Negative\n",
            "==================================================\n",
            "-15 is a NEGATIVE number\n",
            "Number check completed\n",
            "\n"
          ]
        }
      ]
    },
    {
      "cell_type": "code",
      "source": [
        "# Example 7: Pass or Fail\n",
        "print(\"=\" * 50)\n",
        "print(\"Example 7: Exam Result - Pass or Fail\")\n",
        "print(\"=\" * 50)\n",
        "\n",
        "marks = 45  # Change marks to test\n",
        "\n",
        "if marks >= 50:\n",
        "    print(f\"Marks scored: {marks}\")\n",
        "    print(\"Result: PASS\")\n",
        "    print(\"Congratulations!\")\n",
        "else:\n",
        "    print(f\"Marks scored: {marks}\")\n",
        "    print(\"Result: FAIL\")\n",
        "    print(\"Better luck next time\")\n",
        "\n",
        "print()"
      ],
      "metadata": {
        "colab": {
          "base_uri": "https://localhost:8080/"
        },
        "id": "_JEyFQs001uM",
        "outputId": "e6c754dd-0f25-443a-8d53-21b031e6f569"
      },
      "execution_count": 52,
      "outputs": [
        {
          "output_type": "stream",
          "name": "stdout",
          "text": [
            "==================================================\n",
            "Example 7: Exam Result - Pass or Fail\n",
            "==================================================\n",
            "Marks scored: 45\n",
            "Result: FAIL\n",
            "Better luck next time\n",
            "\n"
          ]
        }
      ]
    },
    {
      "cell_type": "code",
      "source": [
        "# Example 8: Adult or Minor\n",
        "print(\"=\" * 50)\n",
        "print(\"Example 8: Adult or Minor\")\n",
        "print(\"=\" * 50)\n",
        "\n",
        "person_age = 16  # Try different ages\n",
        "\n",
        "if person_age >= 18:\n",
        "    print(f\"Age: {person_age} years\")\n",
        "    print(\"Status: ADULT\")\n",
        "    print(\"You can apply for driving license\")\n",
        "else:\n",
        "    print(f\"Age: {person_age} years\")\n",
        "    print(\"Status: MINOR\")\n",
        "    print(\"You need parental permission\")\n",
        "\n",
        "print()\n"
      ],
      "metadata": {
        "colab": {
          "base_uri": "https://localhost:8080/"
        },
        "id": "vqj9d5No0130",
        "outputId": "660e853a-2a0f-4422-8ceb-5793e06bdb8f"
      },
      "execution_count": 53,
      "outputs": [
        {
          "output_type": "stream",
          "name": "stdout",
          "text": [
            "==================================================\n",
            "Example 8: Adult or Minor\n",
            "==================================================\n",
            "Age: 16 years\n",
            "Status: MINOR\n",
            "You need parental permission\n",
            "\n"
          ]
        }
      ]
    },
    {
      "cell_type": "code",
      "source": [
        "# Example 9: Even or Odd\n",
        "print(\"=\" * 50)\n",
        "print(\"Example 9: Even or Odd Number\")\n",
        "print(\"=\" * 50)\n",
        "\n",
        "number = 17  # Try different numbers\n",
        "\n",
        "if number % 2 == 0:\n",
        "    print(f\"{number} is EVEN\")\n",
        "    print(\"Divisible by 2 with no remainder\")\n",
        "else:\n",
        "    print(f\"{number} is ODD\")\n",
        "    print(\"Leaves remainder 1 when divided by 2\")\n",
        "\n",
        "print()"
      ],
      "metadata": {
        "colab": {
          "base_uri": "https://localhost:8080/"
        },
        "id": "QYPune2O02CA",
        "outputId": "35e2dead-e53a-4edb-b981-320e057439bc"
      },
      "execution_count": 54,
      "outputs": [
        {
          "output_type": "stream",
          "name": "stdout",
          "text": [
            "==================================================\n",
            "Example 9: Even or Odd Number\n",
            "==================================================\n",
            "17 is ODD\n",
            "Leaves remainder 1 when divided by 2\n",
            "\n"
          ]
        }
      ]
    },
    {
      "cell_type": "code",
      "source": [
        "# Example 10: Temperature check\n",
        "print(\"=\" * 50)\n",
        "print(\"Example 10: Temperature Advisory\")\n",
        "print(\"=\" * 50)\n",
        "\n",
        "temperature = 35  # Temperature in Celsius\n",
        "\n",
        "if temperature > 30:\n",
        "    print(f\"Temperature: {temperature}°C\")\n",
        "    print(\"It's HOT outside!\")\n",
        "    print(\"Stay hydrated and avoid going out\")\n",
        "else:\n",
        "    print(f\"Temperature: {temperature}°C\")\n",
        "    print(\"Weather is pleasant\")\n",
        "    print(\"Good day to go out\")\n",
        "\n",
        "print()"
      ],
      "metadata": {
        "colab": {
          "base_uri": "https://localhost:8080/"
        },
        "id": "QE_6feyh02Ms",
        "outputId": "e7e6ca21-1bd9-45c2-ca1f-ac46edb8ecbf"
      },
      "execution_count": 55,
      "outputs": [
        {
          "output_type": "stream",
          "name": "stdout",
          "text": [
            "==================================================\n",
            "Example 10: Temperature Advisory\n",
            "==================================================\n",
            "Temperature: 35°C\n",
            "It's HOT outside!\n",
            "Stay hydrated and avoid going out\n",
            "\n"
          ]
        }
      ]
    },
    {
      "cell_type": "markdown",
      "source": [
        "\n",
        "# PART 3: if-elif-else STATEMENTS (5 Examples)\n",
        "\n"
      ],
      "metadata": {
        "id": "QoNI7T0I1GVt"
      }
    },
    {
      "cell_type": "code",
      "source": [
        "# Example 11: Grade calculator\n",
        "print(\"=\" * 50)\n",
        "print(\"Example 11: Grade Based on Marks\")\n",
        "print(\"=\" * 50)\n",
        "\n",
        "marks = 78  # Change to test different grades\n",
        "\n",
        "if marks >= 90:\n",
        "    print(f\"Marks: {marks}\")\n",
        "    print(\"Grade: A - Excellent!\")\n",
        "elif marks >= 75:\n",
        "    print(f\"Marks: {marks}\")\n",
        "    print(\"Grade: B - Good job!\")\n",
        "elif marks >= 60:\n",
        "    print(f\"Marks: {marks}\")\n",
        "    print(\"Grade: C - Satisfactory\")\n",
        "else:\n",
        "    print(f\"Marks: {marks}\")\n",
        "    print(\"Grade: F - Failed\")\n",
        "\n",
        "print()"
      ],
      "metadata": {
        "colab": {
          "base_uri": "https://localhost:8080/"
        },
        "id": "p1xOQrBZ1KjS",
        "outputId": "541d5488-a534-4df2-c7da-68e7893f5833"
      },
      "execution_count": 56,
      "outputs": [
        {
          "output_type": "stream",
          "name": "stdout",
          "text": [
            "==================================================\n",
            "Example 11: Grade Based on Marks\n",
            "==================================================\n",
            "Marks: 78\n",
            "Grade: B - Good job!\n",
            "\n"
          ]
        }
      ]
    },
    {
      "cell_type": "code",
      "source": [
        "# Example 12: Age group classification\n",
        "print(\"=\" * 50)\n",
        "print(\"Example 12: Age Group Category\")\n",
        "print(\"=\" * 50)\n",
        "\n",
        "age = 15  # Try different ages\n",
        "\n",
        "if age < 13:\n",
        "    print(f\"Age: {age} years\")\n",
        "    print(\"Category: CHILD\")\n",
        "    print(\"Enjoy your childhood!\")\n",
        "elif age < 18:\n",
        "    print(f\"Age: {age} years\")\n",
        "    print(\"Category: TEENAGER\")\n",
        "    print(\"Focus on your studies!\")\n",
        "elif age < 60:\n",
        "    print(f\"Age: {age} years\")\n",
        "    print(\"Category: ADULT\")\n",
        "    print(\"Work hard, stay healthy!\")\n",
        "else:\n",
        "    print(f\"Age: {age} years\")\n",
        "    print(\"Category: SENIOR CITIZEN\")\n",
        "    print(\"Enjoy retirement!\")\n",
        "\n",
        "print()"
      ],
      "metadata": {
        "colab": {
          "base_uri": "https://localhost:8080/"
        },
        "id": "XvGgLiVu1KtT",
        "outputId": "a291cb22-4459-4d02-cdb8-112c19305fb8"
      },
      "execution_count": 57,
      "outputs": [
        {
          "output_type": "stream",
          "name": "stdout",
          "text": [
            "==================================================\n",
            "Example 12: Age Group Category\n",
            "==================================================\n",
            "Age: 15 years\n",
            "Category: TEENAGER\n",
            "Focus on your studies!\n",
            "\n"
          ]
        }
      ]
    },
    {
      "cell_type": "code",
      "source": [
        "# Example 13: Traffic light system\n",
        "print(\"=\" * 50)\n",
        "print(\"Example 13: Traffic Light Signal\")\n",
        "print(\"=\" * 50)\n",
        "\n",
        "light = \"yellow\"  # Try: \"red\", \"yellow\", \"green\"\n",
        "\n",
        "if light == \"red\":\n",
        "    print(\"Signal: RED\")\n",
        "    print(\"Action: STOP!\")\n",
        "    print(\"Wait for green signal\")\n",
        "elif light == \"yellow\":\n",
        "    print(\"Signal: YELLOW\")\n",
        "    print(\"Action: SLOW DOWN\")\n",
        "    print(\"Prepare to stop\")\n",
        "elif light == \"green\":\n",
        "    print(\"Signal: GREEN\")\n",
        "    print(\"Action: GO\")\n",
        "    print(\"Drive safely\")\n",
        "else:\n",
        "    print(\"Signal: UNKNOWN\")\n",
        "    print(\"Invalid signal!\")\n",
        "\n",
        "print()"
      ],
      "metadata": {
        "colab": {
          "base_uri": "https://localhost:8080/"
        },
        "id": "2ayaADrz1K21",
        "outputId": "6ad2d686-eca9-435d-873a-274acbcb0131"
      },
      "execution_count": 58,
      "outputs": [
        {
          "output_type": "stream",
          "name": "stdout",
          "text": [
            "==================================================\n",
            "Example 13: Traffic Light Signal\n",
            "==================================================\n",
            "Signal: YELLOW\n",
            "Action: SLOW DOWN\n",
            "Prepare to stop\n",
            "\n"
          ]
        }
      ]
    },
    {
      "cell_type": "code",
      "source": [
        "# Example 14: Day type checker\n",
        "print(\"=\" * 50)\n",
        "print(\"Example 14: Weekend or Weekday\")\n",
        "print(\"=\" * 50)\n",
        "\n",
        "day = \"Saturday\"  # Try different days\n",
        "\n",
        "if day == \"Saturday\" or day == \"Sunday\":\n",
        "    print(f\"Day: {day}\")\n",
        "    print(\"Type: WEEKEND\")\n",
        "    print(\"Time to relax!\")\n",
        "elif day == \"Monday\" or day == \"Tuesday\" or day == \"Wednesday\":\n",
        "    print(f\"Day: {day}\")\n",
        "    print(\"Type: WEEKDAY - Early week\")\n",
        "    print(\"Stay energetic!\")\n",
        "elif day == \"Thursday\" or day == \"Friday\":\n",
        "    print(f\"Day: {day}\")\n",
        "    print(\"Type: WEEKDAY - End of week\")\n",
        "    print(\"Weekend is coming!\")\n",
        "else:\n",
        "    print(\"Invalid day name\")\n",
        "\n",
        "print()"
      ],
      "metadata": {
        "colab": {
          "base_uri": "https://localhost:8080/"
        },
        "id": "Fy1ooBI41LAZ",
        "outputId": "c6a70675-e745-4a3d-d726-122a1073027c"
      },
      "execution_count": 59,
      "outputs": [
        {
          "output_type": "stream",
          "name": "stdout",
          "text": [
            "==================================================\n",
            "Example 14: Weekend or Weekday\n",
            "==================================================\n",
            "Day: Saturday\n",
            "Type: WEEKEND\n",
            "Time to relax!\n",
            "\n"
          ]
        }
      ]
    },
    {
      "cell_type": "code",
      "source": [
        "# Example 15: Number sign checker\n",
        "print(\"=\" * 50)\n",
        "print(\"Example 15: Positive, Negative or Zero\")\n",
        "print(\"=\" * 50)\n",
        "\n",
        "num = 0  # Try positive, negative, and zero\n",
        "\n",
        "if num > 0:\n",
        "    print(f\"Number: {num}\")\n",
        "    print(\"Type: POSITIVE number\")\n",
        "    print(\"Greater than zero\")\n",
        "elif num < 0:\n",
        "    print(f\"Number: {num}\")\n",
        "    print(\"Type: NEGATIVE number\")\n",
        "    print(\"Less than zero\")\n",
        "else:\n",
        "    print(f\"Number: {num}\")\n",
        "    print(\"Type: ZERO\")\n",
        "    print(\"Neither positive nor negative\")\n",
        "\n",
        "print()"
      ],
      "metadata": {
        "colab": {
          "base_uri": "https://localhost:8080/"
        },
        "id": "WPtnQkQF1LKd",
        "outputId": "346bec4f-0feb-4d54-d4cf-dfe622c4a924"
      },
      "execution_count": 60,
      "outputs": [
        {
          "output_type": "stream",
          "name": "stdout",
          "text": [
            "==================================================\n",
            "Example 15: Positive, Negative or Zero\n",
            "==================================================\n",
            "Number: 0\n",
            "Type: ZERO\n",
            "Neither positive nor negative\n",
            "\n"
          ]
        }
      ]
    },
    {
      "cell_type": "markdown",
      "source": [
        "# PART 4: NESTED if-else STATEMENTS (5 Examples)"
      ],
      "metadata": {
        "id": "5oPETmWZ1eaw"
      }
    },
    {
      "cell_type": "code",
      "source": [
        "# Example 16: Number classification\n",
        "print(\"=\" * 50)\n",
        "print(\"Example 16: Positive Even/Odd Classification\")\n",
        "print(\"=\" * 50)\n",
        "\n",
        "number = 12  # Try different numbers\n",
        "\n",
        "if number > 0:\n",
        "    print(f\"Number: {number}\")\n",
        "    print(\"First check: Number is POSITIVE\")\n",
        "\n",
        "    # Now check if even or odd (nested)\n",
        "    if number % 2 == 0:\n",
        "        print(\"Second check: Number is EVEN\")\n",
        "        print(\"Final result: POSITIVE EVEN number\")\n",
        "    else:\n",
        "        print(\"Second check: Number is ODD\")\n",
        "        print(\"Final result: POSITIVE ODD number\")\n",
        "else:\n",
        "    print(f\"Number: {number}\")\n",
        "    print(\"Number is ZERO or NEGATIVE\")\n",
        "\n",
        "print()"
      ],
      "metadata": {
        "colab": {
          "base_uri": "https://localhost:8080/"
        },
        "id": "rGb7fgnv1hDO",
        "outputId": "577f3256-6886-4b68-ab8d-b29cbae30081"
      },
      "execution_count": 61,
      "outputs": [
        {
          "output_type": "stream",
          "name": "stdout",
          "text": [
            "==================================================\n",
            "Example 16: Positive Even/Odd Classification\n",
            "==================================================\n",
            "Number: 12\n",
            "First check: Number is POSITIVE\n",
            "Second check: Number is EVEN\n",
            "Final result: POSITIVE EVEN number\n",
            "\n"
          ]
        }
      ]
    },
    {
      "cell_type": "code",
      "source": [
        "# Example 17: Voting eligibility with ID check\n",
        "print(\"=\" * 50)\n",
        "print(\"Example 17: Voting Eligibility (Age + ID)\")\n",
        "print(\"=\" * 50)\n",
        "\n",
        "age = 20  # Change age\n",
        "has_id = True  # Change to True or False\n",
        "\n",
        "if age >= 18:\n",
        "    print(f\"Age: {age} years - Eligible age\")\n",
        "\n",
        "    # Check if person has ID (nested)\n",
        "    if has_id == True:\n",
        "        print(\"ID Status: Available\")\n",
        "        print(\"FINAL: You can vote!\")\n",
        "        print(\"Please proceed to polling booth\")\n",
        "    else:\n",
        "        print(\"ID Status: Not available\")\n",
        "        print(\"FINAL: Cannot vote without ID\")\n",
        "        print(\"Please get your voter ID first\")\n",
        "else:\n",
        "    print(f\"Age: {age} years - Not eligible\")\n",
        "    print(\"FINAL: Too young to vote\")\n",
        "    print(\"Wait until you turn 18\")\n",
        "\n",
        "print()"
      ],
      "metadata": {
        "colab": {
          "base_uri": "https://localhost:8080/"
        },
        "id": "ovt_HK6q1lu8",
        "outputId": "3366d074-83b9-4661-96b1-c8fdd0046ddb"
      },
      "execution_count": 62,
      "outputs": [
        {
          "output_type": "stream",
          "name": "stdout",
          "text": [
            "==================================================\n",
            "Example 17: Voting Eligibility (Age + ID)\n",
            "==================================================\n",
            "Age: 20 years - Eligible age\n",
            "ID Status: Available\n",
            "FINAL: You can vote!\n",
            "Please proceed to polling booth\n",
            "\n"
          ]
        }
      ]
    },
    {
      "cell_type": "code",
      "source": [
        "# Example 18: Admission eligibility\n",
        "print(\"=\" * 50)\n",
        "print(\"Example 18: College Admission Check\")\n",
        "print(\"=\" * 50)\n",
        "\n",
        "marks = 85  # Change marks\n",
        "attendance = 90  # Change attendance percentage\n",
        "\n",
        "if marks >= 75:\n",
        "    print(f\"Marks: {marks} - Above cutoff\")\n",
        "\n",
        "    # Check attendance (nested)\n",
        "    if attendance >= 85:\n",
        "        print(f\"Attendance: {attendance}% - Good attendance\")\n",
        "        print(\"RESULT: ADMITTED\")\n",
        "        print(\"Welcome to college!\")\n",
        "    else:\n",
        "        print(f\"Attendance: {attendance}% - Low attendance\")\n",
        "        print(\"RESULT: NOT ADMITTED\")\n",
        "        print(\"Attendance below 85%\")\n",
        "else:\n",
        "    print(f\"Marks: {marks} - Below cutoff\")\n",
        "    print(\"RESULT: NOT ADMITTED\")\n",
        "    print(\"Marks must be at least 75\")\n",
        "\n",
        "print()\n"
      ],
      "metadata": {
        "colab": {
          "base_uri": "https://localhost:8080/"
        },
        "id": "nA7Ud5Fk1m2s",
        "outputId": "ef508e83-1392-4ef4-ea07-25b02a9ca908"
      },
      "execution_count": 63,
      "outputs": [
        {
          "output_type": "stream",
          "name": "stdout",
          "text": [
            "==================================================\n",
            "Example 18: College Admission Check\n",
            "==================================================\n",
            "Marks: 85 - Above cutoff\n",
            "Attendance: 90% - Good attendance\n",
            "RESULT: ADMITTED\n",
            "Welcome to college!\n",
            "\n"
          ]
        }
      ]
    },
    {
      "cell_type": "code",
      "source": [
        "# Example 19: Discount calculator\n",
        "print(\"=\" * 50)\n",
        "print(\"Example 19: Shopping Discount Eligibility\")\n",
        "print(\"=\" * 50)\n",
        "\n",
        "bill_amount = 1200  # Change amount\n",
        "is_member = True  # Change to True or False\n",
        "\n",
        "if bill_amount >= 1000:\n",
        "    print(f\"Bill: ₹{bill_amount}\")\n",
        "    print(\"Bill qualifies for discount check\")\n",
        "\n",
        "    # Check membership (nested)\n",
        "    if is_member == True:\n",
        "        print(\"Membership: YES\")\n",
        "        discount = bill_amount * 0.20  # 20% discount\n",
        "        final_amount = bill_amount - discount\n",
        "        print(f\"Discount: 20% = ₹{discount}\")\n",
        "        print(f\"Final amount: ₹{final_amount}\")\n",
        "    else:\n",
        "        print(\"Membership: NO\")\n",
        "        discount = bill_amount * 0.10  # 10% discount\n",
        "        final_amount = bill_amount - discount\n",
        "        print(f\"Discount: 10% = ₹{discount}\")\n",
        "        print(f\"Final amount: ₹{final_amount}\")\n",
        "else:\n",
        "    print(f\"Bill: ₹{bill_amount}\")\n",
        "    print(\"No discount - Bill less than ₹1000\")\n",
        "\n",
        "print()\n"
      ],
      "metadata": {
        "colab": {
          "base_uri": "https://localhost:8080/"
        },
        "id": "UeOkIEqm1sLB",
        "outputId": "4e33064e-abe0-4b9b-8ea5-059f898c8464"
      },
      "execution_count": 64,
      "outputs": [
        {
          "output_type": "stream",
          "name": "stdout",
          "text": [
            "==================================================\n",
            "Example 19: Shopping Discount Eligibility\n",
            "==================================================\n",
            "Bill: ₹1200\n",
            "Bill qualifies for discount check\n",
            "Membership: YES\n",
            "Discount: 20% = ₹240.0\n",
            "Final amount: ₹960.0\n",
            "\n"
          ]
        }
      ]
    },
    {
      "cell_type": "code",
      "source": [
        "# Example 20: Login system\n",
        "print(\"=\" * 50)\n",
        "print(\"Example 20: Simple Login Check\")\n",
        "print(\"=\" * 50)\n",
        "\n",
        "username = \"student\"  # Try different usernames\n",
        "password = \"pass123\"  # Try different passwords\n",
        "\n",
        "if username == \"student\":\n",
        "    print(f\"Username: {username} - Correct\")\n",
        "\n",
        "    # Check password (nested)\n",
        "    if password == \"pass123\":\n",
        "        print(f\"Password: Correct\")\n",
        "        print(\"LOGIN SUCCESSFUL!\")\n",
        "        print(\"Welcome to the system\")\n",
        "    else:\n",
        "        print(f\"Password: Incorrect\")\n",
        "        print(\"LOGIN FAILED\")\n",
        "        print(\"Wrong password\")\n",
        "else:\n",
        "    print(f\"Username: {username} - Incorrect\")\n",
        "    print(\"LOGIN FAILED\")\n",
        "    print(\"User not found\")\n",
        "\n",
        "print()"
      ],
      "metadata": {
        "colab": {
          "base_uri": "https://localhost:8080/"
        },
        "id": "oHLjtf0K1jXL",
        "outputId": "c2e3a523-2418-4740-94c7-108ac08824fc"
      },
      "execution_count": 65,
      "outputs": [
        {
          "output_type": "stream",
          "name": "stdout",
          "text": [
            "==================================================\n",
            "Example 20: Simple Login Check\n",
            "==================================================\n",
            "Username: student - Correct\n",
            "Password: Correct\n",
            "LOGIN SUCCESSFUL!\n",
            "Welcome to the system\n",
            "\n"
          ]
        }
      ]
    },
    {
      "cell_type": "markdown",
      "source": [
        "# 5 PATTERN MATCHING EXAMPLES USING if-elif-else"
      ],
      "metadata": {
        "id": "TtUCMyjb2LrT"
      }
    },
    {
      "cell_type": "code",
      "source": [
        "# Example 1: Grade Pattern Matching\n",
        "print(\"Example 1: Grade Pattern Based on Marks\")\n",
        "marks = 78\n",
        "\n",
        "if marks >= 90:\n",
        "    print(\"Marks:\", marks)\n",
        "    print(\"Grade: A\")\n",
        "elif marks >= 75:\n",
        "    print(\"Marks:\", marks)\n",
        "    print(\"Grade: B\")\n",
        "elif marks >= 60:\n",
        "    print(\"Marks:\", marks)\n",
        "    print(\"Grade: C\")\n",
        "else:\n",
        "    print(\"Marks:\", marks)\n",
        "    print(\"Grade: F\")"
      ],
      "metadata": {
        "colab": {
          "base_uri": "https://localhost:8080/"
        },
        "id": "636z_YKI2S-s",
        "outputId": "aed65efe-dc65-4c39-f957-47ba09b28024"
      },
      "execution_count": 66,
      "outputs": [
        {
          "output_type": "stream",
          "name": "stdout",
          "text": [
            "Example 1: Grade Pattern Based on Marks\n",
            "Marks: 78\n",
            "Grade: B\n"
          ]
        }
      ]
    },
    {
      "cell_type": "code",
      "source": [
        "# Example 2: Age Group Pattern Matching\n",
        "print(\"Example 2: Age Group Pattern\")\n",
        "age = 15\n",
        "\n",
        "if age < 13:\n",
        "    print(\"Age:\", age, \"years\")\n",
        "    print(\"Category: Child\")\n",
        "elif age < 18:\n",
        "    print(\"Age:\", age, \"years\")\n",
        "    print(\"Category: Teenager\")\n",
        "elif age < 60:\n",
        "    print(\"Age:\", age, \"years\")\n",
        "    print(\"Category: Adult\")\n",
        "else:\n",
        "    print(\"Age:\", age, \"years\")\n",
        "    print(\"Category: Senior Citizen\")"
      ],
      "metadata": {
        "colab": {
          "base_uri": "https://localhost:8080/"
        },
        "id": "flAIR7Ef2XUT",
        "outputId": "1be10b2f-b8d5-4afb-fd36-e4e70c1eb945"
      },
      "execution_count": 67,
      "outputs": [
        {
          "output_type": "stream",
          "name": "stdout",
          "text": [
            "Example 2: Age Group Pattern\n",
            "Age: 15 years\n",
            "Category: Teenager\n"
          ]
        }
      ]
    },
    {
      "cell_type": "code",
      "source": [
        "# Example 3: Day Type Pattern Matching\n",
        "print(\"Example 3: Day Pattern - Weekend or Weekday\")\n",
        "day = \"Saturday\"\n",
        "\n",
        "if day == \"Saturday\" or day == \"Sunday\":\n",
        "    print(\"Day:\", day)\n",
        "    print(\"Pattern: Weekend\")\n",
        "elif day == \"Monday\" or day == \"Tuesday\" or day == \"Wednesday\" or day == \"Thursday\" or day == \"Friday\":\n",
        "    print(\"Day:\", day)\n",
        "    print(\"Pattern: Weekday\")\n",
        "else:\n",
        "    print(\"Day:\", day)\n",
        "    print(\"Pattern: Invalid day\")"
      ],
      "metadata": {
        "colab": {
          "base_uri": "https://localhost:8080/"
        },
        "id": "C-diXYY62Zdk",
        "outputId": "0e46cc30-a459-40f3-e692-06e8ed690188"
      },
      "execution_count": 68,
      "outputs": [
        {
          "output_type": "stream",
          "name": "stdout",
          "text": [
            "Example 3: Day Pattern - Weekend or Weekday\n",
            "Day: Saturday\n",
            "Pattern: Weekend\n"
          ]
        }
      ]
    },
    {
      "cell_type": "code",
      "source": [
        "# Example 4: Number Sign Pattern Matching\n",
        "print(\"Example 4: Number Sign Pattern\")\n",
        "num = -5\n",
        "\n",
        "if num > 0:\n",
        "    print(\"Number:\", num)\n",
        "    print(\"Pattern: Positive\")\n",
        "elif num < 0:\n",
        "    print(\"Number:\", num)\n",
        "    print(\"Pattern: Negative\")\n",
        "else:\n",
        "    print(\"Number:\", num)\n",
        "    print(\"Pattern: Zero\")"
      ],
      "metadata": {
        "colab": {
          "base_uri": "https://localhost:8080/"
        },
        "id": "fynIpYus2bNJ",
        "outputId": "607647db-981d-4168-cc84-e521b5f59397"
      },
      "execution_count": 69,
      "outputs": [
        {
          "output_type": "stream",
          "name": "stdout",
          "text": [
            "Example 4: Number Sign Pattern\n",
            "Number: -5\n",
            "Pattern: Negative\n"
          ]
        }
      ]
    },
    {
      "cell_type": "code",
      "source": [
        "# Example 5: Temperature Pattern Matching\n",
        "print(\"Example 5: Temperature Zone Pattern\")\n",
        "temperature = 35\n",
        "\n",
        "if temperature > 35:\n",
        "    print(\"Temperature:\", temperature, \"°C\")\n",
        "    print(\"Pattern: Very Hot\")\n",
        "elif temperature > 25:\n",
        "    print(\"Temperature:\", temperature, \"°C\")\n",
        "    print(\"Pattern: Hot\")\n",
        "elif temperature > 15:\n",
        "    print(\"Temperature:\", temperature, \"°C\")\n",
        "    print(\"Pattern: Pleasant\")\n",
        "else:\n",
        "    print(\"Temperature:\", temperature, \"°C\")\n",
        "    print(\"Pattern: Cold\")"
      ],
      "metadata": {
        "colab": {
          "base_uri": "https://localhost:8080/"
        },
        "id": "6sJqg4SO2MTF",
        "outputId": "50b8d1cc-e291-49ea-f3aa-03c020f5c2be"
      },
      "execution_count": 70,
      "outputs": [
        {
          "output_type": "stream",
          "name": "stdout",
          "text": [
            "Example 5: Temperature Zone Pattern\n",
            "Temperature: 35 °C\n",
            "Pattern: Hot\n"
          ]
        }
      ]
    }
  ]
}