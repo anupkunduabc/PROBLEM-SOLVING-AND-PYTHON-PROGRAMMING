{
  "nbformat": 4,
  "nbformat_minor": 0,
  "metadata": {
    "colab": {
      "provenance": [],
      "authorship_tag": "ABX9TyMpXlfKK0XrX26zoMz9MKle",
      "include_colab_link": true
    },
    "kernelspec": {
      "name": "python3",
      "display_name": "Python 3"
    },
    "language_info": {
      "name": "python"
    }
  },
  "cells": [
    {
      "cell_type": "markdown",
      "metadata": {
        "id": "view-in-github",
        "colab_type": "text"
      },
      "source": [
        "<a href=\"https://colab.research.google.com/github/anupkunduabc/PROBLEM-SOLVING-AND-PYTHON-PROGRAMMING/blob/main/CONDITIONAL.ipynb\" target=\"_parent\"><img src=\"https://colab.research.google.com/assets/colab-badge.svg\" alt=\"Open In Colab\"/></a>"
      ]
    },
    {
      "cell_type": "markdown",
      "source": [
        "# ==========================================================\n",
        "# 🔰 CONDITIONAL STATEMENTS AND EXCEPTION HANDLING IN PYTHON\n",
        "# =========================================================="
      ],
      "metadata": {
        "id": "YYMkCeoHngca"
      }
    },
    {
      "cell_type": "markdown",
      "source": [
        "##=== Example 1: Simple if ==="
      ],
      "metadata": {
        "id": "rwSVafqYn3of"
      }
    },
    {
      "cell_type": "code",
      "source": [
        "print(\"=== Example 1: Simple if ===\")\n",
        "age = 20\n",
        "if age >= 18:\n",
        "    print(\"You are eligible to vote.\")"
      ],
      "metadata": {
        "colab": {
          "base_uri": "https://localhost:8080/"
        },
        "id": "QY94JUdOnlCZ",
        "outputId": "24daa678-2a10-48ff-b6d8-617acb63b58d"
      },
      "execution_count": 2,
      "outputs": [
        {
          "output_type": "stream",
          "name": "stdout",
          "text": [
            "=== Example 1: Simple if ===\n",
            "You are eligible to vote.\n"
          ]
        }
      ]
    },
    {
      "cell_type": "markdown",
      "source": [
        "## \"=== Example 2: if-else ===\""
      ],
      "metadata": {
        "id": "7jROkepMnoqB"
      }
    },
    {
      "cell_type": "code",
      "source": [
        "print(\"=== Example 2: if-else ===\")\n",
        "number = 5\n",
        "if number % 2 == 0:\n",
        "    print(\"Even number\")\n",
        "else:\n",
        "    print(\"Odd number\")\n",
        "print()"
      ],
      "metadata": {
        "colab": {
          "base_uri": "https://localhost:8080/"
        },
        "id": "tzKmILvSoJEB",
        "outputId": "09cf84e5-6869-4088-97c6-0031de0f6e79"
      },
      "execution_count": 3,
      "outputs": [
        {
          "output_type": "stream",
          "name": "stdout",
          "text": [
            "=== Example 2: if-else ===\n",
            "Odd number\n",
            "\n"
          ]
        }
      ]
    },
    {
      "cell_type": "markdown",
      "source": [
        "##\"=== Example 3: if-elif-else ===\""
      ],
      "metadata": {
        "id": "bwEtAry_oHaC"
      }
    },
    {
      "cell_type": "code",
      "source": [
        "print(\"=== Example 3: if-elif-else ===\")\n",
        "marks = 75\n",
        "if marks >= 90:\n",
        "    print(\"Grade: A\")\n",
        "elif marks >= 75:\n",
        "    print(\"Grade: B\")\n",
        "elif marks >= 50:\n",
        "    print(\"Grade: C\")\n",
        "else:\n",
        "    print(\"Grade: Fail\")\n",
        "print()"
      ],
      "metadata": {
        "id": "VyQxvldEoJt6"
      },
      "execution_count": null,
      "outputs": []
    },
    {
      "cell_type": "markdown",
      "source": [
        "##\"=== Example 4: Nested if ===\""
      ],
      "metadata": {
        "id": "nizv-lsgoKIJ"
      }
    },
    {
      "cell_type": "code",
      "source": [
        "print(\"=== Example 4: Nested if ===\")\n",
        "username = \"admin\"\n",
        "password = \"1234\"\n",
        "\n",
        "if username == \"admin\":\n",
        "    if password == \"1234\":\n",
        "        print(\"Login successful\")\n",
        "    else:\n",
        "        print(\"Wrong password\")\n",
        "else:\n",
        "    print(\"Invalid username\")\n",
        "print()"
      ],
      "metadata": {
        "id": "p0h3cDnJoNf5"
      },
      "execution_count": null,
      "outputs": []
    },
    {
      "cell_type": "markdown",
      "source": [
        "##\"=== Example 5: One-line if and if-else ===\""
      ],
      "metadata": {
        "id": "FvZ5mPZloSNa"
      }
    },
    {
      "cell_type": "code",
      "source": [
        "print(\"=== Example 5: One-line if and if-else ===\")\n",
        "x = 10\n",
        "if x > 0: print(\"Positive number\")\n",
        "print(\"Even\") if x % 2 == 0 else print(\"Odd\")\n",
        "print()"
      ],
      "metadata": {
        "id": "cOVNjQTroUna"
      },
      "execution_count": null,
      "outputs": []
    },
    {
      "cell_type": "markdown",
      "source": [
        "##=== Example 6: Using isdigit() ==="
      ],
      "metadata": {
        "id": "KVh_W52iokZS"
      }
    },
    {
      "cell_type": "code",
      "source": [
        "print(\"=== Example 6: Using isdigit() ===\")\n",
        "code = input(\"Enter your age: \")\n",
        "\n",
        "if code.isdigit():\n",
        "    print(\"You entered digits only.\")\n",
        "else:\n",
        "    print(\"That is not a number.\")\n",
        "print()"
      ],
      "metadata": {
        "id": "p44JZs_uonwR"
      },
      "execution_count": null,
      "outputs": []
    },
    {
      "cell_type": "markdown",
      "source": [
        "##=== Example 7: Age Validation with isdigit() ===\""
      ],
      "metadata": {
        "id": "D6YiFVpHoqei"
      }
    },
    {
      "cell_type": "code",
      "source": [
        "print(\"=== Example 7: Age Validation with isdigit() ===\")\n",
        "age = input(\"Enter your age: \")\n",
        "\n",
        "if age.isdigit():\n",
        "    age = int(age)\n",
        "    if age >= 18:\n",
        "        print(\"You are an adult.\")\n",
        "    else:\n",
        "        print(\"You are a minor.\")\n",
        "else:\n",
        "    print(\"Invalid input! Please enter numbers only.\")\n",
        "print()"
      ],
      "metadata": {
        "id": "R_sv0zf-otNx"
      },
      "execution_count": null,
      "outputs": []
    },
    {
      "cell_type": "markdown",
      "source": [
        "##\"=== Example 8: Roll Number Check ===\""
      ],
      "metadata": {
        "id": "PL5uF84Ko0wJ"
      }
    },
    {
      "cell_type": "code",
      "source": [
        "print(\"=== Example 8: Roll Number Check ===\")\n",
        "roll = input(\"Enter your roll number: \")\n",
        "\n",
        "if roll.isdigit():\n",
        "    if len(roll) == 6:\n",
        "        print(\"Valid roll number.\")\n",
        "    else:\n",
        "        print(\"Roll number must be 6 digits long.\")\n",
        "else:\n",
        "    print(\"Invalid roll number! Only digits allowed.\")\n",
        "print()"
      ],
      "metadata": {
        "id": "32YpxQcFo3p5"
      },
      "execution_count": null,
      "outputs": []
    },
    {
      "cell_type": "markdown",
      "source": [
        "##\"=== Example 9: OTP Verification ===\""
      ],
      "metadata": {
        "id": "lO7syIKQo6ua"
      }
    },
    {
      "cell_type": "code",
      "source": [
        "print(\"=== Example 9: OTP Verification ===\")\n",
        "otp = input(\"Enter the 4-digit OTP: \")\n",
        "\n",
        "if otp.isdigit():\n",
        "    if len(otp) == 4:\n",
        "        print(\"OTP Verified ✅\")\n",
        "    else:\n",
        "        print(\"OTP must be exactly 4 digits.\")\n",
        "else:\n",
        "    print(\"Invalid OTP! Only numbers allowed.\")\n",
        "print()"
      ],
      "metadata": {
        "id": "GA9uKdjso7e6"
      },
      "execution_count": null,
      "outputs": []
    },
    {
      "cell_type": "markdown",
      "source": [
        "##\"=== Example 10: Email Validation using '@' in email ===\""
      ],
      "metadata": {
        "id": "4tn-xrB4pEP3"
      }
    },
    {
      "cell_type": "code",
      "source": [
        "print(\"=== Example 10: Email Validation using '@' in email ===\")\n",
        "email = input(\"Enter your email: \")\n",
        "\n",
        "if '@' in email:\n",
        "    print(\"Valid email format ✅\")\n",
        "else:\n",
        "    print(\"Invalid email ❌\")\n",
        "print()"
      ],
      "metadata": {
        "id": "N_fcNXQWpH-Y"
      },
      "execution_count": null,
      "outputs": []
    },
    {
      "cell_type": "markdown",
      "source": [
        "##\"=== Example 11: Email and Age Validation using try-except ===\""
      ],
      "metadata": {
        "id": "xPrAw1XopOlB"
      }
    },
    {
      "cell_type": "code",
      "source": [
        "print(\"=== Example 11: Email and Age Validation using try-except ===\")\n",
        "email = input(\"Enter your email: \")\n",
        "\n",
        "if '@' in email and '.' in email:\n",
        "    print(\"Looks like a valid email address ✅\")\n",
        "else:\n",
        "    print(\"Invalid email format ❌\")\n",
        "\n",
        "try:\n",
        "    age = int(input(\"Enter your age: \"))\n",
        "    print(f\"Your age is {age}.\")\n",
        "except ValueError:\n",
        "    print(\"⚠️ Error: Please enter numbers only for age.\")\n",
        "print()"
      ],
      "metadata": {
        "id": "B4Xi0PaWpNyj"
      },
      "execution_count": null,
      "outputs": []
    }
  ]
}