{
  "nbformat": 4,
  "nbformat_minor": 0,
  "metadata": {
    "colab": {
      "provenance": [],
      "authorship_tag": "ABX9TyOpqwc/0oFexlDPFAgqAAvR",
      "include_colab_link": true
    },
    "kernelspec": {
      "name": "python3",
      "display_name": "Python 3"
    },
    "language_info": {
      "name": "python"
    }
  },
  "cells": [
    {
      "cell_type": "markdown",
      "metadata": {
        "id": "view-in-github",
        "colab_type": "text"
      },
      "source": [
        "<a href=\"https://colab.research.google.com/github/anupkunduabc/PROBLEM-SOLVING-AND-PYTHON-PROGRAMMING/blob/main/ITERATION_STATEMENTS.ipynb\" target=\"_parent\"><img src=\"https://colab.research.google.com/assets/colab-badge.svg\" alt=\"Open In Colab\"/></a>"
      ]
    },
    {
      "cell_type": "markdown",
      "source": [
        "# Iteration: while, for, break, continue, pass"
      ],
      "metadata": {
        "id": "EjMKMvGGWifI"
      }
    },
    {
      "cell_type": "markdown",
      "source": [
        "# while"
      ],
      "metadata": {
        "id": "bZ0RcJjnWkRg"
      }
    },
    {
      "cell_type": "code",
      "source": [
        "# WAY 1: while loop - Count from 1 to 5\n",
        "print(\"WAY 1: while loop - Simple counting\")  # Display heading\n",
        "counter = 1  # Start counter at 1\n",
        "while counter <= 5:  # Keep looping while counter is 5 or less\n",
        "    print(\"Count:\", counter)  # Print current counter value\n",
        "    counter = counter + 1  # Increase counter by 1"
      ],
      "metadata": {
        "colab": {
          "base_uri": "https://localhost:8080/"
        },
        "id": "RvnYQDFqW9r1",
        "outputId": "c430b547-9fab-4722-f876-c88edd3d8dc0"
      },
      "execution_count": 1,
      "outputs": [
        {
          "output_type": "stream",
          "name": "stdout",
          "text": [
            "WAY 1: while loop - Simple counting\n",
            "Count: 1\n",
            "Count: 2\n",
            "Count: 3\n",
            "Count: 4\n",
            "Count: 5\n"
          ]
        }
      ]
    },
    {
      "cell_type": "code",
      "source": [
        "# WAY 2: while loop - Countdown\n",
        "print(\"WAY 2: while loop - Countdown\")  # Display heading\n",
        "num = 5  # Start from 5\n",
        "while num >= 1:  # Keep looping while num is 1 or more\n",
        "    print(num)  # Print current number\n",
        "    num = num - 1  # Decrease num by 1\n",
        "print(\"Blast off!\")  # Print after loop ends"
      ],
      "metadata": {
        "colab": {
          "base_uri": "https://localhost:8080/"
        },
        "id": "We4MbbiGW-Of",
        "outputId": "f2db6265-afe0-4125-a366-b4d3cb48c9ff"
      },
      "execution_count": 2,
      "outputs": [
        {
          "output_type": "stream",
          "name": "stdout",
          "text": [
            "WAY 2: while loop - Countdown\n",
            "5\n",
            "4\n",
            "3\n",
            "2\n",
            "1\n",
            "Blast off!\n"
          ]
        }
      ]
    },
    {
      "cell_type": "code",
      "source": [
        "# WAY 3: while loop - Sum of numbers\n",
        "print(\"WAY 3: while loop - Calculate sum\")  # Display heading\n",
        "total = 0  # Initialize total to 0\n",
        "number = 1  # Start from number 1\n",
        "while number <= 5:  # Loop while number is 5 or less\n",
        "    total = total + number  # Add current number to total\n",
        "    print(\"Adding\", number, \"Total now:\", total)  # Show progress\n",
        "    number = number + 1  # Move to next number\n",
        "print(\"Final sum:\", total)  # Print final result"
      ],
      "metadata": {
        "colab": {
          "base_uri": "https://localhost:8080/"
        },
        "id": "IoX97y6mW-i2",
        "outputId": "2d9ad131-b06a-4ff9-ce78-73cb2b6bc240"
      },
      "execution_count": 3,
      "outputs": [
        {
          "output_type": "stream",
          "name": "stdout",
          "text": [
            "WAY 3: while loop - Calculate sum\n",
            "Adding 1 Total now: 1\n",
            "Adding 2 Total now: 3\n",
            "Adding 3 Total now: 6\n",
            "Adding 4 Total now: 10\n",
            "Adding 5 Total now: 15\n",
            "Final sum: 15\n"
          ]
        }
      ]
    },
    {
      "cell_type": "code",
      "source": [
        "# WAY 4: while loop - Print even numbers\n",
        "print(\"WAY 4: while loop - Even numbers only\")  # Display heading\n",
        "num = 2  # Start from first even number\n",
        "while num <= 10:  # Loop while num is 10 or less\n",
        "    print(\"Even number:\", num)  # Print current even number\n",
        "    num = num + 2  # Jump to next even number (add 2)"
      ],
      "metadata": {
        "colab": {
          "base_uri": "https://localhost:8080/"
        },
        "id": "VAuvfiutW-tP",
        "outputId": "01bae6cc-7abc-4b2d-9077-300752e91dd4"
      },
      "execution_count": 4,
      "outputs": [
        {
          "output_type": "stream",
          "name": "stdout",
          "text": [
            "WAY 4: while loop - Even numbers only\n",
            "Even number: 2\n",
            "Even number: 4\n",
            "Even number: 6\n",
            "Even number: 8\n",
            "Even number: 10\n"
          ]
        }
      ]
    },
    {
      "cell_type": "code",
      "source": [
        "# WAY 5: while loop - Multiplication table\n",
        "print(\"WAY 5: while loop - Table of 3\")  # Display heading\n",
        "i = 1  # Start multiplier at 1\n",
        "while i <= 5:  # Loop 5 times\n",
        "    result = 3 * i  # Multiply 3 by current i\n",
        "    print(\"3 x\", i, \"=\", result)  # Print multiplication\n",
        "    i = i + 1  # Increase multiplier by 1"
      ],
      "metadata": {
        "colab": {
          "base_uri": "https://localhost:8080/"
        },
        "id": "hr_V_XqPW-3k",
        "outputId": "a3d254e7-30c4-4655-f9c3-ac2335173917"
      },
      "execution_count": 5,
      "outputs": [
        {
          "output_type": "stream",
          "name": "stdout",
          "text": [
            "WAY 5: while loop - Table of 3\n",
            "3 x 1 = 3\n",
            "3 x 2 = 6\n",
            "3 x 3 = 9\n",
            "3 x 4 = 12\n",
            "3 x 5 = 15\n"
          ]
        }
      ]
    },
    {
      "cell_type": "markdown",
      "source": [
        "# FOR LOOP EXAMPLES (5 ways)"
      ],
      "metadata": {
        "id": "sxl9_EgJXNCX"
      }
    },
    {
      "cell_type": "code",
      "source": [
        "# WAY 6: for loop - Using range with single argument\n",
        "print(\"WAY 6: for loop - range(5)\")  # Display heading\n",
        "for i in range(5):  # Loop through 0, 1, 2, 3, 4\n",
        "    print(\"Number:\", i)  # Print current number"
      ],
      "metadata": {
        "colab": {
          "base_uri": "https://localhost:8080/"
        },
        "id": "i6x4PpDQXQxj",
        "outputId": "67d51593-0d5c-4331-d5dd-1ae4df22f200"
      },
      "execution_count": 6,
      "outputs": [
        {
          "output_type": "stream",
          "name": "stdout",
          "text": [
            "WAY 6: for loop - range(5)\n",
            "Number: 0\n",
            "Number: 1\n",
            "Number: 2\n",
            "Number: 3\n",
            "Number: 4\n"
          ]
        }
      ]
    },
    {
      "cell_type": "code",
      "source": [
        "# WAY 7: for loop - Using range with start and end\n",
        "print(\"WAY 7: for loop - range(1, 6)\")  # Display heading\n",
        "for num in range(1, 6):  # Loop from 1 to 5 (6 is not included)\n",
        "    print(\"Count:\", num)  # Print current count"
      ],
      "metadata": {
        "colab": {
          "base_uri": "https://localhost:8080/"
        },
        "id": "9RGT8hU4XSsi",
        "outputId": "1f96a8c3-1e3d-4fdc-aa8a-71ab0e0d3d2d"
      },
      "execution_count": 7,
      "outputs": [
        {
          "output_type": "stream",
          "name": "stdout",
          "text": [
            "WAY 7: for loop - range(1, 6)\n",
            "Count: 1\n",
            "Count: 2\n",
            "Count: 3\n",
            "Count: 4\n",
            "Count: 5\n"
          ]
        }
      ]
    },
    {
      "cell_type": "code",
      "source": [
        "# WAY 8: for loop - Using range with step\n",
        "print(\"WAY 8: for loop - range with step\")  # Display heading\n",
        "for i in range(2, 11, 2):  # Start at 2, end before 11, step by 2\n",
        "    print(\"Even number:\", i)  # Print even numbers 2,4,6,8,10"
      ],
      "metadata": {
        "colab": {
          "base_uri": "https://localhost:8080/"
        },
        "id": "nYJxIk0jXXCK",
        "outputId": "dcde6a3f-34b7-408f-c8f6-23002232d705"
      },
      "execution_count": 8,
      "outputs": [
        {
          "output_type": "stream",
          "name": "stdout",
          "text": [
            "WAY 8: for loop - range with step\n",
            "Even number: 2\n",
            "Even number: 4\n",
            "Even number: 6\n",
            "Even number: 8\n",
            "Even number: 10\n"
          ]
        }
      ]
    },
    {
      "cell_type": "code",
      "source": [
        "# WAY 9: for loop - Iterate through string\n",
        "print(\"WAY 9: for loop - Loop through string\")  # Display heading\n",
        "name = \"PYTHON\"  # Define a string\n",
        "for letter in name:  # Loop through each character\n",
        "    print(\"Letter:\", letter)  # Print current character"
      ],
      "metadata": {
        "colab": {
          "base_uri": "https://localhost:8080/"
        },
        "id": "D8y-ZMAyXYsu",
        "outputId": "05964a8a-5bde-469e-b85b-1763628eb569"
      },
      "execution_count": 9,
      "outputs": [
        {
          "output_type": "stream",
          "name": "stdout",
          "text": [
            "WAY 9: for loop - Loop through string\n",
            "Letter: P\n",
            "Letter: Y\n",
            "Letter: T\n",
            "Letter: H\n",
            "Letter: O\n",
            "Letter: N\n"
          ]
        }
      ]
    },
    {
      "cell_type": "code",
      "source": [
        "\n",
        "# WAY 10: for loop - Countdown using negative step\n",
        "print(\"WAY 10: for loop - Countdown with step\")  # Display heading\n",
        "for num in range(5, 0, -1):  # Start at 5, go down to 1, step -1\n",
        "    print(num)  # Print current number\n",
        "print(\"Done!\")  # Print after countdown finishes"
      ],
      "metadata": {
        "colab": {
          "base_uri": "https://localhost:8080/"
        },
        "id": "mwo7zdhNXapi",
        "outputId": "0290bfa5-0e30-4d94-be7c-2cd1f3459a81"
      },
      "execution_count": 10,
      "outputs": [
        {
          "output_type": "stream",
          "name": "stdout",
          "text": [
            "WAY 10: for loop - Countdown with step\n",
            "5\n",
            "4\n",
            "3\n",
            "2\n",
            "1\n",
            "Done!\n"
          ]
        }
      ]
    },
    {
      "cell_type": "markdown",
      "source": [
        "# BREAK STATEMENT EXAMPLES (4 ways)"
      ],
      "metadata": {
        "id": "gyhVGyCAXdaO"
      }
    },
    {
      "cell_type": "code",
      "source": [
        "# WAY 11: break - Stop when condition met in while\n",
        "print(\"WAY 11: break - Exit while loop early\")  # Display heading\n",
        "count = 1  # Initialize count to 1\n",
        "while count <= 10:  # Loop from 1 to 10\n",
        "    if count == 5:  # Check if count reached 5\n",
        "        print(\"Stopping at 5\")  # Print message\n",
        "        break  # Exit loop immediately\n",
        "    print(count)  # Print count (only if not 5)\n",
        "    count = count + 1  # Increase count"
      ],
      "metadata": {
        "colab": {
          "base_uri": "https://localhost:8080/"
        },
        "id": "VKIIt0EZXhwW",
        "outputId": "ecc5f5cd-299f-47be-c2ed-811638c66538"
      },
      "execution_count": 11,
      "outputs": [
        {
          "output_type": "stream",
          "name": "stdout",
          "text": [
            "WAY 11: break - Exit while loop early\n",
            "1\n",
            "2\n",
            "3\n",
            "4\n",
            "Stopping at 5\n"
          ]
        }
      ]
    },
    {
      "cell_type": "code",
      "source": [
        "# WAY 12: break - Stop when condition met in for\n",
        "print(\"WAY 12: break - Exit for loop early\")  # Display heading\n",
        "for i in range(1, 11):  # Loop from 1 to 10\n",
        "    if i == 6:  # Check if i is 6\n",
        "        print(\"Found 6, stopping\")  # Print message\n",
        "        break  # Exit loop when 6 is found\n",
        "    print(i)  # Print i (only if not 6 yet)"
      ],
      "metadata": {
        "colab": {
          "base_uri": "https://localhost:8080/"
        },
        "id": "qL7FjSi2XmRt",
        "outputId": "5498d972-2774-4783-ddcc-212370f632a2"
      },
      "execution_count": 12,
      "outputs": [
        {
          "output_type": "stream",
          "name": "stdout",
          "text": [
            "WAY 12: break - Exit for loop early\n",
            "1\n",
            "2\n",
            "3\n",
            "4\n",
            "5\n",
            "Found 6, stopping\n"
          ]
        }
      ]
    },
    {
      "cell_type": "code",
      "source": [
        "# WAY 13: break - Search for a character\n",
        "print(\"WAY 13: break - Find character and stop\")  # Display heading\n",
        "text = \"HELLO\"  # Define text to search\n",
        "for char in text:  # Loop through each character\n",
        "    print(\"Checking:\", char)  # Show which character we're checking\n",
        "    if char == \"L\":  # Check if character is L\n",
        "        print(\"Found L!\")  # Print success message\n",
        "        break  # Stop searching when L is found"
      ],
      "metadata": {
        "colab": {
          "base_uri": "https://localhost:8080/"
        },
        "id": "szIX3Hk2Xn1Z",
        "outputId": "e96380b8-1cbb-4d62-d1c7-04fa6513f4bd"
      },
      "execution_count": 13,
      "outputs": [
        {
          "output_type": "stream",
          "name": "stdout",
          "text": [
            "WAY 13: break - Find character and stop\n",
            "Checking: H\n",
            "Checking: E\n",
            "Checking: L\n",
            "Found L!\n"
          ]
        }
      ]
    },
    {
      "cell_type": "code",
      "source": [
        "\n",
        "# WAY 14: break - Stop at first even number\n",
        "print(\"WAY 14: break - Stop at first even\")  # Display heading\n",
        "for num in range(1, 10):  # Loop from 1 to 9\n",
        "    if num % 2 == 0:  # Check if number is even\n",
        "        print(\"First even number:\", num)  # Print the even number\n",
        "        break  # Stop at first even number found"
      ],
      "metadata": {
        "colab": {
          "base_uri": "https://localhost:8080/"
        },
        "id": "xjQErqPFXqPI",
        "outputId": "821c29c9-a742-4cd2-ba01-caaa2b21ee6a"
      },
      "execution_count": 14,
      "outputs": [
        {
          "output_type": "stream",
          "name": "stdout",
          "text": [
            "WAY 14: break - Stop at first even\n",
            "First even number: 2\n"
          ]
        }
      ]
    },
    {
      "cell_type": "markdown",
      "source": [
        "# CONTINUE STATEMENT EXAMPLES (4 ways)"
      ],
      "metadata": {
        "id": "VzPNTXe1Xtig"
      }
    },
    {
      "cell_type": "code",
      "source": [
        "# WAY 15: continue - Skip odd numbers in while\n",
        "print(\"WAY 15: continue - Skip odd in while\")  # Display heading\n",
        "num = 0  # Start from 0\n",
        "while num < 10:  # Loop while num is less than 10\n",
        "    num = num + 1  # Increase num first\n",
        "    if num % 2 == 1:  # Check if num is odd\n",
        "        continue  # Skip rest of loop, go to next iteration\n",
        "    print(\"Even:\", num)  # This prints only for even numbers"
      ],
      "metadata": {
        "colab": {
          "base_uri": "https://localhost:8080/"
        },
        "id": "FobKHP2oXwaP",
        "outputId": "82869cd1-1a81-422c-ae91-ab6a576ff5a7"
      },
      "execution_count": 15,
      "outputs": [
        {
          "output_type": "stream",
          "name": "stdout",
          "text": [
            "WAY 15: continue - Skip odd in while\n",
            "Even: 2\n",
            "Even: 4\n",
            "Even: 6\n",
            "Even: 8\n",
            "Even: 10\n"
          ]
        }
      ]
    },
    {
      "cell_type": "code",
      "source": [
        "# WAY 16: continue - Skip odd numbers in for\n",
        "print(\"WAY 16: continue - Skip odd in for\")  # Display heading\n",
        "for i in range(1, 11):  # Loop from 1 to 10\n",
        "    if i % 2 == 1:  # Check if i is odd\n",
        "        continue  # Skip printing odd numbers\n",
        "    print(\"Even number:\", i)  # Print only even numbers\n"
      ],
      "metadata": {
        "colab": {
          "base_uri": "https://localhost:8080/"
        },
        "id": "vNNzxsybXyI4",
        "outputId": "931e0c33-b3d5-49b7-c8a1-7e13d00ac0bf"
      },
      "execution_count": 16,
      "outputs": [
        {
          "output_type": "stream",
          "name": "stdout",
          "text": [
            "WAY 16: continue - Skip odd in for\n",
            "Even number: 2\n",
            "Even number: 4\n",
            "Even number: 6\n",
            "Even number: 8\n",
            "Even number: 10\n"
          ]
        }
      ]
    },
    {
      "cell_type": "code",
      "source": [
        "# WAY 17: continue - Skip specific value\n",
        "print(\"WAY 17: continue - Skip number 5\")  # Display heading\n",
        "for num in range(1, 8):  # Loop from 1 to 7\n",
        "    if num == 5:  # Check if num is 5\n",
        "        continue  # Skip when num is 5\n",
        "    print(num)  # Print all numbers except 5"
      ],
      "metadata": {
        "colab": {
          "base_uri": "https://localhost:8080/"
        },
        "id": "T3JN_TqcX0DE",
        "outputId": "72895b22-cf2b-4304-b32a-b2b5ed19f317"
      },
      "execution_count": 17,
      "outputs": [
        {
          "output_type": "stream",
          "name": "stdout",
          "text": [
            "WAY 17: continue - Skip number 5\n",
            "1\n",
            "2\n",
            "3\n",
            "4\n",
            "6\n",
            "7\n"
          ]
        }
      ]
    },
    {
      "cell_type": "code",
      "source": [
        "# WAY 18: continue - Skip vowels\n",
        "print(\"WAY 18: continue - Skip vowels\")  # Display heading\n",
        "word = \"HELLO\"  # Define word\n",
        "for letter in word:  # Loop through each letter\n",
        "    if letter in \"AEIOU\":  # Check if letter is a vowel\n",
        "        continue  # Skip vowels, don't print them\n",
        "    print(\"Consonant:\", letter)  # Print only consonants"
      ],
      "metadata": {
        "colab": {
          "base_uri": "https://localhost:8080/"
        },
        "id": "0ntZz6xxX2ro",
        "outputId": "b1c4605f-3672-4f92-9f8c-4f1c6da58141"
      },
      "execution_count": 18,
      "outputs": [
        {
          "output_type": "stream",
          "name": "stdout",
          "text": [
            "WAY 18: continue - Skip vowels\n",
            "Consonant: H\n",
            "Consonant: L\n",
            "Consonant: L\n"
          ]
        }
      ]
    },
    {
      "cell_type": "markdown",
      "source": [
        "## PASS STATEMENT EXAMPLES (2 ways)"
      ],
      "metadata": {
        "id": "-N7UdGevX5kb"
      }
    },
    {
      "cell_type": "code",
      "source": [
        "# WAY 19: pass - Placeholder in if statement\n",
        "print(\"WAY 19: pass - Empty if block\")  # Display heading\n",
        "for num in range(1, 6):  # Loop from 1 to 5\n",
        "    if num <= 2:  # Check if num is 1 or 2\n",
        "        pass  # Do nothing for 1 and 2 (placeholder)\n",
        "    else:  # For all other numbers\n",
        "        print(\"Processing:\", num)  # Print numbers 3, 4, 5"
      ],
      "metadata": {
        "colab": {
          "base_uri": "https://localhost:8080/"
        },
        "id": "MIkT2UinYCbE",
        "outputId": "e4d0fad4-6979-4017-ce75-20107728090a"
      },
      "execution_count": 19,
      "outputs": [
        {
          "output_type": "stream",
          "name": "stdout",
          "text": [
            "WAY 19: pass - Empty if block\n",
            "Processing: 3\n",
            "Processing: 4\n",
            "Processing: 5\n"
          ]
        }
      ]
    },
    {
      "cell_type": "code",
      "execution_count": 20,
      "metadata": {
        "colab": {
          "base_uri": "https://localhost:8080/"
        },
        "id": "HmcJy06sWhGs",
        "outputId": "61306fa1-db92-4b4a-fc8c-1a914b0a8055"
      },
      "outputs": [
        {
          "output_type": "stream",
          "name": "stdout",
          "text": [
            "WAY 20: pass - TODO marker\n",
            "Number: 1\n",
            "Number: 2\n",
            "Number: 4\n",
            "Number: 5\n"
          ]
        }
      ],
      "source": [
        "# WAY 20: pass - Placeholder for future code\n",
        "print(\"WAY 20: pass - TODO marker\")  # Display heading\n",
        "count = 1  # Initialize count to 1\n",
        "while count <= 5:  # Loop from 1 to 5\n",
        "    if count == 3:  # Check if count is 3\n",
        "        pass  # Do nothing when count is 3 (TODO: add code later)\n",
        "    else:  # For all other counts\n",
        "        print(\"Number:\", count)  # Print the number\n",
        "    count = count + 1  # Increase count by 1"
      ]
    }
  ]
}