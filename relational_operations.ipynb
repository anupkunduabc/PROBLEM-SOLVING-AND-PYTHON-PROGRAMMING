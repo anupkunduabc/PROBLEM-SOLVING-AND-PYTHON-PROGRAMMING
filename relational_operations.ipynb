{
  "nbformat": 4,
  "nbformat_minor": 0,
  "metadata": {
    "colab": {
      "provenance": [],
      "authorship_tag": "ABX9TyPTc5GjeJ5yvXJ/shBXL7fG",
      "include_colab_link": true
    },
    "kernelspec": {
      "name": "python3",
      "display_name": "Python 3"
    },
    "language_info": {
      "name": "python"
    }
  },
  "cells": [
    {
      "cell_type": "markdown",
      "metadata": {
        "id": "view-in-github",
        "colab_type": "text"
      },
      "source": [
        "<a href=\"https://colab.research.google.com/github/anupkunduabc/PROBLEM-SOLVING-AND-PYTHON-PROGRAMMING/blob/main/relational_operations.ipynb\" target=\"_parent\"><img src=\"https://colab.research.google.com/assets/colab-badge.svg\" alt=\"Open In Colab\"/></a>"
      ]
    },
    {
      "cell_type": "markdown",
      "source": [
        "# **Python Relational (Comparison) Operators Demonstration**\n",
        "\n",
        "---\n",
        "\n",
        "\n",
        "\n",
        "# Created by\n",
        "\n",
        "---\n",
        "\n",
        "\n",
        "#**Dr. Anup Kundu,**\n",
        "##Assistant Professor, Chemical Engineering,\n",
        "## Sri Sivasubramaniya Nadar College of Engineering, Chennai\n",
        "\n",
        "\n",
        "---"
      ],
      "metadata": {
        "id": "8FStFVKXv6vp"
      }
    },
    {
      "cell_type": "code",
      "execution_count": null,
      "metadata": {
        "id": "L2yF4qLmDnSS"
      },
      "outputs": [],
      "source": [
        "# Python Relational (Comparison) Operators Demonstration\n",
        "\n",
        "x, y = 10, 20\n",
        "a, b = 15.5, 15.5\n",
        "str1, str2 = \"Apple\", \"Banana\"\n",
        "\n",
        "print(\"Initial values: x =\", x, \", y =\", y, \", a =\", a, \", b =\", b, \", str1 =\", repr(str1), \", str2 =\", repr(str2))\n",
        "\n",
        "# 1. Equal to (==)\n",
        "print(\"\\n--- Equal to (==) ---\")\n",
        "print(\"x == y:\", x == y)\n",
        "print(\"a == b:\", a == b)\n",
        "print(\"str1 == str2:\", str1 == str2)\n",
        "\n",
        "# 2. Not equal to (!=)\n",
        "print(\"\\n--- Not equal to (!=) ---\")\n",
        "print(\"x != y:\", x != y)\n",
        "print(\"a != b:\", a != b)\n",
        "print(\"str1 != str2:\", str1 != str2)\n",
        "\n",
        "# 3. Greater than (>)\n",
        "print(\"\\n--- Greater than (>) ---\")\n",
        "print(\"x > y:\", x > y)\n",
        "print(\"a > b:\", a > b)\n",
        "print(\"str1 > str2:\", str1 > str2)  # Lexicographical comparison\n",
        "\n",
        "# 4. Less than (<)\n",
        "print(\"\\n--- Less than (<) ---\")\n",
        "print(\"x < y:\", x < y)\n",
        "print(\"a < b:\", a < b)\n",
        "print(\"str1 < str2:\", str1 < str2)\n",
        "\n",
        "# 5. Greater than or equal to (>=)\n",
        "print(\"\\n--- Greater than or equal to (>=) ---\")\n",
        "print(\"x >= y:\", x >= y)\n",
        "print(\"a >= b:\", a >= b)\n",
        "print(\"str1 >= str2:\", str1 >= str2)\n",
        "\n",
        "# 6. Less than or equal to (<=)\n",
        "print(\"\\n--- Less than or equal to (<=) ---\")\n",
        "print(\"x <= y:\", x <= y)\n",
        "print(\"a <= b:\", a <= b)\n",
        "print(\"str1 <= str2:\", str1 <= str2)\n",
        "\n",
        "# Note: String comparisons are based on ASCII/Unicode values (lexicographic order).\n",
        "# For example: \"Apple\" < \"Banana\" because 'A' (65) < 'B' (66).\n",
        "\n"
      ]
    }
  ]
}