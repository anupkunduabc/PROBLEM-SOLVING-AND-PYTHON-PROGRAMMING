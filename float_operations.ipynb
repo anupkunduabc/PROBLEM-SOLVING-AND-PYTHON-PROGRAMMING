{
  "nbformat": 4,
  "nbformat_minor": 0,
  "metadata": {
    "colab": {
      "provenance": [],
      "authorship_tag": "ABX9TyOJcHgsbeNWXozLHE9ICofx",
      "include_colab_link": true
    },
    "kernelspec": {
      "name": "python3",
      "display_name": "Python 3"
    },
    "language_info": {
      "name": "python"
    }
  },
  "cells": [
    {
      "cell_type": "markdown",
      "metadata": {
        "id": "view-in-github",
        "colab_type": "text"
      },
      "source": [
        "<a href=\"https://colab.research.google.com/github/anupkunduabc/PROBLEM-SOLVING-AND-PYTHON-PROGRAMMING/blob/main/float_operations.ipynb\" target=\"_parent\"><img src=\"https://colab.research.google.com/assets/colab-badge.svg\" alt=\"Open In Colab\"/></a>"
      ]
    },
    {
      "cell_type": "markdown",
      "source": [
        "# Python Float Operations Demonstration"
      ],
      "metadata": {
        "id": "Eve62UCen7dn"
      }
    },
    {
      "cell_type": "code",
      "source": [
        "x, y = 12.5, 3.2\n",
        "print(\"Initial values: x =\", x, \", y =\", y)"
      ],
      "metadata": {
        "id": "pKGnS3oHoAzP"
      },
      "execution_count": null,
      "outputs": []
    },
    {
      "cell_type": "markdown",
      "source": [
        "# 1. Arithmetic Operations"
      ],
      "metadata": {
        "id": "D6KjIpQ6oFU4"
      }
    },
    {
      "cell_type": "code",
      "source": [
        "print(\"\\n--- Arithmetic Operations ---\")\n",
        "print(\"Addition (x + y):\", x + y)\n",
        "print(\"Subtraction (x - y):\", x - y)\n",
        "print(\"Multiplication (x * y):\", x * y)\n",
        "print(\"Division (x / y):\", x / y)\n",
        "print(\"Floor Division (x // y):\", x // y)\n",
        "print(\"Modulus (x % y):\", x % y)\n",
        "print(\"Exponentiation (x ** y):\", x ** y)"
      ],
      "metadata": {
        "id": "inq6M9OJoHaO"
      },
      "execution_count": null,
      "outputs": []
    },
    {
      "cell_type": "markdown",
      "source": [
        "# 2. Comparison (Relational) Operations"
      ],
      "metadata": {
        "id": "czNSSYJvoJff"
      }
    },
    {
      "cell_type": "code",
      "source": [
        "print(\"\\n--- Comparison Operations ---\")\n",
        "print(\"x == y:\", x == y)\n",
        "print(\"x != y:\", x != y)\n",
        "print(\"x > y:\", x > y)\n",
        "print(\"x < y:\", x < y)\n",
        "print(\"x >= y:\", x >= y)\n",
        "print(\"x <= y:\", x <= y)"
      ],
      "metadata": {
        "id": "OvQ2Ex5xoMjI"
      },
      "execution_count": null,
      "outputs": []
    },
    {
      "cell_type": "markdown",
      "source": [
        "# 3. Assignment Operations"
      ],
      "metadata": {
        "id": "RgpBhQNsoOrH"
      }
    },
    {
      "cell_type": "code",
      "source": [
        "print(\"\\n--- Assignment Operations ---\")\n",
        "z = 5.5\n",
        "print(\"z =\", z)\n",
        "z += 2.5\n",
        "print(\"z += 2.5:\", z)\n",
        "z -= 1.2\n",
        "print(\"z -= 1.2:\", z)\n",
        "z *= 2\n",
        "print(\"z *= 2:\", z)\n",
        "z /= 3\n",
        "print(\"z /= 3:\", z)\n",
        "z //= 1.5\n",
        "print(\"z //= 1.5:\", z)\n",
        "z %= 2.1\n",
        "print(\"z %= 2.1:\", z)\n",
        "z **= 2\n",
        "print(\"z **= 2:\", z)"
      ],
      "metadata": {
        "id": "nCMcr785oSo4"
      },
      "execution_count": null,
      "outputs": []
    },
    {
      "cell_type": "markdown",
      "source": [
        "# 4. Miscellaneous Math Functions"
      ],
      "metadata": {
        "id": "7tJu1C8UoVk4"
      }
    },
    {
      "cell_type": "code",
      "source": [
        "import math\n",
        "\n",
        "print(\"\\n--- Miscellaneous Math Functions ---\")\n",
        "print(\"abs(-7.3):\", abs(-7.3))\n",
        "print(\"round(12.567, 2):\", round(12.567, 2))   # round to 2 decimals\n",
        "print(\"math.floor(12.9):\", math.floor(12.9))   # largest integer <= value\n",
        "print(\"math.ceil(12.1):\", math.ceil(12.1))     # smallest integer >= value\n",
        "print(\"math.trunc(12.9):\", math.trunc(12.9))   # truncate decimal part\n",
        "print(\"math.sqrt(16.0):\", math.sqrt(16.0))\n",
        "print(\"math.pow(2.0, 3.0):\", math.pow(2.0, 3.0))  # equivalent to 2.0 ** 3.0\n",
        "print(\"divmod(17.5, 3.2):\", divmod(17.5, 3.2))  # quotient and remainder"
      ],
      "metadata": {
        "id": "qZpwkj6EoXgJ"
      },
      "execution_count": null,
      "outputs": []
    },
    {
      "cell_type": "code",
      "execution_count": null,
      "metadata": {
        "colab": {
          "base_uri": "https://localhost:8080/"
        },
        "id": "-2cEKj1rC0bj",
        "outputId": "c4aa349e-74e6-43b7-ab89-8e974f6a22e9"
      },
      "outputs": [
        {
          "output_type": "stream",
          "name": "stdout",
          "text": [
            "Initial values: x = 12.5 , y = 3.2\n",
            "\n",
            "--- Arithmetic Operations ---\n",
            "Addition (x + y): 15.7\n",
            "Subtraction (x - y): 9.3\n",
            "Multiplication (x * y): 40.0\n",
            "Division (x / y): 3.90625\n",
            "Floor Division (x // y): 3.0\n",
            "Modulus (x % y): 2.8999999999999995\n",
            "Exponentiation (x ** y): 3236.771501308582\n",
            "\n",
            "--- Comparison Operations ---\n",
            "x == y: False\n",
            "x != y: True\n",
            "x > y: True\n",
            "x < y: False\n",
            "x >= y: True\n",
            "x <= y: False\n",
            "\n",
            "--- Assignment Operations ---\n",
            "z = 5.5\n",
            "z += 2.5: 8.0\n",
            "z -= 1.2: 6.8\n",
            "z *= 2: 13.6\n",
            "z /= 3: 4.533333333333333\n",
            "z //= 1.5: 3.0\n",
            "z %= 2.1: 0.8999999999999999\n",
            "z **= 2: 0.8099999999999998\n",
            "\n",
            "--- Miscellaneous Math Functions ---\n",
            "abs(-7.3): 7.3\n",
            "round(12.567, 2): 12.57\n",
            "math.floor(12.9): 12\n",
            "math.ceil(12.1): 13\n",
            "math.trunc(12.9): 12\n",
            "math.sqrt(16.0): 4.0\n",
            "math.pow(2.0, 3.0): 8.0\n",
            "divmod(17.5, 3.2): (5.0, 1.4999999999999991)\n"
          ]
        }
      ],
      "source": []
    }
  ]
}