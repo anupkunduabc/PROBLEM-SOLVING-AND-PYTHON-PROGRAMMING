{
  "nbformat": 4,
  "nbformat_minor": 0,
  "metadata": {
    "colab": {
      "provenance": [],
      "include_colab_link": true
    },
    "kernelspec": {
      "name": "python3",
      "display_name": "Python 3"
    }
  },
  "cells": [
    {
      "cell_type": "markdown",
      "metadata": {
        "id": "view-in-github",
        "colab_type": "text"
      },
      "source": [
        "<a href=\"https://colab.research.google.com/github/anupkunduabc/PROBLEM-SOLVING-AND-PYTHON-PROGRAMMING/blob/main/Python_Class12_Lambda_Strings.ipynb\" target=\"_parent\"><img src=\"https://colab.research.google.com/assets/colab-badge.svg\" alt=\"Open In Colab\"/></a>"
      ]
    },
    {
      "cell_type": "markdown",
      "source": [
        "# UGE3188 - Problem Solving & Python Programming\n",
        "## Unit III - Class 15: Lambda Applications, Modular Programming, and String Operations\n",
        "\n",
        "**Dr. Anup Kundu**  \n",
        "SSN College of Engineering  \n",
        "AY 2025-26\n",
        "\n",
        "---\n",
        "\n",
        "## Learning Objectives\n",
        "\n",
        "1. **Lambda for mathematics** - mathematical computations using lambda\n",
        "2. **Lambda for strings** - string manipulations using lambda\n",
        "3. **Modular problem solving** - combining functions effectively\n",
        "4. **String indexing** - accessing individual characters\n",
        "5. **String slicing** - extracting substrings using index ranges"
      ],
      "metadata": {
        "id": "header"
      }
    },
    {
      "cell_type": "markdown",
      "source": [
        "---\n",
        "\n",
        "## 📖 Part 1: Introduction to Lambda Functions\n",
        "\n",
        "### What is a Lambda Function?\n",
        "\n",
        "A **lambda function** is a small, anonymous function that can have any number of arguments but only one expression.\n",
        "\n",
        "**Think of it like this:**\n",
        "- Regular function = A full recipe with a name\n",
        "- Lambda function = A quick cooking tip you use once\n",
        "\n",
        "### Syntax:\n",
        "```python\n",
        "lambda arguments: expression\n",
        "```\n",
        "\n",
        "### Why Use Lambda?\n",
        "- ✅ Quick and concise\n",
        "- ✅ Good for simple operations\n",
        "- ✅ Can be used inline (without defining a separate function)\n",
        "- ✅ Great for mathematical calculations\n",
        "\n",
        "Let's see some examples!"
      ],
      "metadata": {
        "id": "lambda_math"
      }
    },
    {
      "cell_type": "markdown",
      "source": [
        "##Example 1: Basic Lambda Function"
      ],
      "metadata": {
        "id": "__SY0Xqs5D0N"
      }
    },
    {
      "cell_type": "code",
      "source": [
        "# Traditional function to add 10 to a number\n",
        "def add_ten_traditional(x):\n",
        "    return x + 10\n",
        "\n",
        "# Same thing using lambda (one line!)\n",
        "add_ten_lambda = lambda x: x + 10\n",
        "\n",
        "# Let's test both\n",
        "print(\"Traditional function:\", add_ten_traditional(5))\n",
        "print(\"Lambda function:\", add_ten_lambda(5))\n",
        "\n",
        "# Both give the same result!"
      ],
      "metadata": {
        "colab": {
          "base_uri": "https://localhost:8080/"
        },
        "id": "8SEE-qZk5GbC",
        "outputId": "1e1648b1-c42c-4127-8674-794a3cf33d58"
      },
      "execution_count": null,
      "outputs": [
        {
          "output_type": "stream",
          "name": "stdout",
          "text": [
            "Traditional function: 15\n",
            "Lambda function: 15\n"
          ]
        }
      ]
    },
    {
      "cell_type": "markdown",
      "source": [
        "### Example 2: Lambda with Multiple Arguments"
      ],
      "metadata": {
        "id": "Lm9TN_kd5Jcc"
      }
    },
    {
      "cell_type": "code",
      "source": [
        "# Lambda function to add two numbers\n",
        "add = lambda a, b: a + b\n",
        "print(\"5 + 3 =\", add(5, 3))\n",
        "\n",
        "# Lambda function to multiply three numbers\n",
        "multiply = lambda x, y, z: x * y * z\n",
        "print(\"2 × 3 × 4 =\", multiply(2, 3, 4))\n",
        "\n",
        "# Lambda function to find maximum of two numbers\n",
        "find_max = lambda a, b: a if a > b else b\n",
        "print(\"Max of 10 and 20:\", find_max(10, 20))"
      ],
      "metadata": {
        "colab": {
          "base_uri": "https://localhost:8080/"
        },
        "id": "CoiUGTYo5OWD",
        "outputId": "9de75196-4c4d-4d44-ca03-662c37589bb5"
      },
      "execution_count": null,
      "outputs": [
        {
          "output_type": "stream",
          "name": "stdout",
          "text": [
            "5 + 3 = 8\n",
            "2 × 3 × 4 = 24\n",
            "Max of 10 and 20: 20\n"
          ]
        }
      ]
    },
    {
      "cell_type": "code",
      "source": [
        "# Compound interest calculator\n",
        "compound_interest = lambda P, r, t: P * ((1 + r/100) ** t) - P\n",
        "print(f\"Interest on ₹10000 at 5% for 3 years: ₹{compound_interest(10000, 5, 3):.2f}\")\n",
        "# Output: Interest on ₹10000 at 5% for 3 years: ₹1576.25"
      ],
      "metadata": {
        "id": "compound_interest",
        "colab": {
          "base_uri": "https://localhost:8080/"
        },
        "outputId": "17d06af3-e9c5-46c2-cc8d-3df49ec152aa"
      },
      "execution_count": null,
      "outputs": [
        {
          "output_type": "stream",
          "name": "stdout",
          "text": [
            "Interest on ₹10000 at 5% for 3 years: ₹1576.25\n"
          ]
        }
      ]
    },
    {
      "cell_type": "code",
      "source": [
        "# BMI calculator\n",
        "calculate_bmi = lambda weight, height: weight / (height ** 2)\n",
        "print(f\"BMI for 70kg, 1.75m: {calculate_bmi(70, 1.75):.2f}\")\n",
        "# Output: BMI for 70kg, 1.75m: 22.86"
      ],
      "metadata": {
        "id": "bmi",
        "colab": {
          "base_uri": "https://localhost:8080/"
        },
        "outputId": "993f6d01-6774-4db5-c7f0-83b48f1c8f81"
      },
      "execution_count": null,
      "outputs": [
        {
          "output_type": "stream",
          "name": "stdout",
          "text": [
            "BMI for 70kg, 1.75m: 22.86\n"
          ]
        }
      ]
    },
    {
      "cell_type": "code",
      "source": [
        "# Distance between two points (x1,y1) and (x2,y2)\n",
        "distance = lambda x1, y1, x2, y2: ((x2-x1)**2 + (y2-y1)**2) ** 0.5\n",
        "print(f\"Distance between (0,0) and (3,4): {distance(0, 0, 3, 4)}\")\n",
        "# Output: Distance between (0,0) and (3,4): 5.0"
      ],
      "metadata": {
        "id": "distance",
        "colab": {
          "base_uri": "https://localhost:8080/"
        },
        "outputId": "db8e91b1-63a7-4d6d-8566-f891784c8a61"
      },
      "execution_count": null,
      "outputs": [
        {
          "output_type": "stream",
          "name": "stdout",
          "text": [
            "Distance between (0,0) and (3,4): 5.0\n"
          ]
        }
      ]
    },
    {
      "cell_type": "code",
      "source": [
        "# Quadratic formula: (-b ± √(b²-4ac)) / 2a\n",
        "quadratic_root1 = lambda a, b, c: (-b + (b**2 - 4*a*c)**0.5) / (2*a)\n",
        "quadratic_root2 = lambda a, b, c: (-b - (b**2 - 4*a*c)**0.5) / (2*a)\n",
        "print(f\"Roots of x²-5x+6=0: {quadratic_root1(1,-5,6)} and {quadratic_root2(1,-5,6)}\")\n",
        "# Output: Roots of x²-5x+6=0: 3.0 and 2.0"
      ],
      "metadata": {
        "id": "quadratic",
        "colab": {
          "base_uri": "https://localhost:8080/"
        },
        "outputId": "79f78ac0-c27f-45ce-d04b-49d73e8e9f82"
      },
      "execution_count": null,
      "outputs": [
        {
          "output_type": "stream",
          "name": "stdout",
          "text": [
            "Roots of x²-5x+6=0: 3.0 and 2.0\n"
          ]
        }
      ]
    },
    {
      "cell_type": "markdown",
      "source": [
        "---\n",
        "## 🧩 Part 2: Modular Programming\n",
        "\n",
        "**Modular programming** means breaking a big problem into smaller, manageable pieces (modules/functions).\n",
        "\n",
        "### Why Modular Programming?\n",
        "\n",
        "✅ **Easier to understand** - Small functions are simpler  \n",
        "✅ **Easier to test** - Test each function separately  \n",
        "✅ **Reusable** - Use the same function multiple times  \n",
        "✅ **Easier to debug** - Find errors faster  \n",
        "✅ **Team-friendly** - Different people can work on different modules\n",
        "\n",
        "### The Process:\n",
        "1. **Decompose** - Break problem into smaller tasks\n",
        "2. **Implement** - Write a function for each task\n",
        "3. **Integrate** - Combine functions to solve the main problem\n",
        "\n",
        "Let's see examples!"
      ],
      "metadata": {
        "id": "modular"
      }
    },
    {
      "cell_type": "code",
      "source": [
        "# WITHOUT MODULARIZATION - One big function, hard to read\n",
        "def process_all():\n",
        "    name = input(\"Name: \")\n",
        "    marks = int(input(\"Marks: \"))\n",
        "    # Calculate percentage\n",
        "    percentage = (marks / 100) * 100\n",
        "    # Assign grade\n",
        "    if percentage >= 90:\n",
        "        grade = \"A+\"\n",
        "    elif percentage >= 80:\n",
        "        grade = \"A\"\n",
        "    else:\n",
        "        grade = \"B\"\n",
        "    # Check result\n",
        "    if percentage >= 50:\n",
        "        result = \"Pass\"\n",
        "    else:\n",
        "        result = \"Fail\"\n",
        "    # Print everything\n",
        "    print(f\"{name}: {grade}, {result}\")\n",
        "process_all()\n",
        "# Hard to test individual parts\n",
        "# Hard to reuse code"
      ],
      "metadata": {
        "id": "without_modular",
        "colab": {
          "base_uri": "https://localhost:8080/"
        },
        "outputId": "9dc6e2fb-e2cd-4b80-c5a0-efdc08c49043"
      },
      "execution_count": null,
      "outputs": [
        {
          "output_type": "stream",
          "name": "stdout",
          "text": [
            "Name: Anup\n",
            "Marks: 95\n",
            "Anup: A+, Pass\n"
          ]
        }
      ]
    },
    {
      "cell_type": "code",
      "source": [
        "# WITH MODULARIZATION - Separate, reusable functions\n",
        "def get_grade(percentage):\n",
        "    if percentage >= 90: return \"A+\"\n",
        "    elif percentage >= 80: return \"A\"\n",
        "    else: return \"B\"\n",
        "\n",
        "def check_result(percentage):\n",
        "    return \"Pass\" if percentage >= 50 else \"Fail\"\n",
        "\n",
        "def format_report(name, marks, total):\n",
        "    percentage = (marks / total) * 100\n",
        "    grade = get_grade(percentage)\n",
        "    result = check_result(percentage)\n",
        "    return f\"{name}: {grade}, {result}\"\n",
        "\n",
        "# Main function combines modules\n",
        "def process_student():\n",
        "    name = input(\"Name: \")\n",
        "    marks = int(input(\"Marks: \"))\n",
        "    print(format_report(name, marks, 100))\n",
        "\n",
        "# Easy to test each function\n",
        "# Easy to reuse code\n",
        "# Easy to maintain"
      ],
      "metadata": {
        "id": "with_modular"
      },
      "execution_count": null,
      "outputs": []
    },
    {
      "cell_type": "code",
      "source": [
        "# Test the modular approach\n",
        "print(format_report(\"Alice\", 85, 100))\n",
        "print(format_report(\"Bob\", 45, 100))\n",
        "print(format_report(\"Charlie\", 92, 100))"
      ],
      "metadata": {
        "id": "test_modular",
        "colab": {
          "base_uri": "https://localhost:8080/"
        },
        "outputId": "871be2da-f435-4e5d-bba4-e41beb11976f"
      },
      "execution_count": null,
      "outputs": [
        {
          "output_type": "stream",
          "name": "stdout",
          "text": [
            "Alice: A, Pass\n",
            "Bob: B, Fail\n",
            "Charlie: A+, Pass\n"
          ]
        }
      ]
    },
    {
      "cell_type": "markdown",
      "source": [
        "---\n",
        "# 3. Lambda Functions for String Manipulations\n",
        "\n",
        "Lambda functions make string processing concise and efficient\n",
        "\n",
        "\n",
        "## 🔍 Understanding the String Methods\n",
        "\n",
        "| Expression | Description | Example | Output |\n",
        "|-------------|--------------|----------|---------|\n",
        "| `text.upper()` | Converts all characters to uppercase | `\"hello\".upper()` | `HELLO` |\n",
        "| `text.lower()` | Converts all characters to lowercase | `\"WORLD\".lower()` | `world` |\n",
        "| `text[::-1]` | Reverses the string | `\"Python\"[::-1]` | `nohtyP` |\n",
        "| `len(text)` | Counts the number of characters | `len(\"Lambda\")` | `6` |"
      ],
      "metadata": {
        "id": "lambda_string"
      }
    },
    {
      "cell_type": "code",
      "source": [
        "# String transformations\n",
        "to_uppercase = lambda text: text.upper()\n",
        "to_lowercase = lambda text: text.lower()\n",
        "reverse_string = lambda text: text[::-1]\n",
        "count_chars = lambda text: len(text)\n",
        "print(to_uppercase(\"hello\"))      # Output: HELLO\n",
        "print(to_lowercase(\"WORLD\"))      # Output: world\n",
        "print(reverse_string(\"Python\"))   # Output: nohtyP\n",
        "print(count_chars(\"Lambda\"))      # Output: 6"
      ],
      "metadata": {
        "id": "string_transform",
        "colab": {
          "base_uri": "https://localhost:8080/"
        },
        "outputId": "78ffc533-1a2f-40e4-ec87-e1022ab970a5"
      },
      "execution_count": null,
      "outputs": [
        {
          "output_type": "stream",
          "name": "stdout",
          "text": [
            "HELLO\n",
            "world\n",
            "nohtyP\n",
            "6\n"
          ]
        }
      ]
    },
    {
      "cell_type": "markdown",
      "source": [
        "\n",
        "## 🧩 Lambda Functions Explained\n",
        "\n",
        "| Function Name | Definition | What It Does |\n",
        "|----------------|-------------|--------------|\n",
        "| `to_uppercase` | `lambda text: text.upper()` | Converts text to uppercase |\n",
        "| `to_lowercase` | `lambda text: text.lower()` | Converts text to lowercase |\n",
        "| `reverse_string` | `lambda text: text[::-1]` | Reverses the text |\n",
        "| `count_chars` | `lambda text: len(text)` | Counts number of characters |\n"
      ],
      "metadata": {
        "id": "3HSlhcyWlL1C"
      }
    },
    {
      "cell_type": "markdown",
      "source": [
        "# 🧠 String Checking using Lambda Functions\n",
        "\n",
        "In Python, we can check whether a string **starts with**, **ends with**, or **contains** certain text.  \n",
        "Here, we use **lambda functions** with built-in string methods for these checks.\n",
        "\n",
        "---\n",
        "\n",
        "## 🔍 Understanding the String Checking Methods\n",
        "\n",
        "| Expression | Description | Example | Output |\n",
        "|-------------|--------------|----------|---------|\n",
        "| `text.startswith(prefix)` | Checks if a string begins with the given prefix | `\"Python\".startswith(\"Py\")` | `True` |\n",
        "| `text.endswith(suffix)` | Checks if a string ends with the given suffix | `\"Hello\".endswith(\"o\")` | `True` |\n",
        "| `substring in text` | Checks if a substring appears anywhere in the text | `\"amb\" in \"Lambda\"` | `True` |\n",
        "\n",
        "---\n",
        "\n",
        "## 🧩 Code Example\n"
      ],
      "metadata": {
        "id": "w4OXVct6luoh"
      }
    },
    {
      "cell_type": "code",
      "source": [
        "# String checking using lambda functions\n",
        "\n",
        "# Define lambda functions\n",
        "starts_with = lambda text, prefix: text.startswith(prefix)\n",
        "ends_with = lambda text, suffix: text.endswith(suffix)\n",
        "contains = lambda text, substring: substring in text\n",
        "\n",
        "# Test the functions\n",
        "print(starts_with(\"Python\", \"Py\"))   # Output: True\n",
        "print(ends_with(\"Hello\", \"o\"))       # Output: True\n",
        "print(contains(\"Lambda\", \"amb\"))     # Output: True"
      ],
      "metadata": {
        "colab": {
          "base_uri": "https://localhost:8080/"
        },
        "id": "tIRNzxJ66EEU",
        "outputId": "62af977f-7c2c-4425-8017-7fb7d63a5d03"
      },
      "execution_count": null,
      "outputs": [
        {
          "output_type": "stream",
          "name": "stdout",
          "text": [
            "True\n",
            "True\n",
            "True\n"
          ]
        }
      ]
    },
    {
      "cell_type": "code",
      "source": [
        "# String formatting\n",
        "add_prefix = lambda text, prefix: prefix + text\n",
        "add_suffix = lambda text, suffix: text + suffix\n",
        "remove_spaces = lambda text: text.replace(\" \", \"\")\n",
        "\n",
        "print(add_prefix(\"World\", \"Hello \"))  # Output: Hello World\n",
        "print(add_suffix(\"Hello\", \" World\"))  # Output: Hello World\n",
        "print(remove_spaces(\"H e l l o\"))     # Output: Hello"
      ],
      "metadata": {
        "id": "string_format",
        "colab": {
          "base_uri": "https://localhost:8080/"
        },
        "outputId": "253dce8f-c249-4535-be44-b371c8ed5048"
      },
      "execution_count": null,
      "outputs": [
        {
          "output_type": "stream",
          "name": "stdout",
          "text": [
            "Hello World\n",
            "Hello World\n",
            "Hello\n"
          ]
        }
      ]
    },
    {
      "cell_type": "code",
      "source": [
        "# Title case converter\n",
        "to_title = lambda text: text.title()\n",
        "print(to_title(\"hello world\"))  # Output: Hello World"
      ],
      "metadata": {
        "id": "title_case",
        "outputId": "e692604c-5b7f-4f08-ba9d-a60f9346d5f3",
        "colab": {
          "base_uri": "https://localhost:8080/"
        }
      },
      "execution_count": null,
      "outputs": [
        {
          "output_type": "stream",
          "name": "stdout",
          "text": [
            "Hello World\n"
          ]
        }
      ]
    },
    {
      "cell_type": "code",
      "source": [
        "# Remove vowels\n",
        "remove_vowels = lambda text: ''.join([c for c in text if c.lower() not in 'aeiou'])\n",
        "print(remove_vowels(\"Hello World\"))  # Output: Hll Wrld"
      ],
      "metadata": {
        "id": "remove_vowels",
        "colab": {
          "base_uri": "https://localhost:8080/"
        },
        "outputId": "e9b06a22-2041-4c1c-d497-4e3b608e4313"
      },
      "execution_count": null,
      "outputs": [
        {
          "output_type": "stream",
          "name": "stdout",
          "text": [
            "Hll Wrld\n"
          ]
        }
      ]
    },
    {
      "cell_type": "code",
      "source": [
        "# Count specific character\n",
        "count_char = lambda text, char: text.count(char)\n",
        "print(f\"'o' appears {count_char('Hello World', 'o')} times\")  # Output: 2 times"
      ],
      "metadata": {
        "id": "count_char",
        "colab": {
          "base_uri": "https://localhost:8080/"
        },
        "outputId": "31f9b2bd-d061-4d88-d88f-571ecd3f9bc0"
      },
      "execution_count": null,
      "outputs": [
        {
          "output_type": "stream",
          "name": "stdout",
          "text": [
            "'o' appears 2 times\n"
          ]
        }
      ]
    },
    {
      "cell_type": "code",
      "source": [
        "# Check if string starts and ends with same character\n",
        "same_ends = lambda text: len(text) > 0 and text[0].lower() == text[-1].lower()\n",
        "print(f\"'level' same ends: {same_ends('level')}\")  # Output: True\n",
        "print(f\"'hello' same ends: {same_ends('hello')}\")  # Output: False"
      ],
      "metadata": {
        "id": "same_ends",
        "colab": {
          "base_uri": "https://localhost:8080/"
        },
        "outputId": "1760d8c2-3c77-4bc5-8119-232d63152c14"
      },
      "execution_count": null,
      "outputs": [
        {
          "output_type": "stream",
          "name": "stdout",
          "text": [
            "'level' same ends: True\n",
            "'hello' same ends: False\n"
          ]
        }
      ]
    },
    {
      "cell_type": "code",
      "source": [
        "# Extract digits from string\n",
        "extract_digits = lambda text: ''.join([c for c in text if c.isdigit()])\n",
        "print(f\"Digits in 'abc123xyz456': {extract_digits('abc123xyz456')}\")  # Output: 123456"
      ],
      "metadata": {
        "id": "extract_digits",
        "colab": {
          "base_uri": "https://localhost:8080/"
        },
        "outputId": "2afedbc0-7f34-4e79-c91a-f450cd6f204c"
      },
      "execution_count": null,
      "outputs": [
        {
          "output_type": "stream",
          "name": "stdout",
          "text": [
            "Digits in 'abc123xyz456': 123456\n"
          ]
        }
      ]
    },
    {
      "cell_type": "markdown",
      "source": [
        "---\n",
        "\n",
        "## 📍 Part 5: String Indexing\n",
        "\n",
        "### What is String Indexing?\n",
        "\n",
        "**String indexing** allows you to access individual characters in a string using their position (index).\n",
        "\n",
        "### Key Concepts:\n",
        "\n",
        "1. **Strings are sequences** - Each character has a position\n",
        "2. **Indexing starts at 0** - First character is at index 0\n",
        "3. **Positive indices** - Count from left (0, 1, 2, ...)\n",
        "4. **Negative indices** - Count from right (-1, -2, -3, ...)\n",
        "\n",
        "### Visual Example:\n",
        "\n",
        "```\n",
        "String:    P   Y   T   H   O   N\n",
        "Positive:  0   1   2   3   4   5\n",
        "Negative: -6  -5  -4  -3  -2  -1\n",
        "```\n",
        "\n",
        "Let's practice!"
      ],
      "metadata": {
        "id": "indexing"
      }
    },
    {
      "cell_type": "code",
      "source": [
        "text = \"PYTHON\"\n",
        "print(text[0])   # Output: P (first character)\n",
        "print(text[3])   # Output: H (fourth character)\n",
        "print(text[-1])  # Output: N (last character)\n",
        "print(text[-2])  # Output: O (second last)"
      ],
      "metadata": {
        "id": "indexing_basic",
        "colab": {
          "base_uri": "https://localhost:8080/"
        },
        "outputId": "d8e68482-53e3-42a0-da8b-f01d0df284ec"
      },
      "execution_count": null,
      "outputs": [
        {
          "output_type": "stream",
          "name": "stdout",
          "text": [
            "P\n",
            "H\n",
            "N\n",
            "O\n"
          ]
        }
      ]
    },
    {
      "cell_type": "markdown",
      "source": [
        "## Positive vs Negative Indexing"
      ],
      "metadata": {
        "id": "pos_neg"
      }
    },
    {
      "cell_type": "code",
      "source": [
        "# POSITIVE INDEXING - Start from left, begins at 0\n",
        "word = \"HELLO\"\n",
        "#       01234\n",
        "\n",
        "print(word[0])  # Output: H\n",
        "print(word[1])  # Output: E\n",
        "print(word[2])  # Output: L\n",
        "print(word[3])  # Output: L\n",
        "print(word[4])  # Output: O\n",
        "\n",
        "# First character\n",
        "first = word[0]\n",
        "print(first)    # Output: H\n",
        "\n",
        "# Middle character\n",
        "middle = word[2]\n",
        "print(middle)   # Output: L"
      ],
      "metadata": {
        "id": "positive_index",
        "colab": {
          "base_uri": "https://localhost:8080/"
        },
        "outputId": "2856f074-3683-4d7e-84a6-4bd1c186cf7f"
      },
      "execution_count": null,
      "outputs": [
        {
          "output_type": "stream",
          "name": "stdout",
          "text": [
            "H\n",
            "E\n",
            "L\n",
            "L\n",
            "O\n",
            "H\n",
            "L\n"
          ]
        }
      ]
    },
    {
      "cell_type": "code",
      "source": [
        "# NEGATIVE INDEXING - Start from right, begins at -1\n",
        "word = \"HELLO\"\n",
        "#      -5-4-3-2-1\n",
        "\n",
        "print(word[-1])  # Output: O\n",
        "print(word[-2])  # Output: L\n",
        "print(word[-3])  # Output: L\n",
        "print(word[-4])  # Output: E\n",
        "print(word[-5])  # Output: H\n",
        "\n",
        "# Last character\n",
        "last = word[-1]\n",
        "print(last)      # Output: O\n",
        "\n",
        "# Second last\n",
        "second_last = word[-2]\n",
        "print(second_last)  # Output: L"
      ],
      "metadata": {
        "id": "negative_index",
        "colab": {
          "base_uri": "https://localhost:8080/"
        },
        "outputId": "cfe2d6da-5518-456e-b704-d559121e8174"
      },
      "execution_count": null,
      "outputs": [
        {
          "output_type": "stream",
          "name": "stdout",
          "text": [
            "O\n",
            "L\n",
            "L\n",
            "E\n",
            "H\n",
            "O\n",
            "L\n"
          ]
        }
      ]
    },
    {
      "cell_type": "markdown",
      "source": [
        "---\n",
        "\n",
        "## ✂️ Part 5: String Slicing\n",
        "\n",
        "### What is String Slicing?\n",
        "\n",
        "**String slicing** allows you to extract a substring (portion of a string) using a range of indices.\n",
        "\n",
        "### Syntax:\n",
        "```python\n",
        "string[start:stop:step]\n",
        "```\n",
        "\n",
        "- **start** - Starting index (included)\n",
        "- **stop** - Ending index (excluded)\n",
        "- **step** - Step size (default is 1)\n",
        "\n",
        "\n",
        "### Key Rules:\n",
        "\n",
        "1. **start is included**, stop is excluded\n",
        "2. Omit start → slice from beginning\n",
        "3. Omit stop → slice to end\n",
        "4. Negative indices work\n",
        "5. Negative step → reverse direction\n",
        "- `start` is **included**\n",
        "- `stop` is **excluded**\n",
        "- Default `start` is 0\n",
        "- Default `stop` is end of string\n",
        "- Default `step` is 1\n",
        "\n",
        "### Visual Example:\n",
        "\n",
        "```\n",
        "String:    H   E   L   L   O\n",
        "Index:     0   1   2   3   4\n",
        "\n",
        "string[1:4] → ELL (indices 1, 2, 3 - stops before 4)\n",
        "```"
      ],
      "metadata": {
        "id": "slicing"
      }
    },
    {
      "cell_type": "code",
      "source": [
        "# Basic slicing with start:stop\n",
        "text = \"PYTHON\"\n",
        "#       012345\n",
        "\n",
        "# Extract \"YTH\" (indices 1, 2, 3)\n",
        "print(text[1:4])    # Output: YTH (starts at 1, stops before 4)\n",
        "\n",
        "# Extract \"PYT\" (indices 0, 1, 2)\n",
        "print(text[0:3])    # Output: PYT\n",
        "\n",
        "# Extract \"HON\" (indices 3, 4, 5)\n",
        "print(text[3:6])    # Output: HON\n",
        "\n",
        "# Extract \"TH\" (indices 2, 3)\n",
        "print(text[2:4])    # Output: TH"
      ],
      "metadata": {
        "id": "slicing_basic",
        "colab": {
          "base_uri": "https://localhost:8080/"
        },
        "outputId": "bd8efaf9-0bbb-428e-8ae7-8ff8b1edfb29"
      },
      "execution_count": null,
      "outputs": [
        {
          "output_type": "stream",
          "name": "stdout",
          "text": [
            "YTH\n",
            "PYT\n",
            "HON\n",
            "TH\n"
          ]
        }
      ]
    },
    {
      "cell_type": "markdown",
      "source": [
        "## Omitting start or stop"
      ],
      "metadata": {
        "id": "omit"
      }
    },
    {
      "cell_type": "code",
      "source": [
        "text = \"PYTHON\"\n",
        "\n",
        "# Omit start (defaults to 0)\n",
        "print(text[:3])     # Output: PYT (same as text[0:3])\n",
        "print(text[:4])     # Output: PYTH\n",
        "\n",
        "# Omit stop (goes to end)\n",
        "print(text[2:])     # Output: THON (from index 2 to end)\n",
        "print(text[3:])     # Output: HON\n",
        "\n",
        "# Omit both (copy entire string)\n",
        "print(text[:])      # Output: PYTHON\n",
        "\n",
        "text = \"PYTHON\"\n",
        "# Using negative indices\n",
        "print(text[:-2])    # Output: PYTH (everything except last 2)\n",
        "print(text[-4:])    # Output: THON (last 4 characters)\n",
        "\n",
        "# First half and second half\n",
        "mid = len(text) // 2\n",
        "first_half = text[:mid]\n",
        "second_half = text[mid:]\n",
        "print(f\"First: {first_half}, Second: {second_half}\")\n",
        "# Output: First: PYT, Second: HON"
      ],
      "metadata": {
        "id": "slicing_omit",
        "colab": {
          "base_uri": "https://localhost:8080/"
        },
        "outputId": "04d8708b-0cee-4794-9db2-71266497ad1a"
      },
      "execution_count": null,
      "outputs": [
        {
          "output_type": "stream",
          "name": "stdout",
          "text": [
            "PYT\n",
            "PYTH\n",
            "THON\n",
            "HON\n",
            "PYTHON\n",
            "PYTH\n",
            "THON\n",
            "First: PYT, Second: HON\n"
          ]
        }
      ]
    },
    {
      "cell_type": "code",
      "source": [
        "text = \"PYTHON PROGRAMMING\"\n",
        "print(f\"Original text: '{text}'\")\n",
        "print(f\"Length: {len(text)} characters\")\n",
        "print()\n",
        "\n",
        "# Basic slicing [start:stop]\n",
        "print(\"Basic Slicing:\")\n",
        "print(f\"text[0:6] = '{text[0:6]}'  (characters 0-5)\")\n",
        "print(f\"text[7:18] = '{text[7:18]}' (characters 7-17)\")\n",
        "print(f\"text[0:3] = '{text[0:3]}'  (first 3 characters)\")\n",
        "print(f\"text[15:18] = '{text[15:18]}'  (last 3 characters)\")\n",
        "print()\n",
        "\n",
        "# Omitting start or stop\n",
        "print(\"Omitting Indices:\")\n",
        "print(f\"text[:6] = '{text[:6]}'  (from start to index 6)\")\n",
        "print(f\"text[7:] = '{text[7:]}' (from index 7 to end)\")\n",
        "print(f\"text[:] = '{text[:]}'  (entire string)\")\n",
        "print()\n",
        "\n",
        "# Negative indices\n",
        "print(\"Negative Indices:\")\n",
        "print(f\"text[-11:] = '{text[-11:]}' (last 11 characters)\")\n",
        "print(f\"text[:-11] = '{text[:-11]}' (all except last 11)\")\n",
        "print(f\"text[-11:-5] = '{text[-11:-5]}' (middle section)\")"
      ],
      "metadata": {
        "colab": {
          "base_uri": "https://localhost:8080/"
        },
        "id": "lawcIE680YS_",
        "outputId": "25d2421b-34a2-40cb-cb93-9a5d4f2c4e6c"
      },
      "execution_count": null,
      "outputs": [
        {
          "output_type": "stream",
          "name": "stdout",
          "text": [
            "Original text: 'PYTHON PROGRAMMING'\n",
            "Length: 18 characters\n",
            "\n",
            "Basic Slicing:\n",
            "text[0:6] = 'PYTHON'  (characters 0-5)\n",
            "text[7:18] = 'PROGRAMMING' (characters 7-17)\n",
            "text[0:3] = 'PYT'  (first 3 characters)\n",
            "text[15:18] = 'ING'  (last 3 characters)\n",
            "\n",
            "Omitting Indices:\n",
            "text[:6] = 'PYTHON'  (from start to index 6)\n",
            "text[7:] = 'PROGRAMMING' (from index 7 to end)\n",
            "text[:] = 'PYTHON PROGRAMMING'  (entire string)\n",
            "\n",
            "Negative Indices:\n",
            "text[-11:] = 'PROGRAMMING' (last 11 characters)\n",
            "text[:-11] = 'PYTHON ' (all except last 11)\n",
            "text[-11:-5] = 'PROGRA' (middle section)\n"
          ]
        }
      ]
    },
    {
      "cell_type": "markdown",
      "source": [
        "## Using Step Parameter"
      ],
      "metadata": {
        "id": "step"
      }
    },
    {
      "cell_type": "code",
      "source": [
        "# More examples with step\n",
        "numbers = \"0123456789\"\n",
        "print(numbers[::2])   # Output: 02468 (even positions)\n",
        "print(numbers[1::2])  # Output: 13579 (odd positions)\n",
        "print(numbers[2:8:2]) # Output: 246 (from index 2 to 7, step 2)"
      ],
      "metadata": {
        "id": "slicing_step",
        "colab": {
          "base_uri": "https://localhost:8080/"
        },
        "outputId": "14c4662c-1956-4594-bb51-6d548a1278f6"
      },
      "execution_count": null,
      "outputs": [
        {
          "output_type": "stream",
          "name": "stdout",
          "text": [
            "02468\n",
            "13579\n",
            "246\n"
          ]
        }
      ]
    },
    {
      "cell_type": "code",
      "source": [
        "# Reversing strings with step = -1\n",
        "text = \"PYTHON\"\n",
        "\n",
        "# Reverse entire string\n",
        "print(text[::-1])     # Output: NOHTYP\n",
        "\n",
        "# Reverse with step -2\n",
        "print(text[::-2])     # Output: NHY\n",
        "\n",
        "# Reverse a portion\n",
        "print(text[4:1:-1])   # Output: OHT"
      ],
      "metadata": {
        "id": "reverse",
        "colab": {
          "base_uri": "https://localhost:8080/"
        },
        "outputId": "5921edbe-74d1-4a05-caa6-f5ee67f172b5"
      },
      "execution_count": null,
      "outputs": [
        {
          "output_type": "stream",
          "name": "stdout",
          "text": [
            "NOHTYP\n",
            "NHY\n",
            "OHT\n"
          ]
        }
      ]
    },
    {
      "cell_type": "markdown",
      "source": [
        "---\n",
        "# Practice Exercises\n",
        "\n",
        "Try these exercises to test your understanding!"
      ],
      "metadata": {
        "id": "practice"
      }
    },
    {
      "cell_type": "code",
      "source": [
        "# Exercise 1: Create a lambda to calculate area of a circle\n",
        "# Formula: π * r²\n",
        "\n",
        "# Your code here\n",
        "area_circle = lambda r: 3.14159 * r ** 2\n",
        "\n",
        "# Test\n",
        "print(f\"Area of circle with radius 5: {area_circle(5):.2f}\")"
      ],
      "metadata": {
        "id": "ex1",
        "colab": {
          "base_uri": "https://localhost:8080/"
        },
        "outputId": "bb071553-a2f9-49b6-deaf-2d8df21e026d"
      },
      "execution_count": null,
      "outputs": [
        {
          "output_type": "stream",
          "name": "stdout",
          "text": [
            "Area of circle with radius 5: 78.54\n"
          ]
        }
      ]
    },
    {
      "cell_type": "code",
      "source": [
        "# Exercise 2: Create a lambda to check if a string is a palindrome\n",
        "\n",
        "# Your code here\n",
        "is_palindrome = lambda text: text.lower() == text.lower()[::-1]\n",
        "\n",
        "# Test\n",
        "print(is_palindrome(\"radar\"))  # True\n",
        "print(is_palindrome(\"hello\"))  # False\n",
        "print(is_palindrome(\"Level\"))  # True"
      ],
      "metadata": {
        "id": "ex2",
        "colab": {
          "base_uri": "https://localhost:8080/"
        },
        "outputId": "4c4ce1a9-e15d-46ad-92eb-2c3b5473f925"
      },
      "execution_count": null,
      "outputs": [
        {
          "output_type": "stream",
          "name": "stdout",
          "text": [
            "True\n",
            "False\n",
            "True\n"
          ]
        }
      ]
    },
    {
      "cell_type": "code",
      "source": [
        "# Exercise 3: Extract the middle character(s) from a string\n",
        "\n",
        "def get_middle(text):\n",
        "    length = len(text)\n",
        "    mid = length // 2\n",
        "    if length % 2 == 0:\n",
        "        return text[mid-1:mid+1]\n",
        "    else:\n",
        "        return text[mid]\n",
        "\n",
        "# Test\n",
        "print(get_middle(\"PYTHON\"))    # Output: TH\n",
        "print(get_middle(\"HELLO\"))     # Output: L\n",
        "print(get_middle(\"ABCD\"))      # Output: BC"
      ],
      "metadata": {
        "id": "ex3",
        "colab": {
          "base_uri": "https://localhost:8080/"
        },
        "outputId": "45f139aa-cfdc-4df6-8780-b6867f0d1fbb"
      },
      "execution_count": null,
      "outputs": [
        {
          "output_type": "stream",
          "name": "stdout",
          "text": [
            "TH\n",
            "L\n",
            "BC\n"
          ]
        }
      ]
    },
    {
      "cell_type": "code",
      "source": [
        "# Exercise 4: Create modular functions to validate an email\n",
        "\n",
        "def has_at(email):\n",
        "    return '@' in email\n",
        "\n",
        "def has_dot(email):\n",
        "    return '.' in email\n",
        "\n",
        "def is_valid_email(email):\n",
        "    return has_at(email) and has_dot(email) and len(email) >= 5\n",
        "\n",
        "# Test\n",
        "print(is_valid_email(\"user@example.com\"))  # True\n",
        "print(is_valid_email(\"invalid\"))           # False\n",
        "print(is_valid_email(\"test@.com\"))         # True"
      ],
      "metadata": {
        "id": "ex4",
        "colab": {
          "base_uri": "https://localhost:8080/"
        },
        "outputId": "70cdb4c2-01c7-4248-e239-3f5f992e467b"
      },
      "execution_count": null,
      "outputs": [
        {
          "output_type": "stream",
          "name": "stdout",
          "text": [
            "True\n",
            "False\n",
            "True\n"
          ]
        }
      ]
    },
    {
      "cell_type": "markdown",
      "source": [
        "---\n",
        "\n",
        "## 🔒 Part 7: String Immutability\n",
        "\n",
        "### What is Immutability?\n",
        "\n",
        "**Immutable** means \"cannot be changed\". In Python, strings are immutable - once created, they cannot be modified.\n",
        "\n",
        "### Why Does This Matter?\n",
        "\n",
        "1. **Safety** - Strings won't accidentally change\n",
        "2. **Memory efficiency** - Python can reuse identical strings\n",
        "3. **Predictability** - Code behavior is more reliable\n",
        "\n",
        "### What You CAN'T Do:\n",
        "- ❌ Change individual characters\n",
        "- ❌ Modify the string in place\n",
        "\n",
        "### What You CAN Do:\n",
        "- ✅ Create NEW strings\n",
        "- ✅ Assign new values to variables\n",
        "- ✅ Use string methods that return new strings"
      ],
      "metadata": {
        "id": "OHG_TV3E8c78"
      }
    },
    {
      "cell_type": "markdown",
      "source": [
        "### Example 1: Strings Cannot Be Modified"
      ],
      "metadata": {
        "id": "qF_yPcs78j2f"
      }
    },
    {
      "cell_type": "code",
      "source": [
        "# Attempt to modify a string (THIS WILL FAIL)\n",
        "text = \"Hello\"\n",
        "print(f\"Original: '{text}'\")\n",
        "\n",
        "try:\n",
        "    text[0] = 'J'  # Try to change 'H' to 'J'\n",
        "except TypeError as e:\n",
        "    print(f\"\\nError when trying to modify: {e}\")\n",
        "    print(\"This is because strings are IMMUTABLE!\")\n",
        "\n",
        "# The CORRECT way - create a new string\n",
        "print(\"\\nCorrect approach:\")\n",
        "new_text = 'J' + text[1:]  # Take 'J' + everything after first char\n",
        "print(f\"Original text: '{text}'  (unchanged)\")\n",
        "print(f\"New text: '{new_text}'     (new string created)\")"
      ],
      "metadata": {
        "colab": {
          "base_uri": "https://localhost:8080/"
        },
        "id": "9qy_XKdw8e5U",
        "outputId": "0154ef8c-73e2-4c0b-8754-8d2adb469edc"
      },
      "execution_count": null,
      "outputs": [
        {
          "output_type": "stream",
          "name": "stdout",
          "text": [
            "Original: 'Hello'\n",
            "\n",
            "Error when trying to modify: 'str' object does not support item assignment\n",
            "This is because strings are IMMUTABLE!\n",
            "\n",
            "Correct approach:\n",
            "Original text: 'Hello'  (unchanged)\n",
            "New text: 'Jello'     (new string created)\n"
          ]
        }
      ]
    },
    {
      "cell_type": "markdown",
      "source": [
        "---\n",
        "# Summary\n",
        "\n",
        "## Key Takeaways:\n",
        "\n",
        "1. **Lambda Functions**: Quick one-line functions for simple operations\n",
        "2. **Modular Programming**: Break problems into smaller, reusable functions\n",
        "3. **String Indexing**: Access individual characters using positive (0,1,2...) or negative (-1,-2,-3...) indices\n",
        "4. **String Slicing**: Extract substrings using `[start:stop:step]` notation\n",
        "5. **Remember**:\n",
        "   - Indexing starts at 0\n",
        "   - In slicing, start is included, stop is excluded\n",
        "   - Use `[::-1]` to reverse a string"
      ],
      "metadata": {
        "id": "summary"
      }
    }
  ]
}