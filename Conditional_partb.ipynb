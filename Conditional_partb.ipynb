{
  "nbformat": 4,
  "nbformat_minor": 0,
  "metadata": {
    "colab": {
      "provenance": [],
      "authorship_tag": "ABX9TyNkw6r35TAyTktQd6zKS75P",
      "include_colab_link": true
    },
    "kernelspec": {
      "name": "python3",
      "display_name": "Python 3"
    },
    "language_info": {
      "name": "python"
    }
  },
  "cells": [
    {
      "cell_type": "markdown",
      "metadata": {
        "id": "view-in-github",
        "colab_type": "text"
      },
      "source": [
        "<a href=\"https://colab.research.google.com/github/anupkunduabc/PROBLEM-SOLVING-AND-PYTHON-PROGRAMMING/blob/main/Conditional_partb.ipynb\" target=\"_parent\"><img src=\"https://colab.research.google.com/assets/colab-badge.svg\" alt=\"Open In Colab\"/></a>"
      ]
    },
    {
      "cell_type": "markdown",
      "source": [
        "# Simple if - Single condition check"
      ],
      "metadata": {
        "id": "3wkw9svtsAkJ"
      }
    },
    {
      "cell_type": "code",
      "source": [
        "print(\"WAY 1: Simple if statement\")\n",
        "num = 10\n",
        "if num > 5:\n",
        "    print(\"Number is greater than 5\")"
      ],
      "metadata": {
        "colab": {
          "base_uri": "https://localhost:8080/"
        },
        "id": "fggi863NsZ3j",
        "outputId": "3fac78cd-d166-4989-bac5-6c9c2dc5d1bd"
      },
      "execution_count": 4,
      "outputs": [
        {
          "output_type": "stream",
          "name": "stdout",
          "text": [
            "WAY 1: Simple if statement\n",
            "Number is greater than 5\n"
          ]
        }
      ]
    },
    {
      "cell_type": "code",
      "source": [
        "print(\"WAY 2: Check if equal\")\n",
        "name = \"Anun\"\n",
        "if name == \"Anun\":\n",
        "    print(\"Hello Anun!\")\n"
      ],
      "metadata": {
        "colab": {
          "base_uri": "https://localhost:8080/"
        },
        "id": "lIW8cC3XsksS",
        "outputId": "41475444-0203-40ae-df1a-34e23586909e"
      },
      "execution_count": 5,
      "outputs": [
        {
          "output_type": "stream",
          "name": "stdout",
          "text": [
            "WAY 2: Check if equal\n",
            "Hello Anun!\n"
          ]
        }
      ]
    },
    {
      "cell_type": "code",
      "source": [
        "print(\"WAY 3: Check multiple values with OR\")\n",
        "color = \"red\"\n",
        "if color == \"red\" or color == \"blue\":\n",
        "    print(\"Color is red or blue\")"
      ],
      "metadata": {
        "colab": {
          "base_uri": "https://localhost:8080/"
        },
        "id": "z1pGez7Ssn7y",
        "outputId": "ce07b5bb-e340-4775-a9d7-5a8530e2600d"
      },
      "execution_count": 6,
      "outputs": [
        {
          "output_type": "stream",
          "name": "stdout",
          "text": [
            "WAY 3: Check multiple values with OR\n",
            "Color is red or blue\n"
          ]
        }
      ]
    },
    {
      "cell_type": "code",
      "source": [
        "print(\"WAY 4: Check if number in range\")\n",
        "marks = 75\n",
        "if marks >= 60 and marks <= 100:\n",
        "    print(\"Marks are in valid range\")"
      ],
      "metadata": {
        "colab": {
          "base_uri": "https://localhost:8080/"
        },
        "id": "xRatcDGNsx5K",
        "outputId": "c72ab648-e84c-4539-e3bd-f82f8d778534"
      },
      "execution_count": 7,
      "outputs": [
        {
          "output_type": "stream",
          "name": "stdout",
          "text": [
            "WAY 4: Check if number in range\n",
            "Marks are in valid range\n"
          ]
        }
      ]
    },
    {
      "cell_type": "code",
      "source": [
        "print(\"WAY 5: Check if string contains character\")\n",
        "email = \"test@gmail.com\"\n",
        "if '@' in email:\n",
        "    print(\"Email has @ symbol\")\n",
        "print()"
      ],
      "metadata": {
        "colab": {
          "base_uri": "https://localhost:8080/"
        },
        "id": "v7xRW6kXtN4L",
        "outputId": "05abe38c-ef0b-4d3c-a9f2-1716186502e5"
      },
      "execution_count": 8,
      "outputs": [
        {
          "output_type": "stream",
          "name": "stdout",
          "text": [
            "WAY 5: Check if string contains character\n",
            "Email has @ symbol\n",
            "\n"
          ]
        }
      ]
    },
    {
      "cell_type": "markdown",
      "source": [
        "#if-else - Two options"
      ],
      "metadata": {
        "id": "Qpz9CcC1tThw"
      }
    },
    {
      "cell_type": "code",
      "source": [
        "print(\"WAY 6: if-else for two choices\")\n",
        "age = 16\n",
        "if age >= 18:\n",
        "    print(\"Adult\")\n",
        "else:\n",
        "    print(\"Minor\")\n",
        "print()"
      ],
      "metadata": {
        "colab": {
          "base_uri": "https://localhost:8080/"
        },
        "id": "WCaOyGiPtWdV",
        "outputId": "f50942ab-5f82-483b-ae24-891c16478096"
      },
      "execution_count": 9,
      "outputs": [
        {
          "output_type": "stream",
          "name": "stdout",
          "text": [
            "WAY 6: if-else for two choices\n",
            "Minor\n",
            "\n"
          ]
        }
      ]
    },
    {
      "cell_type": "code",
      "source": [
        "print(\"WAY 7: Check positive or negative\")\n",
        "number = -5\n",
        "if number >= 0:\n",
        "    print(\"Positive or Zero\")\n",
        "else:\n",
        "    print(\"Negative\")\n",
        "print()\n"
      ],
      "metadata": {
        "colab": {
          "base_uri": "https://localhost:8080/"
        },
        "id": "Zamg-UystY9S",
        "outputId": "42e5d383-db90-49f6-c916-851139beaed6"
      },
      "execution_count": 10,
      "outputs": [
        {
          "output_type": "stream",
          "name": "stdout",
          "text": [
            "WAY 7: Check positive or negative\n",
            "Negative\n",
            "\n"
          ]
        }
      ]
    },
    {
      "cell_type": "code",
      "source": [
        "print(\"WAY 8: Even or Odd check\")\n",
        "num = 7\n",
        "if num % 2 == 0:\n",
        "    print(\"Even number\")\n",
        "else:\n",
        "    print(\"Odd number\")\n",
        "print()"
      ],
      "metadata": {
        "colab": {
          "base_uri": "https://localhost:8080/"
        },
        "id": "AZDpdhSTtcJa",
        "outputId": "4c2622fe-e13b-482a-8b12-c2ce66dead8c"
      },
      "execution_count": 11,
      "outputs": [
        {
          "output_type": "stream",
          "name": "stdout",
          "text": [
            "WAY 8: Even or Odd check\n",
            "Odd number\n",
            "\n"
          ]
        }
      ]
    },
    {
      "cell_type": "code",
      "source": [
        "print(\"WAY 9: Compare two numbers\")\n",
        "a = 10\n",
        "b = 20\n",
        "if a > b:\n",
        "    print(\"a is greater\")\n",
        "else:\n",
        "    print(\"b is greater or equal\")\n",
        "print()"
      ],
      "metadata": {
        "colab": {
          "base_uri": "https://localhost:8080/"
        },
        "id": "Urzt45SvteN1",
        "outputId": "2f62614d-85ee-4179-fb35-8d7b3acd7711"
      },
      "execution_count": 12,
      "outputs": [
        {
          "output_type": "stream",
          "name": "stdout",
          "text": [
            "WAY 9: Compare two numbers\n",
            "b is greater or equal\n",
            "\n"
          ]
        }
      ]
    },
    {
      "cell_type": "code",
      "source": [
        "print(\"WAY 10: Simple password check\")\n",
        "password = \"1234\"\n",
        "if password == \"1234\":\n",
        "    print(\"Login successful\")\n",
        "else:\n",
        "    print(\"Wrong password\")\n",
        "print()\n"
      ],
      "metadata": {
        "colab": {
          "base_uri": "https://localhost:8080/"
        },
        "id": "0dH9YpOSthof",
        "outputId": "8805facf-acfe-48ad-9b59-6d8790522360"
      },
      "execution_count": 13,
      "outputs": [
        {
          "output_type": "stream",
          "name": "stdout",
          "text": [
            "WAY 10: Simple password check\n",
            "Login successful\n",
            "\n"
          ]
        }
      ]
    },
    {
      "cell_type": "code",
      "source": [
        "print(\"WAY 11: Three-way choice\")\n",
        "score = 85\n",
        "if score >= 90:\n",
        "    print(\"Grade: A\")\n",
        "elif score >= 75:\n",
        "    print(\"Grade: B\")\n",
        "else:\n",
        "    print(\"Grade: C\")\n",
        "print()"
      ],
      "metadata": {
        "colab": {
          "base_uri": "https://localhost:8080/"
        },
        "id": "FvKI_Y_qtj8K",
        "outputId": "63ec9b17-be7b-4b7c-8636-5b466618af43"
      },
      "execution_count": 14,
      "outputs": [
        {
          "output_type": "stream",
          "name": "stdout",
          "text": [
            "WAY 11: Three-way choice\n",
            "Grade: B\n",
            "\n"
          ]
        }
      ]
    },
    {
      "cell_type": "code",
      "source": [
        "print(\"WAY 12: Age group categories\")\n",
        "age = 15\n",
        "if age < 13:\n",
        "    print(\"Child\")\n",
        "elif age < 18:\n",
        "    print(\"Teenager\")\n",
        "else:\n",
        "    print(\"Adult\")\n",
        "print()"
      ],
      "metadata": {
        "colab": {
          "base_uri": "https://localhost:8080/"
        },
        "id": "a8QdD1ZKtmda",
        "outputId": "b71dcc19-9c1e-4a80-b8d1-b453592b3307"
      },
      "execution_count": 15,
      "outputs": [
        {
          "output_type": "stream",
          "name": "stdout",
          "text": [
            "WAY 12: Age group categories\n",
            "Teenager\n",
            "\n"
          ]
        }
      ]
    },
    {
      "cell_type": "markdown",
      "source": [
        "#if-elif-else"
      ],
      "metadata": {
        "id": "ohfVtAuVtrA7"
      }
    },
    {
      "cell_type": "code",
      "source": [
        "print(\"WAY 13: Traffic light signals\")\n",
        "light = \"yellow\"\n",
        "if light == \"green\":\n",
        "    print(\"Go\")\n",
        "elif light == \"yellow\":\n",
        "    print(\"Slow down\")\n",
        "else:\n",
        "    print(\"Stop\")\n",
        "print()"
      ],
      "metadata": {
        "colab": {
          "base_uri": "https://localhost:8080/"
        },
        "id": "xihPTOwhtyVU",
        "outputId": "dea7ca67-24e2-41d5-d891-d00c25bf8ef7"
      },
      "execution_count": 16,
      "outputs": [
        {
          "output_type": "stream",
          "name": "stdout",
          "text": [
            "WAY 13: Traffic light signals\n",
            "Slow down\n",
            "\n"
          ]
        }
      ]
    },
    {
      "cell_type": "code",
      "source": [
        "print(\"WAY 14: Detailed grade system\")\n",
        "marks = 65\n",
        "if marks >= 90:\n",
        "    print(\"Excellent\")\n",
        "elif marks >= 75:\n",
        "    print(\"Good\")\n",
        "elif marks >= 60:\n",
        "    print(\"Average\")\n",
        "else:\n",
        "    print(\"Fail\")\n",
        "print()"
      ],
      "metadata": {
        "colab": {
          "base_uri": "https://localhost:8080/"
        },
        "id": "kx7HR2J2t0E8",
        "outputId": "5b5255f4-6d1a-4b4e-caa1-ecda355aaccd"
      },
      "execution_count": 17,
      "outputs": [
        {
          "output_type": "stream",
          "name": "stdout",
          "text": [
            "WAY 14: Detailed grade system\n",
            "Average\n",
            "\n"
          ]
        }
      ]
    },
    {
      "cell_type": "code",
      "source": [
        "print(\"WAY 15: Temperature categories\")\n",
        "temp = 25\n",
        "if temp > 30:\n",
        "    print(\"Hot\")\n",
        "elif temp > 20:\n",
        "    print(\"Warm\")\n",
        "else:\n",
        "    print(\"Cold\")\n",
        "print()"
      ],
      "metadata": {
        "colab": {
          "base_uri": "https://localhost:8080/"
        },
        "id": "VZWoiOLlt4NT",
        "outputId": "29ddc0ca-2a6b-4333-da77-ad003ba33260"
      },
      "execution_count": 18,
      "outputs": [
        {
          "output_type": "stream",
          "name": "stdout",
          "text": [
            "WAY 15: Temperature categories\n",
            "Warm\n",
            "\n"
          ]
        }
      ]
    },
    {
      "cell_type": "markdown",
      "source": [
        " # Nested if"
      ],
      "metadata": {
        "id": "KgVPVigkuFCj"
      }
    },
    {
      "cell_type": "code",
      "source": [
        "print(\"WAY 16: Nested if - Positive and Even\")\n",
        "num = 8\n",
        "if num > 0:\n",
        "    print(\"Positive number\")\n",
        "    if num % 2 == 0:\n",
        "        print(\"Also even\")\n",
        "print()"
      ],
      "metadata": {
        "colab": {
          "base_uri": "https://localhost:8080/"
        },
        "id": "qavxX-l7t6DK",
        "outputId": "e1d4e095-dc1a-4538-9d6e-d578abe25832"
      },
      "execution_count": 19,
      "outputs": [
        {
          "output_type": "stream",
          "name": "stdout",
          "text": [
            "WAY 16: Nested if - Positive and Even\n",
            "Positive number\n",
            "Also even\n",
            "\n"
          ]
        }
      ]
    },
    {
      "cell_type": "markdown",
      "source": [
        " # Nested if-else"
      ],
      "metadata": {
        "id": "ogPKyzXMuJM6"
      }
    },
    {
      "cell_type": "code",
      "source": [
        "print(\"WAY 17: Nested if-else - Voting eligibility\")\n",
        "age = 20\n",
        "has_id = True\n",
        "if age >= 18:\n",
        "    if has_id:\n",
        "        print(\"Can vote\")\n",
        "    else:\n",
        "        print(\"Need ID\")\n",
        "else:\n",
        "    print(\"Too young\")\n",
        "print()"
      ],
      "metadata": {
        "colab": {
          "base_uri": "https://localhost:8080/"
        },
        "id": "SHsCa0y2t71Y",
        "outputId": "05cecbf4-af93-4a61-d53f-290e053ea909"
      },
      "execution_count": 20,
      "outputs": [
        {
          "output_type": "stream",
          "name": "stdout",
          "text": [
            "WAY 17: Nested if-else - Voting eligibility\n",
            "Can vote\n",
            "\n"
          ]
        }
      ]
    },
    {
      "cell_type": "markdown",
      "source": [
        "#  Nested"
      ],
      "metadata": {
        "id": "hMH03DcPuOgX"
      }
    },
    {
      "cell_type": "code",
      "source": [
        "print(\"WAY 18: Nested - Admission check\")\n",
        "marks = 80\n",
        "attendance = 90\n",
        "if marks >= 75:\n",
        "    if attendance >= 85:\n",
        "        print(\"Admitted\")\n",
        "    else:\n",
        "        print(\"Low attendance\")\n",
        "else:\n",
        "    print(\"Low marks\")\n",
        "print()"
      ],
      "metadata": {
        "colab": {
          "base_uri": "https://localhost:8080/"
        },
        "id": "YiBkQBwnuCWu",
        "outputId": "5bc011b3-72b7-47ec-8e2f-703c6c067628"
      },
      "execution_count": 21,
      "outputs": [
        {
          "output_type": "stream",
          "name": "stdout",
          "text": [
            "WAY 18: Nested - Admission check\n",
            "Admitted\n",
            "\n"
          ]
        }
      ]
    },
    {
      "cell_type": "code",
      "source": [
        "print(\"WAY 19: Nested - Grade with attendance\")\n",
        "marks = 85\n",
        "attendance = 80\n",
        "if marks >= 60:\n",
        "    if attendance >= 75:\n",
        "        print(\"Pass with good attendance\")\n",
        "    else:\n",
        "        print(\"Pass but low attendance\")\n",
        "else:\n",
        "    print(\"Fail\")\n",
        "print()"
      ],
      "metadata": {
        "colab": {
          "base_uri": "https://localhost:8080/"
        },
        "id": "W5R-_K4AuTFi",
        "outputId": "ba5a28e8-9b3a-476d-c1b8-e04b54a8f901"
      },
      "execution_count": 22,
      "outputs": [
        {
          "output_type": "stream",
          "name": "stdout",
          "text": [
            "WAY 19: Nested - Grade with attendance\n",
            "Pass with good attendance\n",
            "\n"
          ]
        }
      ]
    },
    {
      "cell_type": "code",
      "source": [
        "print(\"WAY 20: Multiple level nesting\")\n",
        "num = 12\n",
        "if num > 0:\n",
        "    if num > 10:\n",
        "        if num % 2 == 0:\n",
        "            print(\"Positive, greater than 10, and even\")\n",
        "        else:\n",
        "            print(\"Positive, greater than 10, and odd\")\n",
        "    else:\n",
        "        print(\"Positive but not greater than 10\")\n",
        "else:\n",
        "    print(\"Not positive\")\n",
        "print()"
      ],
      "metadata": {
        "colab": {
          "base_uri": "https://localhost:8080/"
        },
        "id": "Rv6_VSX7uV7J",
        "outputId": "20c92a16-f700-4029-84a3-96a6805b65e5"
      },
      "execution_count": 23,
      "outputs": [
        {
          "output_type": "stream",
          "name": "stdout",
          "text": [
            "WAY 20: Multiple level nesting\n",
            "Positive, greater than 10, and even\n",
            "\n"
          ]
        }
      ]
    }
  ]
}