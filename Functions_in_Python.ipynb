{
  "cells": [
    {
      "cell_type": "markdown",
      "metadata": {
        "id": "view-in-github",
        "colab_type": "text"
      },
      "source": [
        "<a href=\"https://colab.research.google.com/github/anupkunduabc/PROBLEM-SOLVING-AND-PYTHON-PROGRAMMING/blob/main/Functions_in_Python.ipynb\" target=\"_parent\"><img src=\"https://colab.research.google.com/assets/colab-badge.svg\" alt=\"Open In Colab\"/></a>"
      ]
    },
    {
      "cell_type": "markdown",
      "id": "a467076b",
      "metadata": {
        "id": "a467076b"
      },
      "source": [
        "\n",
        "# 🧠 Functions in Python\n",
        "---\n",
        "### UGE3188 - Problem Solving and Python Programming  \n",
        "**Instructor:** Dr. Anup Kundu  \n",
        "Assistant Professor, Department of Chemical Engineering  \n",
        "Sri Sivasubramaniya Nadar College of Engineering  \n",
        "\n",
        "This Google Colab notebook allows you to **learn, run, and modify** Python code related to functions step by step.  \n",
        "You’ll explore function creation, local and global scope, argument types, and common mistakes through clear explanations and examples.\n"
      ]
    },
    {
      "cell_type": "markdown",
      "id": "a1a35f3f",
      "metadata": {
        "id": "a1a35f3f"
      },
      "source": [
        "\n",
        "## 🧱 1. Introduction to Functions\n",
        "Functions are **reusable blocks of code** designed to perform specific tasks.  \n",
        "They help break large problems into smaller, manageable pieces.\n",
        "\n",
        "### 🔹 Real-life analogy\n",
        "- A **coffee machine**: input (beans, water) → output (coffee)  \n",
        "- A **calculator**: input (numbers) → output (result)  \n",
        "- A **recipe**: input (ingredients) → output (dish)\n",
        "### 🔹 Function Syntax\n",
        "```python\n",
        "def function_name(parameters):\n",
        "    \"\"\"Docstring that explains what the function does\"\"\"\n",
        "    # Code block\n",
        "    return result  # optional\n",
        "```\n",
        "\n",
        "# 🍳 Real-Life Analogy: A Recipe\n",
        "\n",
        "The best analogy for a Python function is a **well-defined, reusable recipe**.\n",
        "\n",
        "---\n",
        "\n",
        "## 1. Function Definition = The Recipe Card\n",
        "\n",
        "| **Python Function Part** | **Recipe Analogy** | **Explanation** |\n",
        "|---------------------------|--------------------|-----------------|\n",
        "| `def function_name(parameters):` | The Recipe Title and Ingredient List | The title (function name) tells you what the task is. The ingredients (parameters) are the inputs you need to perform the task. |\n",
        "| **Function Body (Indented Code)** | The Step-by-Step Instructions | This is the specific block of actions (mix, bake, chop) that must be performed in order. |\n",
        "| `return result` | The Final Dish | This is the output you get at the end (cake, bread, etc.). The recipe gives you this result back. |\n",
        "\n",
        "---\n",
        "\n",
        "## 2. Reusability (The Core Benefit)\n",
        "\n",
        "Just like code, you don’t rewrite the recipe every time you want the dish.  \n",
        "\n",
        "**Task:** You want to make a batch of cookies every week.  \n",
        "\n",
        "- **Without Functions/Recipes:** You would have to remember and write down “Add 1 cup of flour, 1 egg, ½ cup sugar…” every single time.  \n",
        "- **With Functions/Recipes:** You simply say, *“Execute the `make_cookie()` function (i.e., follow the recipe for Chocolate Chip Cookies).”*  \n",
        "  You use the same set of instructions over and over, changing only the arguments (e.g., swapping chocolate chips for M&Ms).\n",
        "\n",
        "---\n",
        "\n",
        "## 3. Breaking Down Problems (Modularity)\n",
        "\n",
        "Functions also help break a complex problem (like preparing a multi-course dinner) into smaller, manageable tasks.  \n",
        "\n",
        "Instead of one giant `prepare_dinner()` script, you have three smaller functions:\n",
        "\n",
        "### 🔹 Function Syntax\n",
        "```python\n",
        "def function_name(parameters):\n",
        "    \"\"\"Docstring that explains what the function does\"\"\"\n",
        "    # Code block\n",
        "    return result  # optional\n",
        "````\n",
        "\n",
        "\n",
        "\n",
        "\n",
        "\n",
        "**Parts of a Function:**\n",
        "- `def`: keyword to define a function and its marks the start of the function definition.  \n",
        "- `function_name`: descriptive name, A unique name that follows standard Python naming rules.  \n",
        "- `()`: Parentheses used to hold any input parameters.\n",
        "- `parameters`: data passed to the function  \n",
        "- `:`: A colon that signifies the end of the function header.\n",
        "\n",
        "- `return`: sends result back  \n",
        "- `docstring`: explains purpose of function. An optional string right after the header, used to document the function's purpose.\n",
        "- `Indentation`: All code belonging to the function must be indented (typically 4 spaces)"
      ]
    },
    {
      "cell_type": "code",
      "source": [
        "# The 'def' keyword starts the function definition.\n",
        "# 'square_number' is the name of the function.\n",
        "# 'num' is the parameter (the input value the function expects).\n",
        "def square_number(num):\n",
        "    \"\"\"\n",
        "    Docstring: This function calculates the square of a given number.\n",
        "    \"\"\"\n",
        "\n",
        "    # This line calculates the square (num multiplied by itself) and\n",
        "    # stores it in a variable called 'result'.\n",
        "    result = num * num\n",
        "\n",
        "    # The 'return' statement sends the value of 'result' back to\n",
        "    # the part of the code that called the function.\n",
        "    return result\n",
        "\n",
        "# --- How to call the function ---\n",
        "\n",
        "# 1. We call the function and pass the argument '5'.\n",
        "# The function runs, and the returned value (25) is stored in 'squared_value'.\n",
        "squared_value = square_number(5)\n",
        "\n",
        "# 2. We print the result.\n",
        "print(f\"The square of 5 is: {squared_value}\")\n",
        "# Output: The square of 5 is: 25\n",
        "\n",
        "# 3. We can also call it and print the result directly.\n",
        "print(f\"The square of 10 is: {square_number(10)}\")\n",
        "# Output: The square of 10 is: 100"
      ],
      "metadata": {
        "id": "ElvJqOiVtup9"
      },
      "id": "ElvJqOiVtup9",
      "execution_count": null,
      "outputs": []
    },
    {
      "cell_type": "markdown",
      "source": [
        "# Example without function - repetitive"
      ],
      "metadata": {
        "id": "yFO4ay6hvKxs"
      },
      "id": "yFO4ay6hvKxs"
    },
    {
      "cell_type": "code",
      "execution_count": null,
      "id": "673fd740",
      "metadata": {
        "id": "673fd740"
      },
      "outputs": [],
      "source": [
        "# Example without function - repetitive\n",
        "length1, width1 = 10, 5\n",
        "area1 = length1 * width1\n",
        "print(\"Area 1:\", area1)\n",
        "\n",
        "length2, width2 = 8, 6\n",
        "area2 = length2 * width2\n",
        "print(\"Area 2:\", area2)\n",
        "\n",
        "length3, width3 = 12, 4\n",
        "area3 = length3 * width3\n",
        "print(\"Area 3:\", area3)"
      ]
    },
    {
      "cell_type": "markdown",
      "source": [
        "# Example with function - reusable and clean"
      ],
      "metadata": {
        "id": "-Z1I9hmSvNEN"
      },
      "id": "-Z1I9hmSvNEN"
    },
    {
      "cell_type": "code",
      "execution_count": null,
      "id": "9b9071e6",
      "metadata": {
        "id": "9b9071e6"
      },
      "outputs": [],
      "source": [
        "# Example with function - reusable and clean\n",
        "def calculate_area(length, width):\n",
        "    \"\"\"Calculates area of a rectangle\"\"\"\n",
        "    area = length * width\n",
        "    #print(\"Area:\", area)\n",
        "    return area\n",
        "\n",
        "print(\"Area 1:\", calculate_area(10, 5))\n",
        "print(\"Area 2:\", calculate_area(8, 6))\n",
        "print(\"Area 3:\", calculate_area(12, 4))"
      ]
    },
    {
      "cell_type": "markdown",
      "id": "01b232d5",
      "metadata": {
        "id": "01b232d5"
      },
      "source": [
        "\n",
        "## 🧭 2. Flow of Function Execution\n",
        "1. Function is **defined**\n",
        "2. Function is **called**\n",
        "3. Parameters are **passed**\n",
        "4. Function body **executes**\n",
        "5. If `return` exists, value is **sent back**\n",
        "\n",
        "### Example Problem: Greeting Function\n",
        "Write a function that greets a person by name.\n"
      ]
    },
    {
      "cell_type": "code",
      "execution_count": null,
      "id": "4059a3aa",
      "metadata": {
        "id": "4059a3aa"
      },
      "outputs": [],
      "source": [
        "def greet_person(name):\n",
        "    \"\"\"Greets a person by name\"\"\"\n",
        "    print(f\"Hello, {name}!\")\n",
        "    print(\"Welcome to Python programming!\")\n",
        "\n",
        "# Function calls\n",
        "greet_person(\"Alice\")\n",
        "greet_person(\"Bob\")\n",
        "greet_person(\"Charlie\")"
      ]
    },
    {
      "cell_type": "markdown",
      "id": "e1f7ffd9",
      "metadata": {
        "id": "e1f7ffd9"
      },
      "source": [
        "\n",
        "## ➕ 3. Function with Return Value\n",
        "A function can calculate something and **return** the result.\n"
      ]
    },
    {
      "cell_type": "code",
      "execution_count": null,
      "id": "76977921",
      "metadata": {
        "id": "76977921"
      },
      "outputs": [],
      "source": [
        "def add_numbers(a, b):\n",
        "    \"\"\"Returns the sum of two numbers\"\"\"\n",
        "    result = a + b\n",
        "    return result\n",
        "\n",
        "sum1 = add_numbers(5, 3)\n",
        "sum2 = add_numbers(10, 20)\n",
        "\n",
        "print(f\"5 + 3 = {sum1}\")\n",
        "print(f\"10 + 20 = {sum2}\")\n",
        "total = add_numbers(7, 8) + add_numbers(2, 3)\n",
        "print(f\"Total = {total}\")"
      ]
    },
    {
      "cell_type": "markdown",
      "id": "44feaa28",
      "metadata": {
        "id": "44feaa28"
      },
      "source": [
        "\n",
        "## 🔒 4. Understanding Local Scope\n",
        "Variables created inside a function are **local** to that function.  \n",
        "They cannot be accessed outside the function.\n"
      ]
    },
    {
      "cell_type": "code",
      "execution_count": null,
      "id": "fc41a829",
      "metadata": {
        "id": "fc41a829"
      },
      "outputs": [],
      "source": [
        "def calculate_price():\n",
        "    # Local variables\n",
        "    price = 100\n",
        "    tax = 0.18\n",
        "    total = price + (price * tax)\n",
        "    print(f\"Inside function - Total: {total}\")\n",
        "    return total\n",
        "\n",
        "result = calculate_price()\n",
        "print(\"Returned value:\", result)\n",
        "\n",
        "# Uncomment below to see the error\n",
        "print(price)"
      ]
    },
    {
      "cell_type": "markdown",
      "id": "198bef8d",
      "metadata": {
        "id": "198bef8d"
      },
      "source": [
        "\n",
        "## 🌍 5. Global Scope\n",
        "Variables declared **outside** any function are **global**.  \n",
        "They can be accessed anywhere in the program.\n"
      ]
    },
    {
      "cell_type": "code",
      "execution_count": null,
      "id": "c7b91c12",
      "metadata": {
        "id": "c7b91c12"
      },
      "outputs": [],
      "source": [
        "school_name = \"SSN College\"\n",
        "total_students = 1000\n",
        "\n",
        "def display_info():\n",
        "    print(f\"School: {school_name}\")\n",
        "    print(f\"Students: {total_students}\")\n",
        "\n",
        "def calculate_ratio():\n",
        "    ratio = total_students / 10\n",
        "    print(f\"Student-Faculty Ratio: {ratio}\")\n",
        "\n",
        "display_info()\n",
        "calculate_ratio()\n",
        "print(f\"Accessing global variable directly: {school_name}\")"
      ]
    },
    {
      "cell_type": "markdown",
      "id": "6d248c6b",
      "metadata": {
        "id": "6d248c6b"
      },
      "source": [
        "\n",
        "## ⚖️ 6. Local vs Global Variables and Shadowing\n",
        "When a local variable has the **same name** as a global variable, it hides (or *shadows*) the global one.\n"
      ]
    },
    {
      "cell_type": "code",
      "execution_count": null,
      "id": "d42fbcdf",
      "metadata": {
        "id": "d42fbcdf"
      },
      "outputs": [],
      "source": [
        "message = \"Global message\"\n",
        "\n",
        "def display_message():\n",
        "    message = \"Local message\"\n",
        "    print(\"Inside function:\", message)\n",
        "\n",
        "display_message()\n",
        "print(\"Outside function:\", message)"
      ]
    },
    {
      "cell_type": "markdown",
      "id": "0b3f626f",
      "metadata": {
        "id": "0b3f626f"
      },
      "source": [
        "\n",
        "### Modifying Global Variables\n",
        "To change a global variable inside a function, use the `global` keyword.\n"
      ]
    },
    {
      "cell_type": "code",
      "execution_count": null,
      "id": "75173567",
      "metadata": {
        "id": "75173567"
      },
      "outputs": [],
      "source": [
        "counter = 0\n",
        "\n",
        "def increment():\n",
        "    global counter\n",
        "    counter += 1\n",
        "    print(\"Counter:\", counter)\n",
        "\n",
        "increment()\n",
        "increment()\n",
        "print(\"Final Counter Value:\", counter)"
      ]
    },
    {
      "cell_type": "markdown",
      "id": "7ca1c15a",
      "metadata": {
        "id": "7ca1c15a"
      },
      "source": [
        "\n",
        "## 🧩 7. Methods of Passing Arguments\n",
        "Python allows arguments to be passed in **three** main ways:\n",
        "\n",
        "| Method | Description | Example |\n",
        "|:-------|:-------------|:---------|\n",
        "| Positional | Matched by position | `greet(\"Alice\", 25)` |\n",
        "| Keyword | Matched by name | `greet(age=25, name=\"Alice\")` |\n",
        "| Default | Optional value | `greet(\"Alice\")` |\n"
      ]
    },
    {
      "cell_type": "code",
      "execution_count": null,
      "id": "50766f33",
      "metadata": {
        "id": "50766f33",
        "colab": {
          "base_uri": "https://localhost:8080/"
        },
        "outputId": "c64485b0-97ef-4628-853d-ca39a4036722"
      },
      "outputs": [
        {
          "output_type": "stream",
          "name": "stdout",
          "text": [
            "Length: 10, Width: 5, Area: 50\n",
            "Length: 5, Width: 10, Area: 50\n"
          ]
        }
      ],
      "source": [
        "# 1️⃣ Positional Arguments\n",
        "def calculate_rectangle_area(length, width):\n",
        "    area = length * width\n",
        "    print(f\"Length: {length}, Width: {width}, Area: {area}\")\n",
        "\n",
        "calculate_rectangle_area(10, 5)\n",
        "calculate_rectangle_area(5, 10)"
      ]
    },
    {
      "cell_type": "code",
      "execution_count": null,
      "id": "3b7c158c",
      "metadata": {
        "id": "3b7c158c",
        "colab": {
          "base_uri": "https://localhost:8080/"
        },
        "outputId": "f05d2aca-2c6b-4768-ea04-13f95c1dc184"
      },
      "outputs": [
        {
          "output_type": "stream",
          "name": "stdout",
          "text": [
            "Passenger: Alice, Destination: Mumbai, Seat: Window\n",
            "Passenger: Alice, Destination: Mumbai, Seat: Window\n",
            "Passenger: Bob, Destination: Delhi, Seat: Aisle\n"
          ]
        }
      ],
      "source": [
        "# 2️⃣ Keyword Arguments\n",
        "def book_ticket(name, destination, seat_type):\n",
        "    print(f\"Passenger: {name}, Destination: {destination}, Seat: {seat_type}\")\n",
        "\n",
        "book_ticket(\"Alice\", \"Mumbai\", \"Window\")\n",
        "book_ticket(name=\"Alice\", destination=\"Mumbai\", seat_type=\"Window\")\n",
        "book_ticket(destination=\"Delhi\", seat_type=\"Aisle\", name=\"Bob\")"
      ]
    },
    {
      "cell_type": "code",
      "execution_count": null,
      "id": "3347e550",
      "metadata": {
        "id": "3347e550",
        "colab": {
          "base_uri": "https://localhost:8080/"
        },
        "outputId": "1872636a-af57-48bf-8395-20e676d83cd8"
      },
      "outputs": [
        {
          "output_type": "stream",
          "name": "stdout",
          "text": [
            "5^2 = 25\n",
            "5^3 = 125\n",
            "2^10 = 1024\n"
          ]
        }
      ],
      "source": [
        "# 3️⃣ Default Arguments\n",
        "def calculate_power(base, exponent=2):\n",
        "    result = base ** exponent\n",
        "    print(f\"{base}^{exponent} = {result}\")\n",
        "\n",
        "calculate_power(5)\n",
        "calculate_power(5, 3)\n",
        "calculate_power(2, 10)"
      ]
    },
    {
      "cell_type": "markdown",
      "source": [
        "#Function with Default Arguments"
      ],
      "metadata": {
        "id": "JEyqDt-ZuTwE"
      },
      "id": "JEyqDt-ZuTwE"
    },
    {
      "cell_type": "code",
      "source": [
        "# 'greeting_word=\"Hello\"' means if no argument is passed for this parameter,\n",
        "# it will default to the string \"Hello\".\n",
        "def custom_greeting(name, greeting_word=\"Hello\"):\n",
        "    \"\"\"\n",
        "    This function prints a personalized greeting.\n",
        "    \"\"\"\n",
        "\n",
        "    # We combine the greeting word, the name, and a punctuation mark.\n",
        "    full_message = f\"{greeting_word}, {name}!\"\n",
        "\n",
        "    # We use 'print' inside the function to display the message.\n",
        "    # Note: This function doesn't use 'return'; it implicitly returns None.\n",
        "    print(full_message)\n",
        "\n",
        "# --- How to call the function ---\n",
        "\n",
        "# **Case A: Using the default argument**\n",
        "# Only one argument (\"Maria\") is passed.\n",
        "# The function uses the default \"Hello\" for the greeting_word.\n",
        "custom_greeting(\"Maria\")\n",
        "# Output: Hello, Maria!\n",
        "\n",
        "# **Case B: Overriding the default argument**\n",
        "# Two arguments (\"Juan\", \"Welcome\") are passed.\n",
        "# The default \"Hello\" is ignored, and \"Welcome\" is used instead.\n",
        "custom_greeting(\"Juan\", \"Welcome\")\n",
        "# Output: Welcome, Juan!"
      ],
      "metadata": {
        "id": "1C9sxzbXt80T"
      },
      "id": "1C9sxzbXt80T",
      "execution_count": null,
      "outputs": []
    },
    {
      "cell_type": "markdown",
      "source": [
        "#Function with Multiple Parameters and Conditional Logic"
      ],
      "metadata": {
        "id": "tmh4RLBTuPIL"
      },
      "id": "tmh4RLBTuPIL"
    },
    {
      "cell_type": "code",
      "source": [
        "# The function expects two arguments, 'a' and 'b'.\n",
        "def compare_numbers(a, b):\n",
        "    \"\"\"\n",
        "    This function compares two numbers and prints which one is greater.\n",
        "    \"\"\"\n",
        "\n",
        "    # Start of the conditional check: Is 'a' greater than 'b'?\n",
        "    if a > b:\n",
        "        # If the condition is True, execute this indented block.\n",
        "        print(f\"{a} is greater than {b}.\")\n",
        "\n",
        "    # Otherwise (if a is not greater than b)...\n",
        "    else:\n",
        "        # Execute this indented block.\n",
        "        # (This covers cases where b > a or a == b)\n",
        "        print(f\"{b} is greater than or equal to {a}.\")\n",
        "\n",
        "# --- How to call the function ---\n",
        "\n",
        "# 1. First call: a=20, b=15. The 'if' condition (20 > 15) is True.\n",
        "print(\"Comparing 20 and 15:\")\n",
        "compare_numbers(20, 15)\n",
        "# Output: 20 is greater than 15.\n",
        "\n",
        "# 2. Second call: a=7, b=11. The 'if' condition (7 > 11) is False, so 'else' runs.\n",
        "print(\"\\nComparing 7 and 11:\") # \\n adds a new line for spacing\n",
        "compare_numbers(7, 11)\n",
        "# Output: 11 is greater than or equal to 7."
      ],
      "metadata": {
        "id": "n6osUQtnuDGr"
      },
      "id": "n6osUQtnuDGr",
      "execution_count": null,
      "outputs": []
    },
    {
      "cell_type": "markdown",
      "source": [
        "## ❌ 9. Common Mistakes and Fixes\n",
        "Here are frequent errors when defining or calling functions."
      ],
      "metadata": {
        "id": "Dw8EGb91rOYl"
      },
      "id": "Dw8EGb91rOYl"
    },
    {
      "cell_type": "code",
      "source": [
        "# Mistake: Missing return\n",
        "def add(a, b):\n",
        "    result = a + b\n",
        "    # No return statement!\n",
        "\n",
        "print(add(5, 3))  # Output: None\n",
        "\n",
        "# Correct version\n",
        "def add_fixed(a, b):\n",
        "    return a + b\n",
        "\n",
        "print(add_fixed(5, 3))"
      ],
      "metadata": {
        "id": "I8sdLQLLrTak"
      },
      "id": "I8sdLQLLrTak",
      "execution_count": null,
      "outputs": []
    },
    {
      "cell_type": "markdown",
      "id": "688d57e1",
      "metadata": {
        "id": "688d57e1"
      },
      "source": [
        "\n",
        "## 🧠 10. Practice Exercises\n",
        "Try these to strengthen your understanding:\n",
        "\n",
        "1️⃣ Write a function `gpa_calc(internal, external)` that returns total marks and grade.  \n",
        "2️⃣ Write a function to calculate **simple interest** given P, T, and R.  \n"
      ]
    },
    {
      "cell_type": "code",
      "execution_count": null,
      "id": "bade9410",
      "metadata": {
        "id": "bade9410"
      },
      "outputs": [],
      "source": [
        "# ✏️ Write your own solutions here"
      ]
    }
  ],
  "metadata": {
    "colab": {
      "provenance": [],
      "include_colab_link": true
    },
    "language_info": {
      "name": "python"
    },
    "kernelspec": {
      "name": "python3",
      "display_name": "Python 3"
    }
  },
  "nbformat": 4,
  "nbformat_minor": 5
}